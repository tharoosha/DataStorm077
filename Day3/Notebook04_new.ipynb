{
 "cells": [
  {
   "cell_type": "code",
   "execution_count": 1,
   "id": "82cb680e",
   "metadata": {
    "ExecuteTime": {
     "end_time": "2023-04-26T19:36:25.092410Z",
     "start_time": "2023-04-26T19:36:24.866010Z"
    }
   },
   "outputs": [],
   "source": [
    "import numpy as np\n",
    "import seaborn as sns\n",
    "import pandas as pd\n",
    "import matplotlib.pyplot as plt"
   ]
  },
  {
   "cell_type": "code",
   "execution_count": 2,
   "id": "455bece8",
   "metadata": {
    "ExecuteTime": {
     "end_time": "2023-04-26T19:36:25.795020Z",
     "start_time": "2023-04-26T19:36:24.881674Z"
    }
   },
   "outputs": [],
   "source": [
    "HistTrans=pd.read_csv('D:\\Files\\PycharmProjects\\data_storm_4\\DataStorm077\\data-storm-4\\Historical-transaction-data.csv')\n",
    "StoreInfo = pd.read_csv('D:\\Files\\PycharmProjects\\data_storm_4\\DataStorm077\\data-storm-4\\Store-info.csv')\n",
    "Test = pd.read_csv('D:\\Files\\PycharmProjects\\data_storm_4\\DataStorm077\\data-storm-4\\Testing-data.csv')"
   ]
  },
  {
   "cell_type": "code",
   "execution_count": 3,
   "id": "1a96e3ae",
   "metadata": {},
   "outputs": [],
   "source": [
    "# freq_df = df.groupby(['shop_id', 'item_price'])['item_description'].agg(lambda x:x.value_counts().index(0)).reset_index()"
   ]
  },
  {
   "cell_type": "code",
   "execution_count": 4,
   "id": "24292e9e",
   "metadata": {},
   "outputs": [],
   "source": [
    "# freq_df"
   ]
  },
  {
   "cell_type": "code",
   "execution_count": 5,
   "id": "96c8b0d0",
   "metadata": {
    "ExecuteTime": {
     "end_time": "2023-04-26T19:36:25.795020Z",
     "start_time": "2023-04-26T19:36:25.497926Z"
    }
   },
   "outputs": [],
   "source": [
    "col1_min = HistTrans['item_price'].min()\n",
    "col1_max = HistTrans['item_price'].max()\n",
    "\n",
    "col2_min = HistTrans['quantity_sold'].min()\n",
    "col2_max = HistTrans['quantity_sold'].max()"
   ]
  },
  {
   "cell_type": "code",
   "execution_count": 6,
   "id": "c415e04f",
   "metadata": {
    "ExecuteTime": {
     "end_time": "2023-04-26T19:36:25.795020Z",
     "start_time": "2023-04-26T19:36:25.542986Z"
    }
   },
   "outputs": [],
   "source": [
    "HistTrans = HistTrans[HistTrans['quantity_sold'] > 0]"
   ]
  },
  {
   "cell_type": "code",
   "execution_count": 7,
   "id": "b73f61dc",
   "metadata": {
    "ExecuteTime": {
     "end_time": "2023-04-26T19:36:25.795020Z",
     "start_time": "2023-04-26T19:36:25.582993Z"
    }
   },
   "outputs": [
    {
     "data": {
      "text/html": [
       "<div>\n",
       "<style scoped>\n",
       "    .dataframe tbody tr th:only-of-type {\n",
       "        vertical-align: middle;\n",
       "    }\n",
       "\n",
       "    .dataframe tbody tr th {\n",
       "        vertical-align: top;\n",
       "    }\n",
       "\n",
       "    .dataframe thead th {\n",
       "        text-align: right;\n",
       "    }\n",
       "</style>\n",
       "<table border=\"1\" class=\"dataframe\">\n",
       "  <thead>\n",
       "    <tr style=\"text-align: right;\">\n",
       "      <th></th>\n",
       "      <th>item_description</th>\n",
       "      <th>transaction_date</th>\n",
       "      <th>invoice_id</th>\n",
       "      <th>customer_id</th>\n",
       "      <th>shop_id</th>\n",
       "      <th>item_price</th>\n",
       "      <th>quantity_sold</th>\n",
       "    </tr>\n",
       "  </thead>\n",
       "  <tbody>\n",
       "    <tr>\n",
       "      <th>0</th>\n",
       "      <td>ORANGE BARLEY 1.5L</td>\n",
       "      <td>2021-12-11T00:00:00.000Z</td>\n",
       "      <td>147.0</td>\n",
       "      <td>BGXA</td>\n",
       "      <td>SHOP008</td>\n",
       "      <td>220</td>\n",
       "      <td>2</td>\n",
       "    </tr>\n",
       "    <tr>\n",
       "      <th>1</th>\n",
       "      <td>GINGER BEER 1.5L</td>\n",
       "      <td>2021-10-17T00:00:00.000Z</td>\n",
       "      <td>371.0</td>\n",
       "      <td>IA25</td>\n",
       "      <td>SHOP112</td>\n",
       "      <td>220</td>\n",
       "      <td>2</td>\n",
       "    </tr>\n",
       "    <tr>\n",
       "      <th>2</th>\n",
       "      <td>TONIC PET 500ML</td>\n",
       "      <td>2021-12-13T00:00:00.000Z</td>\n",
       "      <td>484.0</td>\n",
       "      <td>VN7V</td>\n",
       "      <td>SHOP008</td>\n",
       "      <td>160</td>\n",
       "      <td>2</td>\n",
       "    </tr>\n",
       "    <tr>\n",
       "      <th>3</th>\n",
       "      <td>CREAM SODA 1L</td>\n",
       "      <td>2021-12-13T00:00:00.000Z</td>\n",
       "      <td>484.0</td>\n",
       "      <td>VN7V</td>\n",
       "      <td>SHOP008</td>\n",
       "      <td>150</td>\n",
       "      <td>2</td>\n",
       "    </tr>\n",
       "    <tr>\n",
       "      <th>4</th>\n",
       "      <td>STRAWBERRY MILK 180ML</td>\n",
       "      <td>2021-10-23T00:00:00.000Z</td>\n",
       "      <td>1310.0</td>\n",
       "      <td>7S00</td>\n",
       "      <td>SHOP112</td>\n",
       "      <td>210</td>\n",
       "      <td>5</td>\n",
       "    </tr>\n",
       "    <tr>\n",
       "      <th>...</th>\n",
       "      <td>...</td>\n",
       "      <td>...</td>\n",
       "      <td>...</td>\n",
       "      <td>...</td>\n",
       "      <td>...</td>\n",
       "      <td>...</td>\n",
       "      <td>...</td>\n",
       "    </tr>\n",
       "    <tr>\n",
       "      <th>473969</th>\n",
       "      <td>NECTO 1.5L</td>\n",
       "      <td>2021-12-09T00:00:00.000Z</td>\n",
       "      <td>NaN</td>\n",
       "      <td>X21A</td>\n",
       "      <td>SHOP056</td>\n",
       "      <td>440</td>\n",
       "      <td>3</td>\n",
       "    </tr>\n",
       "    <tr>\n",
       "      <th>473970</th>\n",
       "      <td>LEMONADE 1.5L</td>\n",
       "      <td>2021-12-02T00:00:00.000Z</td>\n",
       "      <td>NaN</td>\n",
       "      <td>LV2L</td>\n",
       "      <td>SHOP018</td>\n",
       "      <td>220</td>\n",
       "      <td>2</td>\n",
       "    </tr>\n",
       "    <tr>\n",
       "      <th>473971</th>\n",
       "      <td>FIT O ORANGE 200ML</td>\n",
       "      <td>2021-11-19T00:00:00.000Z</td>\n",
       "      <td>NaN</td>\n",
       "      <td>VC4O</td>\n",
       "      <td>SHOP077</td>\n",
       "      <td>210</td>\n",
       "      <td>4</td>\n",
       "    </tr>\n",
       "    <tr>\n",
       "      <th>473972</th>\n",
       "      <td>CREAM SODA 1.5L</td>\n",
       "      <td>2021-12-03T00:00:00.000Z</td>\n",
       "      <td>NaN</td>\n",
       "      <td>MSBQ</td>\n",
       "      <td>SHOP077</td>\n",
       "      <td>440</td>\n",
       "      <td>3</td>\n",
       "    </tr>\n",
       "    <tr>\n",
       "      <th>473973</th>\n",
       "      <td>CREAM SODA APPLE POP 1L</td>\n",
       "      <td>2021-12-03T00:00:00.000Z</td>\n",
       "      <td>NaN</td>\n",
       "      <td>MSBQ</td>\n",
       "      <td>SHOP077</td>\n",
       "      <td>150</td>\n",
       "      <td>1</td>\n",
       "    </tr>\n",
       "  </tbody>\n",
       "</table>\n",
       "<p>465623 rows × 7 columns</p>\n",
       "</div>"
      ],
      "text/plain": [
       "               item_description          transaction_date  invoice_id  \\\n",
       "0            ORANGE BARLEY 1.5L  2021-12-11T00:00:00.000Z       147.0   \n",
       "1              GINGER BEER 1.5L  2021-10-17T00:00:00.000Z       371.0   \n",
       "2               TONIC PET 500ML  2021-12-13T00:00:00.000Z       484.0   \n",
       "3                 CREAM SODA 1L  2021-12-13T00:00:00.000Z       484.0   \n",
       "4         STRAWBERRY MILK 180ML  2021-10-23T00:00:00.000Z      1310.0   \n",
       "...                         ...                       ...         ...   \n",
       "473969               NECTO 1.5L  2021-12-09T00:00:00.000Z         NaN   \n",
       "473970            LEMONADE 1.5L  2021-12-02T00:00:00.000Z         NaN   \n",
       "473971       FIT O ORANGE 200ML  2021-11-19T00:00:00.000Z         NaN   \n",
       "473972          CREAM SODA 1.5L  2021-12-03T00:00:00.000Z         NaN   \n",
       "473973  CREAM SODA APPLE POP 1L  2021-12-03T00:00:00.000Z         NaN   \n",
       "\n",
       "       customer_id  shop_id  item_price  quantity_sold  \n",
       "0             BGXA  SHOP008         220              2  \n",
       "1             IA25  SHOP112         220              2  \n",
       "2             VN7V  SHOP008         160              2  \n",
       "3             VN7V  SHOP008         150              2  \n",
       "4             7S00  SHOP112         210              5  \n",
       "...            ...      ...         ...            ...  \n",
       "473969        X21A  SHOP056         440              3  \n",
       "473970        LV2L  SHOP018         220              2  \n",
       "473971        VC4O  SHOP077         210              4  \n",
       "473972        MSBQ  SHOP077         440              3  \n",
       "473973        MSBQ  SHOP077         150              1  \n",
       "\n",
       "[465623 rows x 7 columns]"
      ]
     },
     "execution_count": 7,
     "metadata": {},
     "output_type": "execute_result"
    }
   ],
   "source": [
    "df = HistTrans.copy()\n",
    "df1 = StoreInfo.copy()\n",
    "df\n"
   ]
  },
  {
   "cell_type": "code",
   "execution_count": 8,
   "id": "230b76bc",
   "metadata": {
    "ExecuteTime": {
     "end_time": "2023-04-26T19:36:26.127934Z",
     "start_time": "2023-04-26T19:36:25.888781Z"
    }
   },
   "outputs": [
    {
     "data": {
      "text/plain": [
       "item_description    35554\n",
       "transaction_date        0\n",
       "invoice_id           6216\n",
       "customer_id             0\n",
       "shop_id                 0\n",
       "item_price              0\n",
       "quantity_sold           0\n",
       "dtype: int64"
      ]
     },
     "execution_count": 8,
     "metadata": {},
     "output_type": "execute_result"
    }
   ],
   "source": [
    "HistTrans.isna().sum()"
   ]
  },
  {
   "cell_type": "markdown",
   "id": "a9b7fbb9",
   "metadata": {},
   "source": [
    "### Check outliers"
   ]
  },
  {
   "cell_type": "code",
   "execution_count": 9,
   "id": "9f9b2f62",
   "metadata": {
    "ExecuteTime": {
     "end_time": "2023-04-26T19:36:32.642649Z",
     "start_time": "2023-04-26T19:36:29.880402Z"
    }
   },
   "outputs": [],
   "source": [
    "# create a new column 'BRAND' by splitting the ITEM string and taking the first element\n",
    "df['brand'] = df['item_description'].str.split().str[:-1].str.join(' ')\n",
    "\n",
    "# create a new column 'CAPACITY' by splitting the ITEM string and taking the last element\n",
    "df['capacity'] = df['item_description'].str.split().str[-1]\n",
    "\n",
    "def process_value(val):\n",
    "    if pd.notnull(val):  # ignore NaN values\n",
    "        if 'ML' in val:\n",
    "            val = val.replace('ML', '').strip()\n",
    "            val = (float(val) / 1000)  \n",
    "        elif 'L' in val:\n",
    "            val = val.replace('L', '').strip()\n",
    "            val = int(float(val))  # convert to int\n",
    "    return val\n",
    "\n",
    "# apply the function to the column\n",
    "df['capacity'] = df['capacity'].apply(process_value)"
   ]
  },
  {
   "cell_type": "code",
   "execution_count": 10,
   "id": "375991b5",
   "metadata": {
    "ExecuteTime": {
     "end_time": "2023-04-26T19:36:32.972442Z",
     "start_time": "2023-04-26T19:36:32.705587Z"
    }
   },
   "outputs": [
    {
     "data": {
      "text/plain": [
       "item_description    35554\n",
       "transaction_date        0\n",
       "invoice_id           6216\n",
       "customer_id             0\n",
       "shop_id                 0\n",
       "item_price              0\n",
       "quantity_sold           0\n",
       "brand               35554\n",
       "capacity            35554\n",
       "dtype: int64"
      ]
     },
     "execution_count": 10,
     "metadata": {},
     "output_type": "execute_result"
    }
   ],
   "source": [
    "df.isna().sum()"
   ]
  },
  {
   "cell_type": "code",
   "execution_count": 11,
   "id": "0572f829",
   "metadata": {},
   "outputs": [
    {
     "data": {
      "text/plain": [
       "brand                   capacity\n",
       "BOTTLED DRINKING WATER  0.50         42803\n",
       "                        1.00         18567\n",
       "CHOCOLATE MILK          0.18           180\n",
       "CREAM SODA              0.50         57540\n",
       "                        1.00         78493\n",
       "CREAM SODA APPLE POP    1.00         20326\n",
       "DRY GINGER ALE PET      0.50         12103\n",
       "FIT O MANGO             0.20         15093\n",
       "                        1.00         10967\n",
       "FIT O MIXED FRUIT       0.20         18514\n",
       "                        1.00         11974\n",
       "FIT O ORANGE            0.20         23441\n",
       "                        1.00         26987\n",
       "GINGER BEER             0.40          5901\n",
       "                        0.50         20926\n",
       "                        1.00        145052\n",
       "GINGER BEER SUGAR FREE  0.50         11141\n",
       "KIK COLA                1.00          4045\n",
       "LEMONADE                0.50         10877\n",
       "                        1.00         25667\n",
       "Name: quantity_sold, dtype: int64"
      ]
     },
     "execution_count": 11,
     "metadata": {},
     "output_type": "execute_result"
    }
   ],
   "source": [
    "grouped_brand = df.groupby(['brand','capacity'])['quantity_sold'].sum()\n",
    "grouped_brand.head(20)"
   ]
  },
  {
   "cell_type": "code",
   "execution_count": 12,
   "id": "7a1b6061",
   "metadata": {},
   "outputs": [
    {
     "name": "stdout",
     "output_type": "stream",
     "text": [
      "The following items have the same brand and capacity but different prices:\n",
      "brand                   capacity\n",
      "BOTTLED DRINKING WATER  0.50        54\n",
      "                        1.00        25\n",
      "CHOCOLATE MILK          0.18        13\n",
      "CREAM SODA              0.50        15\n",
      "                        1.00        24\n",
      "CREAM SODA APPLE POP    1.00         7\n",
      "DRY GINGER ALE PET      0.50        22\n",
      "FIT O MANGO             0.20        42\n",
      "                        1.00        17\n",
      "FIT O MIXED FRUIT       0.20        49\n",
      "                        1.00        17\n",
      "FIT O ORANGE            0.20        52\n",
      "                        1.00        18\n",
      "GINGER BEER             0.40        17\n",
      "                        0.50        16\n",
      "                        1.00        20\n",
      "GINGER BEER SUGAR FREE  0.50        15\n",
      "KIK COLA                1.00        11\n",
      "LEMONADE                0.50        14\n",
      "                        1.00        22\n",
      "NECTO                   0.50        13\n",
      "                        1.00        19\n",
      "ORANGE BARLEY           1.00        11\n",
      "ORANGE CRUSH            0.50        13\n",
      "                        1.00        18\n",
      "SODA                    0.50        26\n",
      "                        1.00        16\n",
      "SODA PET                1.00        31\n",
      "STRAWBERRY MILK         0.18        25\n",
      "TONIC PET               0.50        39\n",
      "TWISTEE APPLE           1.00        10\n",
      "Name: item_price, dtype: int64\n"
     ]
    }
   ],
   "source": [
    "# group the items by their brand and capacity, and count the number of unique prices\n",
    "grouped = df.groupby([\"brand\", \"capacity\"])[\"item_price\"].nunique()\n",
    "\n",
    "# get the items with the same brand and capacity but different prices\n",
    "diff_prices = grouped[grouped > 1]\n",
    "\n",
    "# print the items with different prices\n",
    "if not diff_prices.empty:\n",
    "    print(\"The following items have the same brand and capacity but different prices:\")\n",
    "    # df[df[[\"BRAND\", \"CAPACITY\"]].apply(tuple, axis=1).isin(diff_prices.index)]\n",
    "    print(diff_prices)\n",
    "else:\n",
    "    print(\"All items with the same brand and capacity have the same price.\")"
   ]
  },
  {
   "cell_type": "code",
   "execution_count": 13,
   "id": "26ea1714",
   "metadata": {},
   "outputs": [
    {
     "data": {
      "text/plain": [
       "(32,)"
      ]
     },
     "execution_count": 13,
     "metadata": {},
     "output_type": "execute_result"
    }
   ],
   "source": [
    "grouped.shape"
   ]
  },
  {
   "cell_type": "code",
   "execution_count": 14,
   "id": "dd76fda5",
   "metadata": {},
   "outputs": [
    {
     "data": {
      "image/png": "[encoded data removed]",
      "text/plain": [
       "<Figure size 576x576 with 4 Axes>"
      ]
     },
     "metadata": {
      "needs_background": "light"
     },
     "output_type": "display_data"
    }
   ],
   "source": [
    "# group the items by their brand and capacity\n",
    "grouped = df.groupby([\"brand\", \"capacity\"])\n",
    "\n",
    "# get the first 4 groups (sorted by brand and capacity)\n",
    "first_4_groups = list(grouped)[:4]\n",
    "\n",
    "# plot the price distribution for each of the first 4 groups\n",
    "fig, axes = plt.subplots(nrows=len(first_4_groups) // 2, ncols=2, figsize=(8, 4*len(first_4_groups) // 2))\n",
    "for i, (name, group) in enumerate(first_4_groups):\n",
    "    ax = axes[i // 2, i % 2]\n",
    "    group.boxplot(column=\"item_price\", ax=ax)\n",
    "    ax.set_title(name)\n",
    "    ax.set_xlabel(\"\")\n",
    "    ax.set_ylabel(\"Price\")\n",
    "plt.tight_layout()\n",
    "plt.show()"
   ]
  },
  {
   "cell_type": "code",
   "execution_count": 15,
   "id": "4500e741",
   "metadata": {},
   "outputs": [
    {
     "data": {
      "text/html": [
       "<div>\n",
       "<style scoped>\n",
       "    .dataframe tbody tr th:only-of-type {\n",
       "        vertical-align: middle;\n",
       "    }\n",
       "\n",
       "    .dataframe tbody tr th {\n",
       "        vertical-align: top;\n",
       "    }\n",
       "\n",
       "    .dataframe thead th {\n",
       "        text-align: right;\n",
       "    }\n",
       "</style>\n",
       "<table border=\"1\" class=\"dataframe\">\n",
       "  <thead>\n",
       "    <tr style=\"text-align: right;\">\n",
       "      <th></th>\n",
       "      <th>brand</th>\n",
       "      <th>capacity</th>\n",
       "      <th>num_unique_prices</th>\n",
       "    </tr>\n",
       "  </thead>\n",
       "  <tbody>\n",
       "    <tr>\n",
       "      <th>0</th>\n",
       "      <td>BOTTLED DRINKING WATER</td>\n",
       "      <td>0.50</td>\n",
       "      <td>54</td>\n",
       "    </tr>\n",
       "    <tr>\n",
       "      <th>1</th>\n",
       "      <td>BOTTLED DRINKING WATER</td>\n",
       "      <td>1.00</td>\n",
       "      <td>25</td>\n",
       "    </tr>\n",
       "    <tr>\n",
       "      <th>2</th>\n",
       "      <td>CHOCOLATE MILK</td>\n",
       "      <td>0.18</td>\n",
       "      <td>13</td>\n",
       "    </tr>\n",
       "    <tr>\n",
       "      <th>3</th>\n",
       "      <td>CREAM SODA</td>\n",
       "      <td>0.50</td>\n",
       "      <td>15</td>\n",
       "    </tr>\n",
       "    <tr>\n",
       "      <th>4</th>\n",
       "      <td>CREAM SODA</td>\n",
       "      <td>1.00</td>\n",
       "      <td>24</td>\n",
       "    </tr>\n",
       "    <tr>\n",
       "      <th>5</th>\n",
       "      <td>CREAM SODA APPLE POP</td>\n",
       "      <td>1.00</td>\n",
       "      <td>7</td>\n",
       "    </tr>\n",
       "    <tr>\n",
       "      <th>6</th>\n",
       "      <td>DRY GINGER ALE PET</td>\n",
       "      <td>0.50</td>\n",
       "      <td>22</td>\n",
       "    </tr>\n",
       "    <tr>\n",
       "      <th>7</th>\n",
       "      <td>FIT O MANGO</td>\n",
       "      <td>0.20</td>\n",
       "      <td>42</td>\n",
       "    </tr>\n",
       "    <tr>\n",
       "      <th>8</th>\n",
       "      <td>FIT O MANGO</td>\n",
       "      <td>1.00</td>\n",
       "      <td>17</td>\n",
       "    </tr>\n",
       "    <tr>\n",
       "      <th>9</th>\n",
       "      <td>FIT O MIXED FRUIT</td>\n",
       "      <td>0.20</td>\n",
       "      <td>49</td>\n",
       "    </tr>\n",
       "  </tbody>\n",
       "</table>\n",
       "</div>"
      ],
      "text/plain": [
       "                    brand  capacity  num_unique_prices\n",
       "0  BOTTLED DRINKING WATER      0.50                 54\n",
       "1  BOTTLED DRINKING WATER      1.00                 25\n",
       "2          CHOCOLATE MILK      0.18                 13\n",
       "3              CREAM SODA      0.50                 15\n",
       "4              CREAM SODA      1.00                 24\n",
       "5    CREAM SODA APPLE POP      1.00                  7\n",
       "6      DRY GINGER ALE PET      0.50                 22\n",
       "7             FIT O MANGO      0.20                 42\n",
       "8             FIT O MANGO      1.00                 17\n",
       "9       FIT O MIXED FRUIT      0.20                 49"
      ]
     },
     "execution_count": 15,
     "metadata": {},
     "output_type": "execute_result"
    }
   ],
   "source": [
    "diff_prices_df = pd.DataFrame(diff_prices).reset_index()\n",
    "diff_prices_df.rename(columns={'item_price':'num_unique_prices'}, inplace=True)\n",
    "diff_prices_df.head(10)"
   ]
  },
  {
   "cell_type": "code",
   "execution_count": 16,
   "id": "14603e30",
   "metadata": {},
   "outputs": [],
   "source": [
    "# find outliers in the price distribution of each group brand, capacity group using IQR method and print the result\n",
    "outlers_count = []\n",
    "\n",
    "for name, group in grouped:\n",
    "    q1 = group[\"item_price\"].quantile(0.25)\n",
    "    q3 = group[\"item_price\"].quantile(0.75)\n",
    "    iqr = q3 - q1\n",
    "    lower_bound = q1 - 1.5 * iqr\n",
    "    upper_bound = q3 + 1.5 * iqr\n",
    "\n",
    "    outliers = group[(group[\"item_price\"] < lower_bound) | (group[\"item_price\"] > upper_bound)]\n",
    "    # if not outliers.empty:\n",
    "    #     print(\"{}:\".format(name), end=\" \")\n",
    "    #     print(len(outliers))\n",
    "\n",
    "    outlers_count.append((name[0], name[1], len(outliers),  round(len(outliers)/len(group) * 100, 2)))"
   ]
  },
  {
   "cell_type": "code",
   "execution_count": 17,
   "id": "e0f0551d",
   "metadata": {},
   "outputs": [
    {
     "data": {
      "text/html": [
       "<div>\n",
       "<style scoped>\n",
       "    .dataframe tbody tr th:only-of-type {\n",
       "        vertical-align: middle;\n",
       "    }\n",
       "\n",
       "    .dataframe tbody tr th {\n",
       "        vertical-align: top;\n",
       "    }\n",
       "\n",
       "    .dataframe thead th {\n",
       "        text-align: right;\n",
       "    }\n",
       "</style>\n",
       "<table border=\"1\" class=\"dataframe\">\n",
       "  <thead>\n",
       "    <tr style=\"text-align: right;\">\n",
       "      <th></th>\n",
       "      <th>BRAND</th>\n",
       "      <th>CAPACITY</th>\n",
       "      <th>num_outliers</th>\n",
       "      <th>outliers_percentage</th>\n",
       "    </tr>\n",
       "  </thead>\n",
       "  <tbody>\n",
       "    <tr>\n",
       "      <th>10</th>\n",
       "      <td>FIT O MIXED FRUIT</td>\n",
       "      <td>1.0</td>\n",
       "      <td>2561</td>\n",
       "      <td>36.67</td>\n",
       "    </tr>\n",
       "    <tr>\n",
       "      <th>8</th>\n",
       "      <td>FIT O MANGO</td>\n",
       "      <td>1.0</td>\n",
       "      <td>1870</td>\n",
       "      <td>28.65</td>\n",
       "    </tr>\n",
       "    <tr>\n",
       "      <th>4</th>\n",
       "      <td>CREAM SODA</td>\n",
       "      <td>1.0</td>\n",
       "      <td>11416</td>\n",
       "      <td>26.88</td>\n",
       "    </tr>\n",
       "    <tr>\n",
       "      <th>25</th>\n",
       "      <td>ORANGE CRUSH</td>\n",
       "      <td>1.0</td>\n",
       "      <td>2532</td>\n",
       "      <td>25.97</td>\n",
       "    </tr>\n",
       "    <tr>\n",
       "      <th>22</th>\n",
       "      <td>NECTO</td>\n",
       "      <td>1.0</td>\n",
       "      <td>5890</td>\n",
       "      <td>25.68</td>\n",
       "    </tr>\n",
       "    <tr>\n",
       "      <th>19</th>\n",
       "      <td>LEMONADE</td>\n",
       "      <td>1.0</td>\n",
       "      <td>3432</td>\n",
       "      <td>22.38</td>\n",
       "    </tr>\n",
       "    <tr>\n",
       "      <th>16</th>\n",
       "      <td>GINGER BEER SUGAR FREE</td>\n",
       "      <td>0.5</td>\n",
       "      <td>1271</td>\n",
       "      <td>21.65</td>\n",
       "    </tr>\n",
       "    <tr>\n",
       "      <th>12</th>\n",
       "      <td>FIT O ORANGE</td>\n",
       "      <td>1.0</td>\n",
       "      <td>3150</td>\n",
       "      <td>20.84</td>\n",
       "    </tr>\n",
       "    <tr>\n",
       "      <th>13</th>\n",
       "      <td>GINGER BEER</td>\n",
       "      <td>0.4</td>\n",
       "      <td>632</td>\n",
       "      <td>19.91</td>\n",
       "    </tr>\n",
       "    <tr>\n",
       "      <th>27</th>\n",
       "      <td>SODA</td>\n",
       "      <td>1.0</td>\n",
       "      <td>2300</td>\n",
       "      <td>17.83</td>\n",
       "    </tr>\n",
       "  </tbody>\n",
       "</table>\n",
       "</div>"
      ],
      "text/plain": [
       "                     BRAND  CAPACITY  num_outliers  outliers_percentage\n",
       "10       FIT O MIXED FRUIT       1.0          2561                36.67\n",
       "8              FIT O MANGO       1.0          1870                28.65\n",
       "4               CREAM SODA       1.0         11416                26.88\n",
       "25            ORANGE CRUSH       1.0          2532                25.97\n",
       "22                   NECTO       1.0          5890                25.68\n",
       "19                LEMONADE       1.0          3432                22.38\n",
       "16  GINGER BEER SUGAR FREE       0.5          1271                21.65\n",
       "12            FIT O ORANGE       1.0          3150                20.84\n",
       "13             GINGER BEER       0.4           632                19.91\n",
       "27                    SODA       1.0          2300                17.83"
      ]
     },
     "execution_count": 17,
     "metadata": {},
     "output_type": "execute_result"
    }
   ],
   "source": [
    "outliers_df = pd.DataFrame(outlers_count, columns=[\"BRAND\", \"CAPACITY\", \"num_outliers\", \"outliers_percentage\"])\n",
    "outliers_df.sort_values(by=\"outliers_percentage\", ascending=False).head(10)"
   ]
  },
  {
   "cell_type": "code",
   "execution_count": 18,
   "id": "6a8bd26f",
   "metadata": {},
   "outputs": [
    {
     "data": {
      "image/png": "[encoded data removed]",
      "text/plain": [
       "<Figure size 576x576 with 4 Axes>"
      ]
     },
     "metadata": {
      "needs_background": "light"
     },
     "output_type": "display_data"
    }
   ],
   "source": [
    "# fix outliers in the price distribution of each group brand, capacity group using IQR method\n",
    "for name, group in grouped:\n",
    "    q1 = group[\"item_price\"].quantile(0.25)\n",
    "    q3 = group[\"item_price\"].quantile(0.75)\n",
    "    iqr = q3 - q1\n",
    "    lower_bound = q1 - 1.5 * iqr\n",
    "    upper_bound = q3 + 1.5 * iqr\n",
    "\n",
    "    outliers = group[(group[\"item_price\"] < lower_bound) | (group[\"item_price\"] > upper_bound)]\n",
    "    if not outliers.empty:\n",
    "        group[\"item_price\"] = group[\"item_price\"].clip(lower_bound, upper_bound)\n",
    "\n",
    "    # copy the fixed group back to the original dataframe\n",
    "    df.loc[group.index] = group\n",
    "\n",
    "# get the first 4 groups (sorted by brand and capacity)\n",
    "first_4_groups = list(grouped)[:4]\n",
    "\n",
    "# plot the price distribution for each of the first 4 groups\n",
    "fig, axes = plt.subplots(nrows=len(first_4_groups) // 2, ncols=2, figsize=(8, 4*len(first_4_groups) // 2))\n",
    "for i, (name, group) in enumerate(first_4_groups):\n",
    "    ax = axes[i // 2, i % 2]\n",
    "    group.boxplot(column=\"item_price\", ax=ax)\n",
    "    ax.set_title(name)\n",
    "    ax.set_xlabel(\"\")\n",
    "    ax.set_ylabel(\"Price\")\n",
    "plt.tight_layout()\n",
    "plt.show()"
   ]
  },
  {
   "cell_type": "code",
   "execution_count": 19,
   "id": "804358c0",
   "metadata": {},
   "outputs": [],
   "source": [
    "# create month and year columns\n",
    "df['transaction_date'] = pd.to_datetime(df['transaction_date'], format=\"%Y-%m-%dT%H:%M:%S.%fZ\", errors='raise')\n",
    "df['year'] = df['transaction_date'].dt.year\n",
    "df['month'] = df['transaction_date'].dt.month\n",
    "df['day'] = df['transaction_date'].dt.day"
   ]
  },
  {
   "cell_type": "code",
   "execution_count": 20,
   "id": "5b2d30f2",
   "metadata": {},
   "outputs": [],
   "source": [
    "grouped2 = df.drop(['invoice_id', 'month', 'day', 'quantity_sold'], axis=1).groupby([\"brand\", \"capacity\"])"
   ]
  },
  {
   "cell_type": "code",
   "execution_count": 21,
   "id": "71441662",
   "metadata": {},
   "outputs": [
    {
     "data": {
      "text/html": [
       "<div>\n",
       "<style scoped>\n",
       "    .dataframe tbody tr th:only-of-type {\n",
       "        vertical-align: middle;\n",
       "    }\n",
       "\n",
       "    .dataframe tbody tr th {\n",
       "        vertical-align: top;\n",
       "    }\n",
       "\n",
       "    .dataframe thead th {\n",
       "        text-align: right;\n",
       "    }\n",
       "</style>\n",
       "<table border=\"1\" class=\"dataframe\">\n",
       "  <thead>\n",
       "    <tr style=\"text-align: right;\">\n",
       "      <th></th>\n",
       "      <th>brand</th>\n",
       "      <th>capacity</th>\n",
       "      <th>num_outliers</th>\n",
       "      <th>outliers_percentage</th>\n",
       "    </tr>\n",
       "  </thead>\n",
       "  <tbody>\n",
       "    <tr>\n",
       "      <th>0</th>\n",
       "      <td>BOTTLED DRINKING WATER</td>\n",
       "      <td>0.50</td>\n",
       "      <td>0</td>\n",
       "      <td>0.0</td>\n",
       "    </tr>\n",
       "    <tr>\n",
       "      <th>1</th>\n",
       "      <td>BOTTLED DRINKING WATER</td>\n",
       "      <td>1.00</td>\n",
       "      <td>0</td>\n",
       "      <td>0.0</td>\n",
       "    </tr>\n",
       "    <tr>\n",
       "      <th>30</th>\n",
       "      <td>TONIC PET</td>\n",
       "      <td>0.50</td>\n",
       "      <td>0</td>\n",
       "      <td>0.0</td>\n",
       "    </tr>\n",
       "    <tr>\n",
       "      <th>29</th>\n",
       "      <td>STRAWBERRY MILK</td>\n",
       "      <td>0.18</td>\n",
       "      <td>0</td>\n",
       "      <td>0.0</td>\n",
       "    </tr>\n",
       "    <tr>\n",
       "      <th>28</th>\n",
       "      <td>SODA PET</td>\n",
       "      <td>1.00</td>\n",
       "      <td>0</td>\n",
       "      <td>0.0</td>\n",
       "    </tr>\n",
       "    <tr>\n",
       "      <th>27</th>\n",
       "      <td>SODA</td>\n",
       "      <td>1.00</td>\n",
       "      <td>0</td>\n",
       "      <td>0.0</td>\n",
       "    </tr>\n",
       "    <tr>\n",
       "      <th>26</th>\n",
       "      <td>SODA</td>\n",
       "      <td>0.50</td>\n",
       "      <td>0</td>\n",
       "      <td>0.0</td>\n",
       "    </tr>\n",
       "    <tr>\n",
       "      <th>25</th>\n",
       "      <td>ORANGE CRUSH</td>\n",
       "      <td>1.00</td>\n",
       "      <td>0</td>\n",
       "      <td>0.0</td>\n",
       "    </tr>\n",
       "    <tr>\n",
       "      <th>24</th>\n",
       "      <td>ORANGE CRUSH</td>\n",
       "      <td>0.50</td>\n",
       "      <td>0</td>\n",
       "      <td>0.0</td>\n",
       "    </tr>\n",
       "    <tr>\n",
       "      <th>23</th>\n",
       "      <td>ORANGE BARLEY</td>\n",
       "      <td>1.00</td>\n",
       "      <td>0</td>\n",
       "      <td>0.0</td>\n",
       "    </tr>\n",
       "  </tbody>\n",
       "</table>\n",
       "</div>"
      ],
      "text/plain": [
       "                     brand  capacity  num_outliers  outliers_percentage\n",
       "0   BOTTLED DRINKING WATER      0.50             0                  0.0\n",
       "1   BOTTLED DRINKING WATER      1.00             0                  0.0\n",
       "30               TONIC PET      0.50             0                  0.0\n",
       "29         STRAWBERRY MILK      0.18             0                  0.0\n",
       "28                SODA PET      1.00             0                  0.0\n",
       "27                    SODA      1.00             0                  0.0\n",
       "26                    SODA      0.50             0                  0.0\n",
       "25            ORANGE CRUSH      1.00             0                  0.0\n",
       "24            ORANGE CRUSH      0.50             0                  0.0\n",
       "23           ORANGE BARLEY      1.00             0                  0.0"
      ]
     },
     "execution_count": 21,
     "metadata": {},
     "output_type": "execute_result"
    }
   ],
   "source": [
    "grouped2 = df.groupby([\"brand\", \"capacity\"])\n",
    "\n",
    "# find outliers in the price distribution of each group brand, capacity group using IQR method and print the result\n",
    "outlers_count2 = []\n",
    "\n",
    "for name, group in grouped2:\n",
    "    q1 = group[\"item_price\"].quantile(0.25)\n",
    "    q3 = group[\"item_price\"].quantile(0.75)\n",
    "    iqr = q3 - q1\n",
    "    lower_bound = q1 - 1.5 * iqr\n",
    "    upper_bound = q3 + 1.5 * iqr\n",
    "\n",
    "    outliers = group[(group[\"item_price\"] < lower_bound) | (group[\"item_price\"] > upper_bound)]\n",
    "    # if not outliers.empty:\n",
    "    #     print(\"{}:\".format(name), end=\" \")\n",
    "    #     print(len(outliers))\n",
    "\n",
    "    outlers_count2.append((name[0], name[1], len(outliers),  round(len(outliers)/len(group) * 100, 2)))\n",
    "\n",
    "outliers_df2 = pd.DataFrame(outlers_count2, columns=[\"brand\", \"capacity\", \"num_outliers\", \"outliers_percentage\"])\n",
    "outliers_df2.sort_values(by=\"outliers_percentage\", ascending=False).head(10)"
   ]
  },
  {
   "cell_type": "markdown",
   "id": "b4cdac90",
   "metadata": {},
   "source": [
    "### Create new features"
   ]
  },
  {
   "cell_type": "code",
   "execution_count": 22,
   "id": "84c172d6",
   "metadata": {},
   "outputs": [],
   "source": [
    "df['sale_amount'] = df['item_price'] * df['quantity_sold']"
   ]
  },
  {
   "cell_type": "code",
   "execution_count": 23,
   "id": "3eb2fc89",
   "metadata": {},
   "outputs": [
    {
     "data": {
      "text/html": [
       "<div>\n",
       "<style scoped>\n",
       "    .dataframe tbody tr th:only-of-type {\n",
       "        vertical-align: middle;\n",
       "    }\n",
       "\n",
       "    .dataframe tbody tr th {\n",
       "        vertical-align: top;\n",
       "    }\n",
       "\n",
       "    .dataframe thead th {\n",
       "        text-align: right;\n",
       "    }\n",
       "</style>\n",
       "<table border=\"1\" class=\"dataframe\">\n",
       "  <thead>\n",
       "    <tr style=\"text-align: right;\">\n",
       "      <th></th>\n",
       "      <th>item_description</th>\n",
       "      <th>transaction_date</th>\n",
       "      <th>invoice_id</th>\n",
       "      <th>customer_id</th>\n",
       "      <th>shop_id</th>\n",
       "      <th>item_price</th>\n",
       "      <th>quantity_sold</th>\n",
       "      <th>brand</th>\n",
       "      <th>capacity</th>\n",
       "      <th>year</th>\n",
       "      <th>month</th>\n",
       "      <th>day</th>\n",
       "      <th>sale_amount</th>\n",
       "    </tr>\n",
       "  </thead>\n",
       "  <tbody>\n",
       "    <tr>\n",
       "      <th>0</th>\n",
       "      <td>ORANGE BARLEY 1.5L</td>\n",
       "      <td>2021-12-11</td>\n",
       "      <td>147.0</td>\n",
       "      <td>BGXA</td>\n",
       "      <td>SHOP008</td>\n",
       "      <td>220.0</td>\n",
       "      <td>2</td>\n",
       "      <td>ORANGE BARLEY</td>\n",
       "      <td>1.00</td>\n",
       "      <td>2021</td>\n",
       "      <td>12</td>\n",
       "      <td>11</td>\n",
       "      <td>440.0</td>\n",
       "    </tr>\n",
       "    <tr>\n",
       "      <th>1</th>\n",
       "      <td>GINGER BEER 1.5L</td>\n",
       "      <td>2021-10-17</td>\n",
       "      <td>371.0</td>\n",
       "      <td>IA25</td>\n",
       "      <td>SHOP112</td>\n",
       "      <td>220.0</td>\n",
       "      <td>2</td>\n",
       "      <td>GINGER BEER</td>\n",
       "      <td>1.00</td>\n",
       "      <td>2021</td>\n",
       "      <td>10</td>\n",
       "      <td>17</td>\n",
       "      <td>440.0</td>\n",
       "    </tr>\n",
       "    <tr>\n",
       "      <th>2</th>\n",
       "      <td>TONIC PET 500ML</td>\n",
       "      <td>2021-12-13</td>\n",
       "      <td>484.0</td>\n",
       "      <td>VN7V</td>\n",
       "      <td>SHOP008</td>\n",
       "      <td>160.0</td>\n",
       "      <td>2</td>\n",
       "      <td>TONIC PET</td>\n",
       "      <td>0.50</td>\n",
       "      <td>2021</td>\n",
       "      <td>12</td>\n",
       "      <td>13</td>\n",
       "      <td>320.0</td>\n",
       "    </tr>\n",
       "    <tr>\n",
       "      <th>3</th>\n",
       "      <td>CREAM SODA 1L</td>\n",
       "      <td>2021-12-13</td>\n",
       "      <td>484.0</td>\n",
       "      <td>VN7V</td>\n",
       "      <td>SHOP008</td>\n",
       "      <td>220.0</td>\n",
       "      <td>2</td>\n",
       "      <td>CREAM SODA</td>\n",
       "      <td>1.00</td>\n",
       "      <td>2021</td>\n",
       "      <td>12</td>\n",
       "      <td>13</td>\n",
       "      <td>440.0</td>\n",
       "    </tr>\n",
       "    <tr>\n",
       "      <th>4</th>\n",
       "      <td>STRAWBERRY MILK 180ML</td>\n",
       "      <td>2021-10-23</td>\n",
       "      <td>1310.0</td>\n",
       "      <td>7S00</td>\n",
       "      <td>SHOP112</td>\n",
       "      <td>210.0</td>\n",
       "      <td>5</td>\n",
       "      <td>STRAWBERRY MILK</td>\n",
       "      <td>0.18</td>\n",
       "      <td>2021</td>\n",
       "      <td>10</td>\n",
       "      <td>23</td>\n",
       "      <td>1050.0</td>\n",
       "    </tr>\n",
       "  </tbody>\n",
       "</table>\n",
       "</div>"
      ],
      "text/plain": [
       "        item_description transaction_date  invoice_id customer_id  shop_id  \\\n",
       "0     ORANGE BARLEY 1.5L       2021-12-11       147.0        BGXA  SHOP008   \n",
       "1       GINGER BEER 1.5L       2021-10-17       371.0        IA25  SHOP112   \n",
       "2        TONIC PET 500ML       2021-12-13       484.0        VN7V  SHOP008   \n",
       "3          CREAM SODA 1L       2021-12-13       484.0        VN7V  SHOP008   \n",
       "4  STRAWBERRY MILK 180ML       2021-10-23      1310.0        7S00  SHOP112   \n",
       "\n",
       "   item_price  quantity_sold            brand  capacity  year  month  day  \\\n",
       "0       220.0              2    ORANGE BARLEY      1.00  2021     12   11   \n",
       "1       220.0              2      GINGER BEER      1.00  2021     10   17   \n",
       "2       160.0              2        TONIC PET      0.50  2021     12   13   \n",
       "3       220.0              2       CREAM SODA      1.00  2021     12   13   \n",
       "4       210.0              5  STRAWBERRY MILK      0.18  2021     10   23   \n",
       "\n",
       "   sale_amount  \n",
       "0        440.0  \n",
       "1        440.0  \n",
       "2        320.0  \n",
       "3        440.0  \n",
       "4       1050.0  "
      ]
     },
     "execution_count": 23,
     "metadata": {},
     "output_type": "execute_result"
    }
   ],
   "source": [
    "df.head()"
   ]
  },
  {
   "cell_type": "markdown",
   "id": "7f2f60ed",
   "metadata": {},
   "source": [
    "Drop the year column because all transactions are from 2021."
   ]
  },
  {
   "cell_type": "code",
   "execution_count": 24,
   "id": "f7e74ee8",
   "metadata": {},
   "outputs": [],
   "source": [
    "df.drop(['transaction_date', 'year'], axis=1, inplace=True)"
   ]
  },
  {
   "cell_type": "code",
   "execution_count": 25,
   "id": "9370fd05",
   "metadata": {},
   "outputs": [
    {
     "data": {
      "text/html": [
       "<div>\n",
       "<style scoped>\n",
       "    .dataframe tbody tr th:only-of-type {\n",
       "        vertical-align: middle;\n",
       "    }\n",
       "\n",
       "    .dataframe tbody tr th {\n",
       "        vertical-align: top;\n",
       "    }\n",
       "\n",
       "    .dataframe thead th {\n",
       "        text-align: right;\n",
       "    }\n",
       "</style>\n",
       "<table border=\"1\" class=\"dataframe\">\n",
       "  <thead>\n",
       "    <tr style=\"text-align: right;\">\n",
       "      <th></th>\n",
       "      <th>item_description</th>\n",
       "      <th>invoice_id</th>\n",
       "      <th>customer_id</th>\n",
       "      <th>shop_id</th>\n",
       "      <th>item_price</th>\n",
       "      <th>quantity_sold</th>\n",
       "      <th>brand</th>\n",
       "      <th>capacity</th>\n",
       "      <th>month</th>\n",
       "      <th>day</th>\n",
       "      <th>sale_amount</th>\n",
       "      <th>daily_income</th>\n",
       "    </tr>\n",
       "  </thead>\n",
       "  <tbody>\n",
       "    <tr>\n",
       "      <th>0</th>\n",
       "      <td>ORANGE BARLEY 1.5L</td>\n",
       "      <td>147.0</td>\n",
       "      <td>BGXA</td>\n",
       "      <td>SHOP008</td>\n",
       "      <td>220.0</td>\n",
       "      <td>2</td>\n",
       "      <td>ORANGE BARLEY</td>\n",
       "      <td>1.0</td>\n",
       "      <td>12</td>\n",
       "      <td>11</td>\n",
       "      <td>440.0</td>\n",
       "      <td>374.254386</td>\n",
       "    </tr>\n",
       "    <tr>\n",
       "      <th>2</th>\n",
       "      <td>TONIC PET 500ML</td>\n",
       "      <td>484.0</td>\n",
       "      <td>VN7V</td>\n",
       "      <td>SHOP008</td>\n",
       "      <td>160.0</td>\n",
       "      <td>2</td>\n",
       "      <td>TONIC PET</td>\n",
       "      <td>0.5</td>\n",
       "      <td>12</td>\n",
       "      <td>13</td>\n",
       "      <td>320.0</td>\n",
       "      <td>291.562500</td>\n",
       "    </tr>\n",
       "    <tr>\n",
       "      <th>3</th>\n",
       "      <td>CREAM SODA 1L</td>\n",
       "      <td>484.0</td>\n",
       "      <td>VN7V</td>\n",
       "      <td>SHOP008</td>\n",
       "      <td>220.0</td>\n",
       "      <td>2</td>\n",
       "      <td>CREAM SODA</td>\n",
       "      <td>1.0</td>\n",
       "      <td>12</td>\n",
       "      <td>13</td>\n",
       "      <td>440.0</td>\n",
       "      <td>291.562500</td>\n",
       "    </tr>\n",
       "    <tr>\n",
       "      <th>2789</th>\n",
       "      <td>GINGER BEER 1.5L</td>\n",
       "      <td>1000053.0</td>\n",
       "      <td>VT9C</td>\n",
       "      <td>SHOP008</td>\n",
       "      <td>220.0</td>\n",
       "      <td>1</td>\n",
       "      <td>GINGER BEER</td>\n",
       "      <td>1.0</td>\n",
       "      <td>12</td>\n",
       "      <td>10</td>\n",
       "      <td>220.0</td>\n",
       "      <td>357.068966</td>\n",
       "    </tr>\n",
       "    <tr>\n",
       "      <th>2790</th>\n",
       "      <td>GINGER BEER 1.5L</td>\n",
       "      <td>1000057.0</td>\n",
       "      <td>8QLS</td>\n",
       "      <td>SHOP008</td>\n",
       "      <td>325.0</td>\n",
       "      <td>1</td>\n",
       "      <td>GINGER BEER</td>\n",
       "      <td>1.0</td>\n",
       "      <td>12</td>\n",
       "      <td>10</td>\n",
       "      <td>325.0</td>\n",
       "      <td>357.068966</td>\n",
       "    </tr>\n",
       "    <tr>\n",
       "      <th>...</th>\n",
       "      <td>...</td>\n",
       "      <td>...</td>\n",
       "      <td>...</td>\n",
       "      <td>...</td>\n",
       "      <td>...</td>\n",
       "      <td>...</td>\n",
       "      <td>...</td>\n",
       "      <td>...</td>\n",
       "      <td>...</td>\n",
       "      <td>...</td>\n",
       "      <td>...</td>\n",
       "      <td>...</td>\n",
       "    </tr>\n",
       "    <tr>\n",
       "      <th>460985</th>\n",
       "      <td>GINGER BEER 500ML</td>\n",
       "      <td>4000473.0</td>\n",
       "      <td>G21W</td>\n",
       "      <td>SHOP008</td>\n",
       "      <td>100.0</td>\n",
       "      <td>2</td>\n",
       "      <td>GINGER BEER</td>\n",
       "      <td>0.5</td>\n",
       "      <td>12</td>\n",
       "      <td>14</td>\n",
       "      <td>200.0</td>\n",
       "      <td>322.222222</td>\n",
       "    </tr>\n",
       "    <tr>\n",
       "      <th>462191</th>\n",
       "      <td>NaN</td>\n",
       "      <td>86.0</td>\n",
       "      <td>3H5A</td>\n",
       "      <td>SHOP008</td>\n",
       "      <td>140.0</td>\n",
       "      <td>2</td>\n",
       "      <td>NaN</td>\n",
       "      <td>NaN</td>\n",
       "      <td>12</td>\n",
       "      <td>10</td>\n",
       "      <td>280.0</td>\n",
       "      <td>357.068966</td>\n",
       "    </tr>\n",
       "    <tr>\n",
       "      <th>467818</th>\n",
       "      <td>LEMONADE 1.5L</td>\n",
       "      <td>2000199.0</td>\n",
       "      <td>2FO5</td>\n",
       "      <td>SHOP008</td>\n",
       "      <td>220.0</td>\n",
       "      <td>1</td>\n",
       "      <td>LEMONADE</td>\n",
       "      <td>1.0</td>\n",
       "      <td>12</td>\n",
       "      <td>11</td>\n",
       "      <td>220.0</td>\n",
       "      <td>374.254386</td>\n",
       "    </tr>\n",
       "    <tr>\n",
       "      <th>467819</th>\n",
       "      <td>LEMONADE 500ML</td>\n",
       "      <td>2000199.0</td>\n",
       "      <td>2FO5</td>\n",
       "      <td>SHOP008</td>\n",
       "      <td>100.0</td>\n",
       "      <td>2</td>\n",
       "      <td>LEMONADE</td>\n",
       "      <td>0.5</td>\n",
       "      <td>12</td>\n",
       "      <td>11</td>\n",
       "      <td>200.0</td>\n",
       "      <td>374.254386</td>\n",
       "    </tr>\n",
       "    <tr>\n",
       "      <th>473541</th>\n",
       "      <td>ORANGE CRUSH 500ML</td>\n",
       "      <td>5000105.0</td>\n",
       "      <td>TIF1</td>\n",
       "      <td>SHOP008</td>\n",
       "      <td>100.0</td>\n",
       "      <td>2</td>\n",
       "      <td>ORANGE CRUSH</td>\n",
       "      <td>0.5</td>\n",
       "      <td>12</td>\n",
       "      <td>11</td>\n",
       "      <td>200.0</td>\n",
       "      <td>374.254386</td>\n",
       "    </tr>\n",
       "  </tbody>\n",
       "</table>\n",
       "<p>267 rows × 12 columns</p>\n",
       "</div>"
      ],
      "text/plain": [
       "          item_description  invoice_id customer_id  shop_id  item_price  \\\n",
       "0       ORANGE BARLEY 1.5L       147.0        BGXA  SHOP008       220.0   \n",
       "2          TONIC PET 500ML       484.0        VN7V  SHOP008       160.0   \n",
       "3            CREAM SODA 1L       484.0        VN7V  SHOP008       220.0   \n",
       "2789      GINGER BEER 1.5L   1000053.0        VT9C  SHOP008       220.0   \n",
       "2790      GINGER BEER 1.5L   1000057.0        8QLS  SHOP008       325.0   \n",
       "...                    ...         ...         ...      ...         ...   \n",
       "460985   GINGER BEER 500ML   4000473.0        G21W  SHOP008       100.0   \n",
       "462191                 NaN        86.0        3H5A  SHOP008       140.0   \n",
       "467818       LEMONADE 1.5L   2000199.0        2FO5  SHOP008       220.0   \n",
       "467819      LEMONADE 500ML   2000199.0        2FO5  SHOP008       100.0   \n",
       "473541  ORANGE CRUSH 500ML   5000105.0        TIF1  SHOP008       100.0   \n",
       "\n",
       "        quantity_sold          brand  capacity  month  day  sale_amount  \\\n",
       "0                   2  ORANGE BARLEY       1.0     12   11        440.0   \n",
       "2                   2      TONIC PET       0.5     12   13        320.0   \n",
       "3                   2     CREAM SODA       1.0     12   13        440.0   \n",
       "2789                1    GINGER BEER       1.0     12   10        220.0   \n",
       "2790                1    GINGER BEER       1.0     12   10        325.0   \n",
       "...               ...            ...       ...    ...  ...          ...   \n",
       "460985              2    GINGER BEER       0.5     12   14        200.0   \n",
       "462191              2            NaN       NaN     12   10        280.0   \n",
       "467818              1       LEMONADE       1.0     12   11        220.0   \n",
       "467819              2       LEMONADE       0.5     12   11        200.0   \n",
       "473541              2   ORANGE CRUSH       0.5     12   11        200.0   \n",
       "\n",
       "        daily_income  \n",
       "0         374.254386  \n",
       "2         291.562500  \n",
       "3         291.562500  \n",
       "2789      357.068966  \n",
       "2790      357.068966  \n",
       "...              ...  \n",
       "460985    322.222222  \n",
       "462191    357.068966  \n",
       "467818    374.254386  \n",
       "467819    374.254386  \n",
       "473541    374.254386  \n",
       "\n",
       "[267 rows x 12 columns]"
      ]
     },
     "execution_count": 25,
     "metadata": {},
     "output_type": "execute_result"
    }
   ],
   "source": [
    "# caluculate daily income for each store\n",
    "df['daily_income'] = df.groupby(['shop_id', 'month', 'day'])['sale_amount'].transform('sum')\n",
    "df['daily_income'] = df['daily_income'] / df.groupby(['shop_id', 'month', 'day'])['shop_id'].transform('count')\n",
    "df[df['shop_id'] == 'SHOP008']"
   ]
  },
  {
   "cell_type": "code",
   "execution_count": 26,
   "id": "d2902492",
   "metadata": {},
   "outputs": [],
   "source": [
    "# get the median daily income for each store\n",
    "income_df = df.groupby(['shop_id'])['daily_income'].median().reset_index()\n",
    "income_df.rename(columns={'daily_income': 'median_daily_income'}, inplace=True)"
   ]
  },
  {
   "cell_type": "code",
   "execution_count": 27,
   "id": "aa95649f",
   "metadata": {},
   "outputs": [
    {
     "data": {
      "text/plain": [
       "<AxesSubplot:xlabel='median_daily_income', ylabel='Count'>"
      ]
     },
     "execution_count": 27,
     "metadata": {},
     "output_type": "execute_result"
    },
    {
     "data": {
      "image/png": "[encoded data removed]",
      "text/plain": [
       "<Figure size 432x288 with 1 Axes>"
      ]
     },
     "metadata": {
      "needs_background": "light"
     },
     "output_type": "display_data"
    }
   ],
   "source": [
    "# distribution for median daily income histplot with kde\n",
    "sns.histplot(data=income_df, x='median_daily_income', kde=True, bins=20)"
   ]
  },
  {
   "cell_type": "code",
   "execution_count": 28,
   "id": "27942dc1",
   "metadata": {},
   "outputs": [],
   "source": [
    "df1 = pd.merge(df1, income_df, on='shop_id', how='left')"
   ]
  },
  {
   "cell_type": "code",
   "execution_count": 29,
   "id": "f74260d1",
   "metadata": {
    "ExecuteTime": {
     "end_time": "2023-04-26T19:36:33.036551Z",
     "start_time": "2023-04-26T19:36:32.988101Z"
    }
   },
   "outputs": [
    {
     "data": {
      "text/html": [
       "<div>\n",
       "<style scoped>\n",
       "    .dataframe tbody tr th:only-of-type {\n",
       "        vertical-align: middle;\n",
       "    }\n",
       "\n",
       "    .dataframe tbody tr th {\n",
       "        vertical-align: top;\n",
       "    }\n",
       "\n",
       "    .dataframe thead th {\n",
       "        text-align: right;\n",
       "    }\n",
       "</style>\n",
       "<table border=\"1\" class=\"dataframe\">\n",
       "  <thead>\n",
       "    <tr style=\"text-align: right;\">\n",
       "      <th></th>\n",
       "      <th>shop_id</th>\n",
       "      <th>total_sales</th>\n",
       "    </tr>\n",
       "  </thead>\n",
       "  <tbody>\n",
       "    <tr>\n",
       "      <th>0</th>\n",
       "      <td>SHOP001</td>\n",
       "      <td>1112377.5</td>\n",
       "    </tr>\n",
       "    <tr>\n",
       "      <th>1</th>\n",
       "      <td>SHOP002</td>\n",
       "      <td>2004035.0</td>\n",
       "    </tr>\n",
       "    <tr>\n",
       "      <th>2</th>\n",
       "      <td>SHOP003</td>\n",
       "      <td>1337550.0</td>\n",
       "    </tr>\n",
       "    <tr>\n",
       "      <th>3</th>\n",
       "      <td>SHOP004</td>\n",
       "      <td>1185117.5</td>\n",
       "    </tr>\n",
       "    <tr>\n",
       "      <th>4</th>\n",
       "      <td>SHOP005</td>\n",
       "      <td>1664075.0</td>\n",
       "    </tr>\n",
       "  </tbody>\n",
       "</table>\n",
       "</div>"
      ],
      "text/plain": [
       "   shop_id  total_sales\n",
       "0  SHOP001    1112377.5\n",
       "1  SHOP002    2004035.0\n",
       "2  SHOP003    1337550.0\n",
       "3  SHOP004    1185117.5\n",
       "4  SHOP005    1664075.0"
      ]
     },
     "execution_count": 29,
     "metadata": {},
     "output_type": "execute_result"
    }
   ],
   "source": [
    "sales_by_shop = df.groupby('shop_id')['sale_amount'].sum().reset_index()\n",
    "sales_by_shop.rename(columns={'sale_amount': 'total_sales'}, inplace=True)\n",
    "sales_by_shop.head()"
   ]
  },
  {
   "cell_type": "code",
   "execution_count": 30,
   "id": "250e98dd",
   "metadata": {
    "ExecuteTime": {
     "end_time": "2023-04-26T19:36:33.115070Z",
     "start_time": "2023-04-26T19:36:33.052144Z"
    }
   },
   "outputs": [
    {
     "data": {
      "text/html": [
       "<div>\n",
       "<style scoped>\n",
       "    .dataframe tbody tr th:only-of-type {\n",
       "        vertical-align: middle;\n",
       "    }\n",
       "\n",
       "    .dataframe tbody tr th {\n",
       "        vertical-align: top;\n",
       "    }\n",
       "\n",
       "    .dataframe thead th {\n",
       "        text-align: right;\n",
       "    }\n",
       "</style>\n",
       "<table border=\"1\" class=\"dataframe\">\n",
       "  <thead>\n",
       "    <tr style=\"text-align: right;\">\n",
       "      <th></th>\n",
       "      <th>shop_id</th>\n",
       "      <th>shop_area_sq_ft</th>\n",
       "      <th>shop_profile</th>\n",
       "      <th>median_daily_income</th>\n",
       "      <th>total_sales</th>\n",
       "    </tr>\n",
       "  </thead>\n",
       "  <tbody>\n",
       "    <tr>\n",
       "      <th>0</th>\n",
       "      <td>SHOP047</td>\n",
       "      <td>528</td>\n",
       "      <td>Moderate</td>\n",
       "      <td>358.023256</td>\n",
       "      <td>624235.0</td>\n",
       "    </tr>\n",
       "    <tr>\n",
       "      <th>1</th>\n",
       "      <td>SHOP009</td>\n",
       "      <td>676</td>\n",
       "      <td>High</td>\n",
       "      <td>322.291667</td>\n",
       "      <td>1527130.0</td>\n",
       "    </tr>\n",
       "    <tr>\n",
       "      <th>2</th>\n",
       "      <td>SHOP083</td>\n",
       "      <td>676</td>\n",
       "      <td>Low</td>\n",
       "      <td>343.200000</td>\n",
       "      <td>1241845.0</td>\n",
       "    </tr>\n",
       "    <tr>\n",
       "      <th>3</th>\n",
       "      <td>SHOP117</td>\n",
       "      <td>676</td>\n",
       "      <td>Low</td>\n",
       "      <td>401.896552</td>\n",
       "      <td>1601240.0</td>\n",
       "    </tr>\n",
       "    <tr>\n",
       "      <th>4</th>\n",
       "      <td>SHOP042</td>\n",
       "      <td>676</td>\n",
       "      <td>Low</td>\n",
       "      <td>315.138889</td>\n",
       "      <td>1068255.0</td>\n",
       "    </tr>\n",
       "  </tbody>\n",
       "</table>\n",
       "</div>"
      ],
      "text/plain": [
       "   shop_id  shop_area_sq_ft shop_profile  median_daily_income  total_sales\n",
       "0  SHOP047              528     Moderate           358.023256     624235.0\n",
       "1  SHOP009              676         High           322.291667    1527130.0\n",
       "2  SHOP083              676          Low           343.200000    1241845.0\n",
       "3  SHOP117              676          Low           401.896552    1601240.0\n",
       "4  SHOP042              676          Low           315.138889    1068255.0"
      ]
     },
     "execution_count": 30,
     "metadata": {},
     "output_type": "execute_result"
    }
   ],
   "source": [
    "df1 = df1.merge(sales_by_shop, how='left', on='shop_id')\n",
    "df1.head()"
   ]
  },
  {
   "cell_type": "code",
   "execution_count": 31,
   "id": "2b2cbbb9",
   "metadata": {},
   "outputs": [
    {
     "data": {
      "text/plain": [
       "<AxesSubplot:xlabel='shop_id', ylabel='total_sales'>"
      ]
     },
     "execution_count": 31,
     "metadata": {},
     "output_type": "execute_result"
    },
    {
     "data": {
      "image/png": "[encoded data removed]",
      "text/plain": [
       "<Figure size 864x432 with 1 Axes>"
      ]
     },
     "metadata": {
      "needs_background": "light"
     },
     "output_type": "display_data"
    }
   ],
   "source": [
    "# scatterplot of sales amount and shop id\n",
    "fig, ax = plt.subplots(figsize=(12, 6))\n",
    "sns.scatterplot(x='shop_id', y='total_sales', data=df1, hue='shop_profile', ax=ax)"
   ]
  },
  {
   "cell_type": "code",
   "execution_count": 32,
   "id": "75339481",
   "metadata": {
    "ExecuteTime": {
     "end_time": "2023-04-26T19:36:33.177619Z",
     "start_time": "2023-04-26T19:36:33.067764Z"
    }
   },
   "outputs": [
    {
     "data": {
      "text/html": [
       "<div>\n",
       "<style scoped>\n",
       "    .dataframe tbody tr th:only-of-type {\n",
       "        vertical-align: middle;\n",
       "    }\n",
       "\n",
       "    .dataframe tbody tr th {\n",
       "        vertical-align: top;\n",
       "    }\n",
       "\n",
       "    .dataframe thead th {\n",
       "        text-align: right;\n",
       "    }\n",
       "</style>\n",
       "<table border=\"1\" class=\"dataframe\">\n",
       "  <thead>\n",
       "    <tr style=\"text-align: right;\">\n",
       "      <th></th>\n",
       "      <th>shop_id</th>\n",
       "      <th>shop_area_sq_ft</th>\n",
       "      <th>shop_profile</th>\n",
       "      <th>median_daily_income</th>\n",
       "      <th>total_sales</th>\n",
       "      <th>total_sales_per_sqft</th>\n",
       "    </tr>\n",
       "  </thead>\n",
       "  <tbody>\n",
       "    <tr>\n",
       "      <th>0</th>\n",
       "      <td>SHOP047</td>\n",
       "      <td>528</td>\n",
       "      <td>Moderate</td>\n",
       "      <td>358.023256</td>\n",
       "      <td>624235.0</td>\n",
       "      <td>1182.263258</td>\n",
       "    </tr>\n",
       "    <tr>\n",
       "      <th>1</th>\n",
       "      <td>SHOP009</td>\n",
       "      <td>676</td>\n",
       "      <td>High</td>\n",
       "      <td>322.291667</td>\n",
       "      <td>1527130.0</td>\n",
       "      <td>2259.068047</td>\n",
       "    </tr>\n",
       "    <tr>\n",
       "      <th>2</th>\n",
       "      <td>SHOP083</td>\n",
       "      <td>676</td>\n",
       "      <td>Low</td>\n",
       "      <td>343.200000</td>\n",
       "      <td>1241845.0</td>\n",
       "      <td>1837.048817</td>\n",
       "    </tr>\n",
       "    <tr>\n",
       "      <th>3</th>\n",
       "      <td>SHOP117</td>\n",
       "      <td>676</td>\n",
       "      <td>Low</td>\n",
       "      <td>401.896552</td>\n",
       "      <td>1601240.0</td>\n",
       "      <td>2368.698225</td>\n",
       "    </tr>\n",
       "    <tr>\n",
       "      <th>4</th>\n",
       "      <td>SHOP042</td>\n",
       "      <td>676</td>\n",
       "      <td>Low</td>\n",
       "      <td>315.138889</td>\n",
       "      <td>1068255.0</td>\n",
       "      <td>1580.258876</td>\n",
       "    </tr>\n",
       "  </tbody>\n",
       "</table>\n",
       "</div>"
      ],
      "text/plain": [
       "   shop_id  shop_area_sq_ft shop_profile  median_daily_income  total_sales  \\\n",
       "0  SHOP047              528     Moderate           358.023256     624235.0   \n",
       "1  SHOP009              676         High           322.291667    1527130.0   \n",
       "2  SHOP083              676          Low           343.200000    1241845.0   \n",
       "3  SHOP117              676          Low           401.896552    1601240.0   \n",
       "4  SHOP042              676          Low           315.138889    1068255.0   \n",
       "\n",
       "   total_sales_per_sqft  \n",
       "0           1182.263258  \n",
       "1           2259.068047  \n",
       "2           1837.048817  \n",
       "3           2368.698225  \n",
       "4           1580.258876  "
      ]
     },
     "execution_count": 32,
     "metadata": {},
     "output_type": "execute_result"
    }
   ],
   "source": [
    "df1['total_sales_per_sqft'] = df1['total_sales'] / df1['shop_area_sq_ft']\n",
    "df1.head()"
   ]
  },
  {
   "cell_type": "code",
   "execution_count": 33,
   "id": "4c0a98c8",
   "metadata": {},
   "outputs": [
    {
     "data": {
      "text/plain": [
       "<AxesSubplot:xlabel='shop_id', ylabel='total_sales_per_sqft'>"
      ]
     },
     "execution_count": 33,
     "metadata": {},
     "output_type": "execute_result"
    },
    {
     "data": {
      "image/png": "[encoded data removed]",
      "text/plain": [
       "<Figure size 864x432 with 1 Axes>"
      ]
     },
     "metadata": {
      "needs_background": "light"
     },
     "output_type": "display_data"
    }
   ],
   "source": [
    "# scatterplot of sales amount per square fett and shop id hue by shop profile\n",
    "fig, ax = plt.subplots(figsize=(12, 6))\n",
    "sns.scatterplot(x='shop_id', y='total_sales_per_sqft', data=df1, hue='shop_profile', ax=ax)"
   ]
  },
  {
   "cell_type": "code",
   "execution_count": 34,
   "id": "3af40fdc",
   "metadata": {
    "ExecuteTime": {
     "end_time": "2023-04-26T19:36:33.381692Z",
     "start_time": "2023-04-26T19:36:33.115070Z"
    }
   },
   "outputs": [
    {
     "data": {
      "text/html": [
       "<div>\n",
       "<style scoped>\n",
       "    .dataframe tbody tr th:only-of-type {\n",
       "        vertical-align: middle;\n",
       "    }\n",
       "\n",
       "    .dataframe tbody tr th {\n",
       "        vertical-align: top;\n",
       "    }\n",
       "\n",
       "    .dataframe thead th {\n",
       "        text-align: right;\n",
       "    }\n",
       "</style>\n",
       "<table border=\"1\" class=\"dataframe\">\n",
       "  <thead>\n",
       "    <tr style=\"text-align: right;\">\n",
       "      <th></th>\n",
       "      <th>shop_id</th>\n",
       "      <th>num_unique_customers</th>\n",
       "    </tr>\n",
       "  </thead>\n",
       "  <tbody>\n",
       "    <tr>\n",
       "      <th>0</th>\n",
       "      <td>SHOP001</td>\n",
       "      <td>1106</td>\n",
       "    </tr>\n",
       "    <tr>\n",
       "      <th>1</th>\n",
       "      <td>SHOP002</td>\n",
       "      <td>2546</td>\n",
       "    </tr>\n",
       "    <tr>\n",
       "      <th>2</th>\n",
       "      <td>SHOP003</td>\n",
       "      <td>2038</td>\n",
       "    </tr>\n",
       "    <tr>\n",
       "      <th>3</th>\n",
       "      <td>SHOP004</td>\n",
       "      <td>1724</td>\n",
       "    </tr>\n",
       "    <tr>\n",
       "      <th>4</th>\n",
       "      <td>SHOP005</td>\n",
       "      <td>2189</td>\n",
       "    </tr>\n",
       "  </tbody>\n",
       "</table>\n",
       "</div>"
      ],
      "text/plain": [
       "   shop_id  num_unique_customers\n",
       "0  SHOP001                  1106\n",
       "1  SHOP002                  2546\n",
       "2  SHOP003                  2038\n",
       "3  SHOP004                  1724\n",
       "4  SHOP005                  2189"
      ]
     },
     "execution_count": 34,
     "metadata": {},
     "output_type": "execute_result"
    }
   ],
   "source": [
    "customers_per_shop = HistTrans.groupby('shop_id')['customer_id'].nunique().reset_index(name='num_unique_customers')\n",
    "customers_per_shop.head()"
   ]
  },
  {
   "cell_type": "code",
   "execution_count": 35,
   "id": "13b2a43c",
   "metadata": {
    "ExecuteTime": {
     "end_time": "2023-04-26T19:36:33.475090Z",
     "start_time": "2023-04-26T19:36:33.399005Z"
    },
    "scrolled": true
   },
   "outputs": [
    {
     "data": {
      "text/html": [
       "<div>\n",
       "<style scoped>\n",
       "    .dataframe tbody tr th:only-of-type {\n",
       "        vertical-align: middle;\n",
       "    }\n",
       "\n",
       "    .dataframe tbody tr th {\n",
       "        vertical-align: top;\n",
       "    }\n",
       "\n",
       "    .dataframe thead th {\n",
       "        text-align: right;\n",
       "    }\n",
       "</style>\n",
       "<table border=\"1\" class=\"dataframe\">\n",
       "  <thead>\n",
       "    <tr style=\"text-align: right;\">\n",
       "      <th></th>\n",
       "      <th>shop_id</th>\n",
       "      <th>shop_area_sq_ft</th>\n",
       "      <th>shop_profile</th>\n",
       "      <th>median_daily_income</th>\n",
       "      <th>total_sales</th>\n",
       "      <th>total_sales_per_sqft</th>\n",
       "      <th>num_unique_customers</th>\n",
       "    </tr>\n",
       "  </thead>\n",
       "  <tbody>\n",
       "    <tr>\n",
       "      <th>0</th>\n",
       "      <td>SHOP047</td>\n",
       "      <td>528</td>\n",
       "      <td>Moderate</td>\n",
       "      <td>358.023256</td>\n",
       "      <td>624235.0</td>\n",
       "      <td>1182.263258</td>\n",
       "      <td>920</td>\n",
       "    </tr>\n",
       "    <tr>\n",
       "      <th>1</th>\n",
       "      <td>SHOP009</td>\n",
       "      <td>676</td>\n",
       "      <td>High</td>\n",
       "      <td>322.291667</td>\n",
       "      <td>1527130.0</td>\n",
       "      <td>2259.068047</td>\n",
       "      <td>2476</td>\n",
       "    </tr>\n",
       "    <tr>\n",
       "      <th>2</th>\n",
       "      <td>SHOP083</td>\n",
       "      <td>676</td>\n",
       "      <td>Low</td>\n",
       "      <td>343.200000</td>\n",
       "      <td>1241845.0</td>\n",
       "      <td>1837.048817</td>\n",
       "      <td>1876</td>\n",
       "    </tr>\n",
       "    <tr>\n",
       "      <th>3</th>\n",
       "      <td>SHOP117</td>\n",
       "      <td>676</td>\n",
       "      <td>Low</td>\n",
       "      <td>401.896552</td>\n",
       "      <td>1601240.0</td>\n",
       "      <td>2368.698225</td>\n",
       "      <td>2015</td>\n",
       "    </tr>\n",
       "    <tr>\n",
       "      <th>4</th>\n",
       "      <td>SHOP042</td>\n",
       "      <td>676</td>\n",
       "      <td>Low</td>\n",
       "      <td>315.138889</td>\n",
       "      <td>1068255.0</td>\n",
       "      <td>1580.258876</td>\n",
       "      <td>1826</td>\n",
       "    </tr>\n",
       "  </tbody>\n",
       "</table>\n",
       "</div>"
      ],
      "text/plain": [
       "   shop_id  shop_area_sq_ft shop_profile  median_daily_income  total_sales  \\\n",
       "0  SHOP047              528     Moderate           358.023256     624235.0   \n",
       "1  SHOP009              676         High           322.291667    1527130.0   \n",
       "2  SHOP083              676          Low           343.200000    1241845.0   \n",
       "3  SHOP117              676          Low           401.896552    1601240.0   \n",
       "4  SHOP042              676          Low           315.138889    1068255.0   \n",
       "\n",
       "   total_sales_per_sqft  num_unique_customers  \n",
       "0           1182.263258                   920  \n",
       "1           2259.068047                  2476  \n",
       "2           1837.048817                  1876  \n",
       "3           2368.698225                  2015  \n",
       "4           1580.258876                  1826  "
      ]
     },
     "execution_count": 35,
     "metadata": {},
     "output_type": "execute_result"
    }
   ],
   "source": [
    "df1 = df1.merge(customers_per_shop, how='left', on='shop_id')\n",
    "df1.head()"
   ]
  },
  {
   "cell_type": "code",
   "execution_count": 36,
   "id": "c0d85efb",
   "metadata": {},
   "outputs": [
    {
     "data": {
      "text/plain": [
       "<AxesSubplot:xlabel='shop_id', ylabel='num_unique_customers'>"
      ]
     },
     "execution_count": 36,
     "metadata": {},
     "output_type": "execute_result"
    },
    {
     "data": {
      "image/png": "[encoded data removed]",
      "text/plain": [
       "<Figure size 864x432 with 1 Axes>"
      ]
     },
     "metadata": {
      "needs_background": "light"
     },
     "output_type": "display_data"
    }
   ],
   "source": [
    "# scatter plot of number of unique customers and shop id hue by shop profile\n",
    "fig, ax = plt.subplots(figsize=(12, 6))\n",
    "sns.scatterplot(x='shop_id', y='num_unique_customers', data=df1, hue='shop_profile', ax=ax)"
   ]
  },
  {
   "cell_type": "code",
   "execution_count": 37,
   "id": "2924b1e9",
   "metadata": {
    "ExecuteTime": {
     "end_time": "2023-04-26T19:36:33.694951Z",
     "start_time": "2023-04-26T19:36:33.412575Z"
    }
   },
   "outputs": [
    {
     "data": {
      "text/html": [
       "<div>\n",
       "<style scoped>\n",
       "    .dataframe tbody tr th:only-of-type {\n",
       "        vertical-align: middle;\n",
       "    }\n",
       "\n",
       "    .dataframe tbody tr th {\n",
       "        vertical-align: top;\n",
       "    }\n",
       "\n",
       "    .dataframe thead th {\n",
       "        text-align: right;\n",
       "    }\n",
       "</style>\n",
       "<table border=\"1\" class=\"dataframe\">\n",
       "  <thead>\n",
       "    <tr style=\"text-align: right;\">\n",
       "      <th></th>\n",
       "      <th>shop_id</th>\n",
       "      <th>num_unique_items</th>\n",
       "    </tr>\n",
       "  </thead>\n",
       "  <tbody>\n",
       "    <tr>\n",
       "      <th>0</th>\n",
       "      <td>SHOP001</td>\n",
       "      <td>35</td>\n",
       "    </tr>\n",
       "    <tr>\n",
       "      <th>1</th>\n",
       "      <td>SHOP002</td>\n",
       "      <td>35</td>\n",
       "    </tr>\n",
       "    <tr>\n",
       "      <th>2</th>\n",
       "      <td>SHOP003</td>\n",
       "      <td>35</td>\n",
       "    </tr>\n",
       "    <tr>\n",
       "      <th>3</th>\n",
       "      <td>SHOP004</td>\n",
       "      <td>35</td>\n",
       "    </tr>\n",
       "    <tr>\n",
       "      <th>4</th>\n",
       "      <td>SHOP005</td>\n",
       "      <td>36</td>\n",
       "    </tr>\n",
       "    <tr>\n",
       "      <th>...</th>\n",
       "      <td>...</td>\n",
       "      <td>...</td>\n",
       "    </tr>\n",
       "    <tr>\n",
       "      <th>119</th>\n",
       "      <td>SHOP123</td>\n",
       "      <td>36</td>\n",
       "    </tr>\n",
       "    <tr>\n",
       "      <th>120</th>\n",
       "      <td>SHOP124</td>\n",
       "      <td>35</td>\n",
       "    </tr>\n",
       "    <tr>\n",
       "      <th>121</th>\n",
       "      <td>SHOP125</td>\n",
       "      <td>36</td>\n",
       "    </tr>\n",
       "    <tr>\n",
       "      <th>122</th>\n",
       "      <td>SHOP126</td>\n",
       "      <td>31</td>\n",
       "    </tr>\n",
       "    <tr>\n",
       "      <th>123</th>\n",
       "      <td>SHOP127</td>\n",
       "      <td>36</td>\n",
       "    </tr>\n",
       "  </tbody>\n",
       "</table>\n",
       "<p>124 rows × 2 columns</p>\n",
       "</div>"
      ],
      "text/plain": [
       "     shop_id  num_unique_items\n",
       "0    SHOP001                35\n",
       "1    SHOP002                35\n",
       "2    SHOP003                35\n",
       "3    SHOP004                35\n",
       "4    SHOP005                36\n",
       "..       ...               ...\n",
       "119  SHOP123                36\n",
       "120  SHOP124                35\n",
       "121  SHOP125                36\n",
       "122  SHOP126                31\n",
       "123  SHOP127                36\n",
       "\n",
       "[124 rows x 2 columns]"
      ]
     },
     "execution_count": 37,
     "metadata": {},
     "output_type": "execute_result"
    }
   ],
   "source": [
    "item_per_shop = HistTrans.groupby('shop_id')['item_description'].nunique().reset_index(name='num_unique_items')\n",
    "item_per_shop"
   ]
  },
  {
   "cell_type": "code",
   "execution_count": 38,
   "id": "e27c59cd",
   "metadata": {},
   "outputs": [
    {
     "data": {
      "text/plain": [
       "<AxesSubplot:xlabel='shop_id', ylabel='num_unique_items'>"
      ]
     },
     "execution_count": 38,
     "metadata": {},
     "output_type": "execute_result"
    },
    {
     "data": {
      "image/png": "[encoded data removed]",
      "text/plain": [
       "<Figure size 864x432 with 1 Axes>"
      ]
     },
     "metadata": {
      "needs_background": "light"
     },
     "output_type": "display_data"
    }
   ],
   "source": [
    "# plot of number of unique items and shop id hue by shop profile\n",
    "fig, ax = plt.subplots(figsize=(12, 6))\n",
    "sns.scatterplot(x='shop_id', y='num_unique_items', data=pd.merge(pd.DataFrame(df1[['shop_id', 'shop_profile']]), item_per_shop, on='shop_id', how='left'), hue='shop_profile', ax=ax)"
   ]
  },
  {
   "cell_type": "code",
   "execution_count": 39,
   "id": "bb28a5e3",
   "metadata": {
    "ExecuteTime": {
     "end_time": "2023-04-26T19:36:33.852014Z",
     "start_time": "2023-04-26T19:36:33.710969Z"
    },
    "scrolled": true
   },
   "outputs": [
    {
     "data": {
      "text/html": [
       "<div>\n",
       "<style scoped>\n",
       "    .dataframe tbody tr th:only-of-type {\n",
       "        vertical-align: middle;\n",
       "    }\n",
       "\n",
       "    .dataframe tbody tr th {\n",
       "        vertical-align: top;\n",
       "    }\n",
       "\n",
       "    .dataframe thead th {\n",
       "        text-align: right;\n",
       "    }\n",
       "</style>\n",
       "<table border=\"1\" class=\"dataframe\">\n",
       "  <thead>\n",
       "    <tr style=\"text-align: right;\">\n",
       "      <th></th>\n",
       "      <th>shop_id</th>\n",
       "      <th>num_transactions</th>\n",
       "    </tr>\n",
       "  </thead>\n",
       "  <tbody>\n",
       "    <tr>\n",
       "      <th>0</th>\n",
       "      <td>SHOP001</td>\n",
       "      <td>1980</td>\n",
       "    </tr>\n",
       "    <tr>\n",
       "      <th>1</th>\n",
       "      <td>SHOP002</td>\n",
       "      <td>4721</td>\n",
       "    </tr>\n",
       "    <tr>\n",
       "      <th>2</th>\n",
       "      <td>SHOP003</td>\n",
       "      <td>3597</td>\n",
       "    </tr>\n",
       "    <tr>\n",
       "      <th>3</th>\n",
       "      <td>SHOP004</td>\n",
       "      <td>3392</td>\n",
       "    </tr>\n",
       "    <tr>\n",
       "      <th>4</th>\n",
       "      <td>SHOP005</td>\n",
       "      <td>4138</td>\n",
       "    </tr>\n",
       "    <tr>\n",
       "      <th>...</th>\n",
       "      <td>...</td>\n",
       "      <td>...</td>\n",
       "    </tr>\n",
       "    <tr>\n",
       "      <th>119</th>\n",
       "      <td>SHOP123</td>\n",
       "      <td>2035</td>\n",
       "    </tr>\n",
       "    <tr>\n",
       "      <th>120</th>\n",
       "      <td>SHOP124</td>\n",
       "      <td>4366</td>\n",
       "    </tr>\n",
       "    <tr>\n",
       "      <th>121</th>\n",
       "      <td>SHOP125</td>\n",
       "      <td>1838</td>\n",
       "    </tr>\n",
       "    <tr>\n",
       "      <th>122</th>\n",
       "      <td>SHOP126</td>\n",
       "      <td>3141</td>\n",
       "    </tr>\n",
       "    <tr>\n",
       "      <th>123</th>\n",
       "      <td>SHOP127</td>\n",
       "      <td>4069</td>\n",
       "    </tr>\n",
       "  </tbody>\n",
       "</table>\n",
       "<p>124 rows × 2 columns</p>\n",
       "</div>"
      ],
      "text/plain": [
       "     shop_id  num_transactions\n",
       "0    SHOP001              1980\n",
       "1    SHOP002              4721\n",
       "2    SHOP003              3597\n",
       "3    SHOP004              3392\n",
       "4    SHOP005              4138\n",
       "..       ...               ...\n",
       "119  SHOP123              2035\n",
       "120  SHOP124              4366\n",
       "121  SHOP125              1838\n",
       "122  SHOP126              3141\n",
       "123  SHOP127              4069\n",
       "\n",
       "[124 rows x 2 columns]"
      ]
     },
     "execution_count": 39,
     "metadata": {},
     "output_type": "execute_result"
    }
   ],
   "source": [
    "num_transactions_per_shop = HistTrans.groupby('shop_id').size().reset_index(name='num_transactions')\n",
    "num_transactions_per_shop"
   ]
  },
  {
   "cell_type": "code",
   "execution_count": 40,
   "id": "c47db97c",
   "metadata": {
    "ExecuteTime": {
     "end_time": "2023-04-26T19:36:33.883261Z",
     "start_time": "2023-04-26T19:36:33.742230Z"
    },
    "scrolled": true
   },
   "outputs": [],
   "source": [
    "df1 = df1.merge(num_transactions_per_shop, how='left', on='shop_id')"
   ]
  },
  {
   "cell_type": "code",
   "execution_count": 41,
   "id": "663191b2",
   "metadata": {},
   "outputs": [
    {
     "data": {
      "text/plain": [
       "<AxesSubplot:xlabel='shop_id', ylabel='num_transactions'>"
      ]
     },
     "execution_count": 41,
     "metadata": {},
     "output_type": "execute_result"
    },
    {
     "data": {
      "image/png": "[encoded data removed]",
      "text/plain": [
       "<Figure size 864x432 with 1 Axes>"
      ]
     },
     "metadata": {
      "needs_background": "light"
     },
     "output_type": "display_data"
    }
   ],
   "source": [
    "# scatter plot of number of transactions and shop id hue by shop profile\n",
    "fig, ax = plt.subplots(figsize=(12, 6))\n",
    "sns.scatterplot(x='shop_id', y='num_transactions', data=df1, hue='shop_profile', ax=ax)"
   ]
  },
  {
   "cell_type": "code",
   "execution_count": 42,
   "id": "f94400f2",
   "metadata": {
    "ExecuteTime": {
     "end_time": "2023-04-26T19:36:33.883261Z",
     "start_time": "2023-04-26T19:36:33.773481Z"
    },
    "scrolled": true
   },
   "outputs": [
    {
     "data": {
      "text/html": [
       "<div>\n",
       "<style scoped>\n",
       "    .dataframe tbody tr th:only-of-type {\n",
       "        vertical-align: middle;\n",
       "    }\n",
       "\n",
       "    .dataframe tbody tr th {\n",
       "        vertical-align: top;\n",
       "    }\n",
       "\n",
       "    .dataframe thead th {\n",
       "        text-align: right;\n",
       "    }\n",
       "</style>\n",
       "<table border=\"1\" class=\"dataframe\">\n",
       "  <thead>\n",
       "    <tr style=\"text-align: right;\">\n",
       "      <th></th>\n",
       "      <th>shop_id</th>\n",
       "      <th>shop_area_sq_ft</th>\n",
       "      <th>shop_profile</th>\n",
       "      <th>median_daily_income</th>\n",
       "      <th>total_sales</th>\n",
       "      <th>total_sales_per_sqft</th>\n",
       "      <th>num_unique_customers</th>\n",
       "      <th>num_transactions</th>\n",
       "      <th>sales_per_customer</th>\n",
       "    </tr>\n",
       "  </thead>\n",
       "  <tbody>\n",
       "    <tr>\n",
       "      <th>0</th>\n",
       "      <td>SHOP047</td>\n",
       "      <td>528</td>\n",
       "      <td>Moderate</td>\n",
       "      <td>358.023256</td>\n",
       "      <td>624235.0</td>\n",
       "      <td>1182.263258</td>\n",
       "      <td>920</td>\n",
       "      <td>1662</td>\n",
       "      <td>375.592659</td>\n",
       "    </tr>\n",
       "    <tr>\n",
       "      <th>1</th>\n",
       "      <td>SHOP009</td>\n",
       "      <td>676</td>\n",
       "      <td>High</td>\n",
       "      <td>322.291667</td>\n",
       "      <td>1527130.0</td>\n",
       "      <td>2259.068047</td>\n",
       "      <td>2476</td>\n",
       "      <td>4517</td>\n",
       "      <td>338.085012</td>\n",
       "    </tr>\n",
       "    <tr>\n",
       "      <th>2</th>\n",
       "      <td>SHOP083</td>\n",
       "      <td>676</td>\n",
       "      <td>Low</td>\n",
       "      <td>343.200000</td>\n",
       "      <td>1241845.0</td>\n",
       "      <td>1837.048817</td>\n",
       "      <td>1876</td>\n",
       "      <td>3550</td>\n",
       "      <td>349.815493</td>\n",
       "    </tr>\n",
       "    <tr>\n",
       "      <th>3</th>\n",
       "      <td>SHOP117</td>\n",
       "      <td>676</td>\n",
       "      <td>Low</td>\n",
       "      <td>401.896552</td>\n",
       "      <td>1601240.0</td>\n",
       "      <td>2368.698225</td>\n",
       "      <td>2015</td>\n",
       "      <td>4015</td>\n",
       "      <td>398.814446</td>\n",
       "    </tr>\n",
       "    <tr>\n",
       "      <th>4</th>\n",
       "      <td>SHOP042</td>\n",
       "      <td>676</td>\n",
       "      <td>Low</td>\n",
       "      <td>315.138889</td>\n",
       "      <td>1068255.0</td>\n",
       "      <td>1580.258876</td>\n",
       "      <td>1826</td>\n",
       "      <td>3219</td>\n",
       "      <td>331.859273</td>\n",
       "    </tr>\n",
       "  </tbody>\n",
       "</table>\n",
       "</div>"
      ],
      "text/plain": [
       "   shop_id  shop_area_sq_ft shop_profile  median_daily_income  total_sales  \\\n",
       "0  SHOP047              528     Moderate           358.023256     624235.0   \n",
       "1  SHOP009              676         High           322.291667    1527130.0   \n",
       "2  SHOP083              676          Low           343.200000    1241845.0   \n",
       "3  SHOP117              676          Low           401.896552    1601240.0   \n",
       "4  SHOP042              676          Low           315.138889    1068255.0   \n",
       "\n",
       "   total_sales_per_sqft  num_unique_customers  num_transactions  \\\n",
       "0           1182.263258                   920              1662   \n",
       "1           2259.068047                  2476              4517   \n",
       "2           1837.048817                  1876              3550   \n",
       "3           2368.698225                  2015              4015   \n",
       "4           1580.258876                  1826              3219   \n",
       "\n",
       "   sales_per_customer  \n",
       "0          375.592659  \n",
       "1          338.085012  \n",
       "2          349.815493  \n",
       "3          398.814446  \n",
       "4          331.859273  "
      ]
     },
     "execution_count": 42,
     "metadata": {},
     "output_type": "execute_result"
    }
   ],
   "source": [
    "df1['sales_per_customer'] = df1['total_sales']/df1['num_transactions']\n",
    "df1.head()"
   ]
  },
  {
   "cell_type": "code",
   "execution_count": 43,
   "id": "7403e1db",
   "metadata": {},
   "outputs": [
    {
     "data": {
      "text/plain": [
       "<AxesSubplot:xlabel='shop_id', ylabel='sales_per_customer'>"
      ]
     },
     "execution_count": 43,
     "metadata": {},
     "output_type": "execute_result"
    },
    {
     "data": {
      "image/png": "[encoded data removed]",
      "text/plain": [
       "<Figure size 864x432 with 1 Axes>"
      ]
     },
     "metadata": {
      "needs_background": "light"
     },
     "output_type": "display_data"
    }
   ],
   "source": [
    "# scatter plot of sales per customer and shop id hue by shop profile\n",
    "fig, ax = plt.subplots(figsize=(12, 6))\n",
    "sns.scatterplot(x='shop_id', y='sales_per_customer', data=df1, hue='shop_profile', ax=ax)"
   ]
  },
  {
   "cell_type": "code",
   "execution_count": 44,
   "id": "0592c4f5",
   "metadata": {},
   "outputs": [
    {
     "data": {
      "text/html": [
       "<div>\n",
       "<style scoped>\n",
       "    .dataframe tbody tr th:only-of-type {\n",
       "        vertical-align: middle;\n",
       "    }\n",
       "\n",
       "    .dataframe tbody tr th {\n",
       "        vertical-align: top;\n",
       "    }\n",
       "\n",
       "    .dataframe thead th {\n",
       "        text-align: right;\n",
       "    }\n",
       "</style>\n",
       "<table border=\"1\" class=\"dataframe\">\n",
       "  <thead>\n",
       "    <tr style=\"text-align: right;\">\n",
       "      <th></th>\n",
       "      <th>shop_id</th>\n",
       "      <th>FIT O ORANGE</th>\n",
       "      <th>TONIC PET</th>\n",
       "      <th>BOTTLED DRINKING WATER</th>\n",
       "      <th>FIT O MANGO</th>\n",
       "      <th>CHOCOLATE MILK</th>\n",
       "      <th>NECTO</th>\n",
       "      <th>LIME CRUSH JUICE</th>\n",
       "      <th>ORANGE CRUSH</th>\n",
       "      <th>GINGER BEER</th>\n",
       "      <th>...</th>\n",
       "      <th>GINGER BEER SUGAR FREE</th>\n",
       "      <th>STRAWBERRY MILK</th>\n",
       "      <th>FIT O MIXED FRUIT</th>\n",
       "      <th>KIK COLA</th>\n",
       "      <th>SODA</th>\n",
       "      <th>DRY GINGER ALE PET</th>\n",
       "      <th>CREAM SODA</th>\n",
       "      <th>ORANGE BARLEY</th>\n",
       "      <th>CREAM SODA APPLE POP</th>\n",
       "      <th>SODA PET</th>\n",
       "    </tr>\n",
       "  </thead>\n",
       "  <tbody>\n",
       "    <tr>\n",
       "      <th>0</th>\n",
       "      <td>SHOP001</td>\n",
       "      <td>1</td>\n",
       "      <td>1</td>\n",
       "      <td>1</td>\n",
       "      <td>1</td>\n",
       "      <td>0</td>\n",
       "      <td>1</td>\n",
       "      <td>0</td>\n",
       "      <td>1</td>\n",
       "      <td>1</td>\n",
       "      <td>...</td>\n",
       "      <td>1</td>\n",
       "      <td>1</td>\n",
       "      <td>1</td>\n",
       "      <td>1</td>\n",
       "      <td>1</td>\n",
       "      <td>1</td>\n",
       "      <td>1</td>\n",
       "      <td>1</td>\n",
       "      <td>1</td>\n",
       "      <td>1</td>\n",
       "    </tr>\n",
       "    <tr>\n",
       "      <th>1</th>\n",
       "      <td>SHOP002</td>\n",
       "      <td>1</td>\n",
       "      <td>1</td>\n",
       "      <td>1</td>\n",
       "      <td>1</td>\n",
       "      <td>0</td>\n",
       "      <td>1</td>\n",
       "      <td>0</td>\n",
       "      <td>1</td>\n",
       "      <td>1</td>\n",
       "      <td>...</td>\n",
       "      <td>1</td>\n",
       "      <td>1</td>\n",
       "      <td>1</td>\n",
       "      <td>1</td>\n",
       "      <td>1</td>\n",
       "      <td>1</td>\n",
       "      <td>1</td>\n",
       "      <td>1</td>\n",
       "      <td>1</td>\n",
       "      <td>1</td>\n",
       "    </tr>\n",
       "    <tr>\n",
       "      <th>2</th>\n",
       "      <td>SHOP003</td>\n",
       "      <td>1</td>\n",
       "      <td>1</td>\n",
       "      <td>1</td>\n",
       "      <td>1</td>\n",
       "      <td>0</td>\n",
       "      <td>1</td>\n",
       "      <td>0</td>\n",
       "      <td>1</td>\n",
       "      <td>1</td>\n",
       "      <td>...</td>\n",
       "      <td>1</td>\n",
       "      <td>1</td>\n",
       "      <td>1</td>\n",
       "      <td>1</td>\n",
       "      <td>1</td>\n",
       "      <td>1</td>\n",
       "      <td>1</td>\n",
       "      <td>1</td>\n",
       "      <td>1</td>\n",
       "      <td>1</td>\n",
       "    </tr>\n",
       "    <tr>\n",
       "      <th>3</th>\n",
       "      <td>SHOP004</td>\n",
       "      <td>1</td>\n",
       "      <td>1</td>\n",
       "      <td>1</td>\n",
       "      <td>1</td>\n",
       "      <td>0</td>\n",
       "      <td>1</td>\n",
       "      <td>0</td>\n",
       "      <td>1</td>\n",
       "      <td>1</td>\n",
       "      <td>...</td>\n",
       "      <td>1</td>\n",
       "      <td>1</td>\n",
       "      <td>1</td>\n",
       "      <td>1</td>\n",
       "      <td>1</td>\n",
       "      <td>1</td>\n",
       "      <td>1</td>\n",
       "      <td>1</td>\n",
       "      <td>1</td>\n",
       "      <td>1</td>\n",
       "    </tr>\n",
       "    <tr>\n",
       "      <th>4</th>\n",
       "      <td>SHOP005</td>\n",
       "      <td>1</td>\n",
       "      <td>1</td>\n",
       "      <td>1</td>\n",
       "      <td>1</td>\n",
       "      <td>0</td>\n",
       "      <td>1</td>\n",
       "      <td>0</td>\n",
       "      <td>1</td>\n",
       "      <td>1</td>\n",
       "      <td>...</td>\n",
       "      <td>1</td>\n",
       "      <td>1</td>\n",
       "      <td>1</td>\n",
       "      <td>1</td>\n",
       "      <td>1</td>\n",
       "      <td>1</td>\n",
       "      <td>1</td>\n",
       "      <td>1</td>\n",
       "      <td>1</td>\n",
       "      <td>1</td>\n",
       "    </tr>\n",
       "    <tr>\n",
       "      <th>...</th>\n",
       "      <td>...</td>\n",
       "      <td>...</td>\n",
       "      <td>...</td>\n",
       "      <td>...</td>\n",
       "      <td>...</td>\n",
       "      <td>...</td>\n",
       "      <td>...</td>\n",
       "      <td>...</td>\n",
       "      <td>...</td>\n",
       "      <td>...</td>\n",
       "      <td>...</td>\n",
       "      <td>...</td>\n",
       "      <td>...</td>\n",
       "      <td>...</td>\n",
       "      <td>...</td>\n",
       "      <td>...</td>\n",
       "      <td>...</td>\n",
       "      <td>...</td>\n",
       "      <td>...</td>\n",
       "      <td>...</td>\n",
       "      <td>...</td>\n",
       "    </tr>\n",
       "    <tr>\n",
       "      <th>119</th>\n",
       "      <td>SHOP123</td>\n",
       "      <td>1</td>\n",
       "      <td>1</td>\n",
       "      <td>1</td>\n",
       "      <td>1</td>\n",
       "      <td>0</td>\n",
       "      <td>1</td>\n",
       "      <td>0</td>\n",
       "      <td>1</td>\n",
       "      <td>1</td>\n",
       "      <td>...</td>\n",
       "      <td>1</td>\n",
       "      <td>1</td>\n",
       "      <td>1</td>\n",
       "      <td>1</td>\n",
       "      <td>1</td>\n",
       "      <td>1</td>\n",
       "      <td>1</td>\n",
       "      <td>1</td>\n",
       "      <td>1</td>\n",
       "      <td>1</td>\n",
       "    </tr>\n",
       "    <tr>\n",
       "      <th>120</th>\n",
       "      <td>SHOP124</td>\n",
       "      <td>1</td>\n",
       "      <td>1</td>\n",
       "      <td>1</td>\n",
       "      <td>1</td>\n",
       "      <td>0</td>\n",
       "      <td>1</td>\n",
       "      <td>0</td>\n",
       "      <td>1</td>\n",
       "      <td>1</td>\n",
       "      <td>...</td>\n",
       "      <td>1</td>\n",
       "      <td>1</td>\n",
       "      <td>1</td>\n",
       "      <td>1</td>\n",
       "      <td>1</td>\n",
       "      <td>1</td>\n",
       "      <td>1</td>\n",
       "      <td>1</td>\n",
       "      <td>1</td>\n",
       "      <td>1</td>\n",
       "    </tr>\n",
       "    <tr>\n",
       "      <th>121</th>\n",
       "      <td>SHOP125</td>\n",
       "      <td>1</td>\n",
       "      <td>1</td>\n",
       "      <td>1</td>\n",
       "      <td>1</td>\n",
       "      <td>0</td>\n",
       "      <td>1</td>\n",
       "      <td>1</td>\n",
       "      <td>1</td>\n",
       "      <td>1</td>\n",
       "      <td>...</td>\n",
       "      <td>1</td>\n",
       "      <td>1</td>\n",
       "      <td>1</td>\n",
       "      <td>1</td>\n",
       "      <td>1</td>\n",
       "      <td>1</td>\n",
       "      <td>1</td>\n",
       "      <td>1</td>\n",
       "      <td>1</td>\n",
       "      <td>1</td>\n",
       "    </tr>\n",
       "    <tr>\n",
       "      <th>122</th>\n",
       "      <td>SHOP126</td>\n",
       "      <td>1</td>\n",
       "      <td>1</td>\n",
       "      <td>1</td>\n",
       "      <td>1</td>\n",
       "      <td>0</td>\n",
       "      <td>1</td>\n",
       "      <td>0</td>\n",
       "      <td>1</td>\n",
       "      <td>1</td>\n",
       "      <td>...</td>\n",
       "      <td>1</td>\n",
       "      <td>1</td>\n",
       "      <td>1</td>\n",
       "      <td>1</td>\n",
       "      <td>1</td>\n",
       "      <td>1</td>\n",
       "      <td>1</td>\n",
       "      <td>1</td>\n",
       "      <td>1</td>\n",
       "      <td>1</td>\n",
       "    </tr>\n",
       "    <tr>\n",
       "      <th>123</th>\n",
       "      <td>SHOP127</td>\n",
       "      <td>1</td>\n",
       "      <td>1</td>\n",
       "      <td>1</td>\n",
       "      <td>1</td>\n",
       "      <td>0</td>\n",
       "      <td>1</td>\n",
       "      <td>1</td>\n",
       "      <td>1</td>\n",
       "      <td>1</td>\n",
       "      <td>...</td>\n",
       "      <td>1</td>\n",
       "      <td>1</td>\n",
       "      <td>1</td>\n",
       "      <td>1</td>\n",
       "      <td>1</td>\n",
       "      <td>1</td>\n",
       "      <td>1</td>\n",
       "      <td>1</td>\n",
       "      <td>1</td>\n",
       "      <td>1</td>\n",
       "    </tr>\n",
       "  </tbody>\n",
       "</table>\n",
       "<p>124 rows × 22 columns</p>\n",
       "</div>"
      ],
      "text/plain": [
       "     shop_id  FIT O ORANGE  TONIC PET  BOTTLED DRINKING WATER  FIT O MANGO  \\\n",
       "0    SHOP001             1          1                       1            1   \n",
       "1    SHOP002             1          1                       1            1   \n",
       "2    SHOP003             1          1                       1            1   \n",
       "3    SHOP004             1          1                       1            1   \n",
       "4    SHOP005             1          1                       1            1   \n",
       "..       ...           ...        ...                     ...          ...   \n",
       "119  SHOP123             1          1                       1            1   \n",
       "120  SHOP124             1          1                       1            1   \n",
       "121  SHOP125             1          1                       1            1   \n",
       "122  SHOP126             1          1                       1            1   \n",
       "123  SHOP127             1          1                       1            1   \n",
       "\n",
       "     CHOCOLATE MILK  NECTO  LIME CRUSH JUICE  ORANGE CRUSH  GINGER BEER  ...  \\\n",
       "0                 0      1                 0             1            1  ...   \n",
       "1                 0      1                 0             1            1  ...   \n",
       "2                 0      1                 0             1            1  ...   \n",
       "3                 0      1                 0             1            1  ...   \n",
       "4                 0      1                 0             1            1  ...   \n",
       "..              ...    ...               ...           ...          ...  ...   \n",
       "119               0      1                 0             1            1  ...   \n",
       "120               0      1                 0             1            1  ...   \n",
       "121               0      1                 1             1            1  ...   \n",
       "122               0      1                 0             1            1  ...   \n",
       "123               0      1                 1             1            1  ...   \n",
       "\n",
       "     GINGER BEER SUGAR FREE  STRAWBERRY MILK  FIT O MIXED FRUIT  KIK COLA  \\\n",
       "0                         1                1                  1         1   \n",
       "1                         1                1                  1         1   \n",
       "2                         1                1                  1         1   \n",
       "3                         1                1                  1         1   \n",
       "4                         1                1                  1         1   \n",
       "..                      ...              ...                ...       ...   \n",
       "119                       1                1                  1         1   \n",
       "120                       1                1                  1         1   \n",
       "121                       1                1                  1         1   \n",
       "122                       1                1                  1         1   \n",
       "123                       1                1                  1         1   \n",
       "\n",
       "     SODA  DRY GINGER ALE PET  CREAM SODA  ORANGE BARLEY  \\\n",
       "0       1                   1           1              1   \n",
       "1       1                   1           1              1   \n",
       "2       1                   1           1              1   \n",
       "3       1                   1           1              1   \n",
       "4       1                   1           1              1   \n",
       "..    ...                 ...         ...            ...   \n",
       "119     1                   1           1              1   \n",
       "120     1                   1           1              1   \n",
       "121     1                   1           1              1   \n",
       "122     1                   1           1              1   \n",
       "123     1                   1           1              1   \n",
       "\n",
       "     CREAM SODA APPLE POP  SODA PET  \n",
       "0                       1         1  \n",
       "1                       1         1  \n",
       "2                       1         1  \n",
       "3                       1         1  \n",
       "4                       1         1  \n",
       "..                    ...       ...  \n",
       "119                     1         1  \n",
       "120                     1         1  \n",
       "121                     1         1  \n",
       "122                     1         1  \n",
       "123                     1         1  \n",
       "\n",
       "[124 rows x 22 columns]"
      ]
     },
     "execution_count": 44,
     "metadata": {},
     "output_type": "execute_result"
    }
   ],
   "source": [
    "brand_df = pd.DataFrame(df.dropna()[['shop_id', 'brand']]).groupby('shop_id')['brand'].unique().reset_index(name='brands')\n",
    "\n",
    "# get all brands in the dataset\n",
    "all_brands = set(df.dropna()['brand'])\n",
    "\n",
    "# create a column for each brand and set the value to 1 if the shop sells the brand and 0 otherwise\n",
    "for brand in all_brands:\n",
    "    brand_df[brand] = brand_df['brands'].apply(lambda x: 1 if brand in x else 0)\n",
    "\n",
    "brand_df.drop('brands', axis=1, inplace=True)\n",
    "brand_df"
   ]
  },
  {
   "cell_type": "code",
   "execution_count": 45,
   "id": "a6a7fd43",
   "metadata": {},
   "outputs": [
    {
     "data": {
      "text/html": [
       "<div>\n",
       "<style scoped>\n",
       "    .dataframe tbody tr th:only-of-type {\n",
       "        vertical-align: middle;\n",
       "    }\n",
       "\n",
       "    .dataframe tbody tr th {\n",
       "        vertical-align: top;\n",
       "    }\n",
       "\n",
       "    .dataframe thead th {\n",
       "        text-align: right;\n",
       "    }\n",
       "</style>\n",
       "<table border=\"1\" class=\"dataframe\">\n",
       "  <thead>\n",
       "    <tr style=\"text-align: right;\">\n",
       "      <th></th>\n",
       "      <th>shop_id</th>\n",
       "      <th>shop_area_sq_ft</th>\n",
       "      <th>shop_profile</th>\n",
       "      <th>median_daily_income</th>\n",
       "      <th>total_sales</th>\n",
       "      <th>total_sales_per_sqft</th>\n",
       "      <th>num_unique_customers</th>\n",
       "      <th>num_transactions</th>\n",
       "      <th>sales_per_customer</th>\n",
       "      <th>FIT O ORANGE</th>\n",
       "      <th>...</th>\n",
       "      <th>GINGER BEER SUGAR FREE</th>\n",
       "      <th>STRAWBERRY MILK</th>\n",
       "      <th>FIT O MIXED FRUIT</th>\n",
       "      <th>KIK COLA</th>\n",
       "      <th>SODA</th>\n",
       "      <th>DRY GINGER ALE PET</th>\n",
       "      <th>CREAM SODA</th>\n",
       "      <th>ORANGE BARLEY</th>\n",
       "      <th>CREAM SODA APPLE POP</th>\n",
       "      <th>SODA PET</th>\n",
       "    </tr>\n",
       "  </thead>\n",
       "  <tbody>\n",
       "    <tr>\n",
       "      <th>0</th>\n",
       "      <td>SHOP047</td>\n",
       "      <td>528</td>\n",
       "      <td>Moderate</td>\n",
       "      <td>358.023256</td>\n",
       "      <td>624235.0</td>\n",
       "      <td>1182.263258</td>\n",
       "      <td>920</td>\n",
       "      <td>1662</td>\n",
       "      <td>375.592659</td>\n",
       "      <td>1</td>\n",
       "      <td>...</td>\n",
       "      <td>1</td>\n",
       "      <td>1</td>\n",
       "      <td>1</td>\n",
       "      <td>1</td>\n",
       "      <td>1</td>\n",
       "      <td>1</td>\n",
       "      <td>1</td>\n",
       "      <td>1</td>\n",
       "      <td>1</td>\n",
       "      <td>1</td>\n",
       "    </tr>\n",
       "    <tr>\n",
       "      <th>1</th>\n",
       "      <td>SHOP009</td>\n",
       "      <td>676</td>\n",
       "      <td>High</td>\n",
       "      <td>322.291667</td>\n",
       "      <td>1527130.0</td>\n",
       "      <td>2259.068047</td>\n",
       "      <td>2476</td>\n",
       "      <td>4517</td>\n",
       "      <td>338.085012</td>\n",
       "      <td>1</td>\n",
       "      <td>...</td>\n",
       "      <td>1</td>\n",
       "      <td>1</td>\n",
       "      <td>1</td>\n",
       "      <td>1</td>\n",
       "      <td>1</td>\n",
       "      <td>1</td>\n",
       "      <td>1</td>\n",
       "      <td>1</td>\n",
       "      <td>1</td>\n",
       "      <td>1</td>\n",
       "    </tr>\n",
       "    <tr>\n",
       "      <th>2</th>\n",
       "      <td>SHOP083</td>\n",
       "      <td>676</td>\n",
       "      <td>Low</td>\n",
       "      <td>343.200000</td>\n",
       "      <td>1241845.0</td>\n",
       "      <td>1837.048817</td>\n",
       "      <td>1876</td>\n",
       "      <td>3550</td>\n",
       "      <td>349.815493</td>\n",
       "      <td>1</td>\n",
       "      <td>...</td>\n",
       "      <td>1</td>\n",
       "      <td>1</td>\n",
       "      <td>1</td>\n",
       "      <td>1</td>\n",
       "      <td>1</td>\n",
       "      <td>1</td>\n",
       "      <td>1</td>\n",
       "      <td>1</td>\n",
       "      <td>1</td>\n",
       "      <td>1</td>\n",
       "    </tr>\n",
       "    <tr>\n",
       "      <th>3</th>\n",
       "      <td>SHOP117</td>\n",
       "      <td>676</td>\n",
       "      <td>Low</td>\n",
       "      <td>401.896552</td>\n",
       "      <td>1601240.0</td>\n",
       "      <td>2368.698225</td>\n",
       "      <td>2015</td>\n",
       "      <td>4015</td>\n",
       "      <td>398.814446</td>\n",
       "      <td>1</td>\n",
       "      <td>...</td>\n",
       "      <td>1</td>\n",
       "      <td>1</td>\n",
       "      <td>1</td>\n",
       "      <td>1</td>\n",
       "      <td>1</td>\n",
       "      <td>1</td>\n",
       "      <td>1</td>\n",
       "      <td>1</td>\n",
       "      <td>1</td>\n",
       "      <td>1</td>\n",
       "    </tr>\n",
       "    <tr>\n",
       "      <th>4</th>\n",
       "      <td>SHOP042</td>\n",
       "      <td>676</td>\n",
       "      <td>Low</td>\n",
       "      <td>315.138889</td>\n",
       "      <td>1068255.0</td>\n",
       "      <td>1580.258876</td>\n",
       "      <td>1826</td>\n",
       "      <td>3219</td>\n",
       "      <td>331.859273</td>\n",
       "      <td>1</td>\n",
       "      <td>...</td>\n",
       "      <td>1</td>\n",
       "      <td>1</td>\n",
       "      <td>1</td>\n",
       "      <td>1</td>\n",
       "      <td>1</td>\n",
       "      <td>1</td>\n",
       "      <td>1</td>\n",
       "      <td>1</td>\n",
       "      <td>1</td>\n",
       "      <td>1</td>\n",
       "    </tr>\n",
       "  </tbody>\n",
       "</table>\n",
       "<p>5 rows × 30 columns</p>\n",
       "</div>"
      ],
      "text/plain": [
       "   shop_id  shop_area_sq_ft shop_profile  median_daily_income  total_sales  \\\n",
       "0  SHOP047              528     Moderate           358.023256     624235.0   \n",
       "1  SHOP009              676         High           322.291667    1527130.0   \n",
       "2  SHOP083              676          Low           343.200000    1241845.0   \n",
       "3  SHOP117              676          Low           401.896552    1601240.0   \n",
       "4  SHOP042              676          Low           315.138889    1068255.0   \n",
       "\n",
       "   total_sales_per_sqft  num_unique_customers  num_transactions  \\\n",
       "0           1182.263258                   920              1662   \n",
       "1           2259.068047                  2476              4517   \n",
       "2           1837.048817                  1876              3550   \n",
       "3           2368.698225                  2015              4015   \n",
       "4           1580.258876                  1826              3219   \n",
       "\n",
       "   sales_per_customer  FIT O ORANGE  ...  GINGER BEER SUGAR FREE  \\\n",
       "0          375.592659             1  ...                       1   \n",
       "1          338.085012             1  ...                       1   \n",
       "2          349.815493             1  ...                       1   \n",
       "3          398.814446             1  ...                       1   \n",
       "4          331.859273             1  ...                       1   \n",
       "\n",
       "   STRAWBERRY MILK  FIT O MIXED FRUIT  KIK COLA  SODA  DRY GINGER ALE PET  \\\n",
       "0                1                  1         1     1                   1   \n",
       "1                1                  1         1     1                   1   \n",
       "2                1                  1         1     1                   1   \n",
       "3                1                  1         1     1                   1   \n",
       "4                1                  1         1     1                   1   \n",
       "\n",
       "   CREAM SODA  ORANGE BARLEY  CREAM SODA APPLE POP  SODA PET  \n",
       "0           1              1                     1         1  \n",
       "1           1              1                     1         1  \n",
       "2           1              1                     1         1  \n",
       "3           1              1                     1         1  \n",
       "4           1              1                     1         1  \n",
       "\n",
       "[5 rows x 30 columns]"
      ]
     },
     "execution_count": 45,
     "metadata": {},
     "output_type": "execute_result"
    }
   ],
   "source": [
    "# merge the brand_df with df1\n",
    "df1 = df1.merge(brand_df, how='left', on='shop_id')\n",
    "df1.head()"
   ]
  },
  {
   "cell_type": "markdown",
   "id": "f22a686b",
   "metadata": {},
   "source": [
    "### Check NaN values"
   ]
  },
  {
   "cell_type": "code",
   "execution_count": 46,
   "id": "dc378ee3",
   "metadata": {
    "ExecuteTime": {
     "end_time": "2023-04-26T19:36:34.064111Z",
     "start_time": "2023-04-26T19:36:33.836384Z"
    }
   },
   "outputs": [
    {
     "data": {
      "text/plain": [
       "124"
      ]
     },
     "execution_count": 46,
     "metadata": {},
     "output_type": "execute_result"
    }
   ],
   "source": [
    "len(df1['shop_id'].unique().tolist())"
   ]
  },
  {
   "cell_type": "markdown",
   "id": "c93159cf",
   "metadata": {},
   "source": [
    "### Drop unwanted Features"
   ]
  },
  {
   "cell_type": "code",
   "execution_count": 47,
   "id": "dad99685",
   "metadata": {
    "ExecuteTime": {
     "end_time": "2023-04-26T19:36:34.107873Z",
     "start_time": "2023-04-26T19:36:33.852014Z"
    }
   },
   "outputs": [],
   "source": [
    "df.drop(['item_description', 'invoice_id','customer_id', 'month', 'day'], axis=1, inplace=True)"
   ]
  },
  {
   "cell_type": "markdown",
   "id": "7fa1fe5c",
   "metadata": {},
   "source": [
    "### Divide Train and Test data"
   ]
  },
  {
   "cell_type": "code",
   "execution_count": 48,
   "id": "413dca4d",
   "metadata": {
    "ExecuteTime": {
     "end_time": "2023-04-26T19:36:34.850000Z",
     "start_time": "2023-04-26T19:36:34.127450Z"
    }
   },
   "outputs": [
    {
     "data": {
      "text/html": [
       "<div>\n",
       "<style scoped>\n",
       "    .dataframe tbody tr th:only-of-type {\n",
       "        vertical-align: middle;\n",
       "    }\n",
       "\n",
       "    .dataframe tbody tr th {\n",
       "        vertical-align: top;\n",
       "    }\n",
       "\n",
       "    .dataframe thead th {\n",
       "        text-align: right;\n",
       "    }\n",
       "</style>\n",
       "<table border=\"1\" class=\"dataframe\">\n",
       "  <thead>\n",
       "    <tr style=\"text-align: right;\">\n",
       "      <th></th>\n",
       "      <th>shop_id</th>\n",
       "      <th>shop_area_sq_ft</th>\n",
       "      <th>shop_profile</th>\n",
       "      <th>median_daily_income</th>\n",
       "      <th>total_sales</th>\n",
       "      <th>total_sales_per_sqft</th>\n",
       "      <th>num_unique_customers</th>\n",
       "      <th>num_transactions</th>\n",
       "      <th>sales_per_customer</th>\n",
       "      <th>FIT O ORANGE</th>\n",
       "      <th>...</th>\n",
       "      <th>GINGER BEER SUGAR FREE</th>\n",
       "      <th>STRAWBERRY MILK</th>\n",
       "      <th>FIT O MIXED FRUIT</th>\n",
       "      <th>KIK COLA</th>\n",
       "      <th>SODA</th>\n",
       "      <th>DRY GINGER ALE PET</th>\n",
       "      <th>CREAM SODA</th>\n",
       "      <th>ORANGE BARLEY</th>\n",
       "      <th>CREAM SODA APPLE POP</th>\n",
       "      <th>SODA PET</th>\n",
       "    </tr>\n",
       "  </thead>\n",
       "  <tbody>\n",
       "    <tr>\n",
       "      <th>0</th>\n",
       "      <td>SHOP047</td>\n",
       "      <td>528</td>\n",
       "      <td>Moderate</td>\n",
       "      <td>358.023256</td>\n",
       "      <td>624235.0</td>\n",
       "      <td>1182.263258</td>\n",
       "      <td>920</td>\n",
       "      <td>1662</td>\n",
       "      <td>375.592659</td>\n",
       "      <td>1</td>\n",
       "      <td>...</td>\n",
       "      <td>1</td>\n",
       "      <td>1</td>\n",
       "      <td>1</td>\n",
       "      <td>1</td>\n",
       "      <td>1</td>\n",
       "      <td>1</td>\n",
       "      <td>1</td>\n",
       "      <td>1</td>\n",
       "      <td>1</td>\n",
       "      <td>1</td>\n",
       "    </tr>\n",
       "    <tr>\n",
       "      <th>1</th>\n",
       "      <td>SHOP009</td>\n",
       "      <td>676</td>\n",
       "      <td>High</td>\n",
       "      <td>322.291667</td>\n",
       "      <td>1527130.0</td>\n",
       "      <td>2259.068047</td>\n",
       "      <td>2476</td>\n",
       "      <td>4517</td>\n",
       "      <td>338.085012</td>\n",
       "      <td>1</td>\n",
       "      <td>...</td>\n",
       "      <td>1</td>\n",
       "      <td>1</td>\n",
       "      <td>1</td>\n",
       "      <td>1</td>\n",
       "      <td>1</td>\n",
       "      <td>1</td>\n",
       "      <td>1</td>\n",
       "      <td>1</td>\n",
       "      <td>1</td>\n",
       "      <td>1</td>\n",
       "    </tr>\n",
       "    <tr>\n",
       "      <th>2</th>\n",
       "      <td>SHOP083</td>\n",
       "      <td>676</td>\n",
       "      <td>Low</td>\n",
       "      <td>343.200000</td>\n",
       "      <td>1241845.0</td>\n",
       "      <td>1837.048817</td>\n",
       "      <td>1876</td>\n",
       "      <td>3550</td>\n",
       "      <td>349.815493</td>\n",
       "      <td>1</td>\n",
       "      <td>...</td>\n",
       "      <td>1</td>\n",
       "      <td>1</td>\n",
       "      <td>1</td>\n",
       "      <td>1</td>\n",
       "      <td>1</td>\n",
       "      <td>1</td>\n",
       "      <td>1</td>\n",
       "      <td>1</td>\n",
       "      <td>1</td>\n",
       "      <td>1</td>\n",
       "    </tr>\n",
       "    <tr>\n",
       "      <th>3</th>\n",
       "      <td>SHOP117</td>\n",
       "      <td>676</td>\n",
       "      <td>Low</td>\n",
       "      <td>401.896552</td>\n",
       "      <td>1601240.0</td>\n",
       "      <td>2368.698225</td>\n",
       "      <td>2015</td>\n",
       "      <td>4015</td>\n",
       "      <td>398.814446</td>\n",
       "      <td>1</td>\n",
       "      <td>...</td>\n",
       "      <td>1</td>\n",
       "      <td>1</td>\n",
       "      <td>1</td>\n",
       "      <td>1</td>\n",
       "      <td>1</td>\n",
       "      <td>1</td>\n",
       "      <td>1</td>\n",
       "      <td>1</td>\n",
       "      <td>1</td>\n",
       "      <td>1</td>\n",
       "    </tr>\n",
       "    <tr>\n",
       "      <th>4</th>\n",
       "      <td>SHOP042</td>\n",
       "      <td>676</td>\n",
       "      <td>Low</td>\n",
       "      <td>315.138889</td>\n",
       "      <td>1068255.0</td>\n",
       "      <td>1580.258876</td>\n",
       "      <td>1826</td>\n",
       "      <td>3219</td>\n",
       "      <td>331.859273</td>\n",
       "      <td>1</td>\n",
       "      <td>...</td>\n",
       "      <td>1</td>\n",
       "      <td>1</td>\n",
       "      <td>1</td>\n",
       "      <td>1</td>\n",
       "      <td>1</td>\n",
       "      <td>1</td>\n",
       "      <td>1</td>\n",
       "      <td>1</td>\n",
       "      <td>1</td>\n",
       "      <td>1</td>\n",
       "    </tr>\n",
       "    <tr>\n",
       "      <th>...</th>\n",
       "      <td>...</td>\n",
       "      <td>...</td>\n",
       "      <td>...</td>\n",
       "      <td>...</td>\n",
       "      <td>...</td>\n",
       "      <td>...</td>\n",
       "      <td>...</td>\n",
       "      <td>...</td>\n",
       "      <td>...</td>\n",
       "      <td>...</td>\n",
       "      <td>...</td>\n",
       "      <td>...</td>\n",
       "      <td>...</td>\n",
       "      <td>...</td>\n",
       "      <td>...</td>\n",
       "      <td>...</td>\n",
       "      <td>...</td>\n",
       "      <td>...</td>\n",
       "      <td>...</td>\n",
       "      <td>...</td>\n",
       "      <td>...</td>\n",
       "    </tr>\n",
       "    <tr>\n",
       "      <th>119</th>\n",
       "      <td>SHOP087</td>\n",
       "      <td>527</td>\n",
       "      <td>NaN</td>\n",
       "      <td>342.272727</td>\n",
       "      <td>732407.5</td>\n",
       "      <td>1389.767552</td>\n",
       "      <td>1061</td>\n",
       "      <td>1991</td>\n",
       "      <td>367.859116</td>\n",
       "      <td>1</td>\n",
       "      <td>...</td>\n",
       "      <td>1</td>\n",
       "      <td>1</td>\n",
       "      <td>1</td>\n",
       "      <td>1</td>\n",
       "      <td>1</td>\n",
       "      <td>1</td>\n",
       "      <td>1</td>\n",
       "      <td>1</td>\n",
       "      <td>1</td>\n",
       "      <td>1</td>\n",
       "    </tr>\n",
       "    <tr>\n",
       "      <th>120</th>\n",
       "      <td>SHOP050</td>\n",
       "      <td>411</td>\n",
       "      <td>NaN</td>\n",
       "      <td>398.167939</td>\n",
       "      <td>1670505.0</td>\n",
       "      <td>4064.489051</td>\n",
       "      <td>1765</td>\n",
       "      <td>3875</td>\n",
       "      <td>431.098065</td>\n",
       "      <td>1</td>\n",
       "      <td>...</td>\n",
       "      <td>1</td>\n",
       "      <td>1</td>\n",
       "      <td>1</td>\n",
       "      <td>1</td>\n",
       "      <td>1</td>\n",
       "      <td>1</td>\n",
       "      <td>1</td>\n",
       "      <td>1</td>\n",
       "      <td>1</td>\n",
       "      <td>1</td>\n",
       "    </tr>\n",
       "    <tr>\n",
       "      <th>121</th>\n",
       "      <td>SHOP061</td>\n",
       "      <td>699</td>\n",
       "      <td>NaN</td>\n",
       "      <td>384.147727</td>\n",
       "      <td>1199155.0</td>\n",
       "      <td>1715.529328</td>\n",
       "      <td>1725</td>\n",
       "      <td>3072</td>\n",
       "      <td>390.349935</td>\n",
       "      <td>1</td>\n",
       "      <td>...</td>\n",
       "      <td>1</td>\n",
       "      <td>1</td>\n",
       "      <td>1</td>\n",
       "      <td>1</td>\n",
       "      <td>1</td>\n",
       "      <td>1</td>\n",
       "      <td>1</td>\n",
       "      <td>1</td>\n",
       "      <td>1</td>\n",
       "      <td>1</td>\n",
       "    </tr>\n",
       "    <tr>\n",
       "      <th>122</th>\n",
       "      <td>SHOP056</td>\n",
       "      <td>597</td>\n",
       "      <td>NaN</td>\n",
       "      <td>375.000000</td>\n",
       "      <td>2170687.5</td>\n",
       "      <td>3635.992462</td>\n",
       "      <td>2810</td>\n",
       "      <td>5663</td>\n",
       "      <td>383.310524</td>\n",
       "      <td>1</td>\n",
       "      <td>...</td>\n",
       "      <td>1</td>\n",
       "      <td>1</td>\n",
       "      <td>1</td>\n",
       "      <td>1</td>\n",
       "      <td>1</td>\n",
       "      <td>1</td>\n",
       "      <td>1</td>\n",
       "      <td>1</td>\n",
       "      <td>1</td>\n",
       "      <td>1</td>\n",
       "    </tr>\n",
       "    <tr>\n",
       "      <th>123</th>\n",
       "      <td>SHOP070</td>\n",
       "      <td>676</td>\n",
       "      <td>NaN</td>\n",
       "      <td>344.189189</td>\n",
       "      <td>964667.5</td>\n",
       "      <td>1427.022929</td>\n",
       "      <td>1407</td>\n",
       "      <td>2736</td>\n",
       "      <td>352.583151</td>\n",
       "      <td>1</td>\n",
       "      <td>...</td>\n",
       "      <td>1</td>\n",
       "      <td>1</td>\n",
       "      <td>1</td>\n",
       "      <td>1</td>\n",
       "      <td>1</td>\n",
       "      <td>1</td>\n",
       "      <td>1</td>\n",
       "      <td>1</td>\n",
       "      <td>1</td>\n",
       "      <td>1</td>\n",
       "    </tr>\n",
       "  </tbody>\n",
       "</table>\n",
       "<p>124 rows × 30 columns</p>\n",
       "</div>"
      ],
      "text/plain": [
       "     shop_id  shop_area_sq_ft shop_profile  median_daily_income  total_sales  \\\n",
       "0    SHOP047              528     Moderate           358.023256     624235.0   \n",
       "1    SHOP009              676         High           322.291667    1527130.0   \n",
       "2    SHOP083              676          Low           343.200000    1241845.0   \n",
       "3    SHOP117              676          Low           401.896552    1601240.0   \n",
       "4    SHOP042              676          Low           315.138889    1068255.0   \n",
       "..       ...              ...          ...                  ...          ...   \n",
       "119  SHOP087              527          NaN           342.272727     732407.5   \n",
       "120  SHOP050              411          NaN           398.167939    1670505.0   \n",
       "121  SHOP061              699          NaN           384.147727    1199155.0   \n",
       "122  SHOP056              597          NaN           375.000000    2170687.5   \n",
       "123  SHOP070              676          NaN           344.189189     964667.5   \n",
       "\n",
       "     total_sales_per_sqft  num_unique_customers  num_transactions  \\\n",
       "0             1182.263258                   920              1662   \n",
       "1             2259.068047                  2476              4517   \n",
       "2             1837.048817                  1876              3550   \n",
       "3             2368.698225                  2015              4015   \n",
       "4             1580.258876                  1826              3219   \n",
       "..                    ...                   ...               ...   \n",
       "119           1389.767552                  1061              1991   \n",
       "120           4064.489051                  1765              3875   \n",
       "121           1715.529328                  1725              3072   \n",
       "122           3635.992462                  2810              5663   \n",
       "123           1427.022929                  1407              2736   \n",
       "\n",
       "     sales_per_customer  FIT O ORANGE  ...  GINGER BEER SUGAR FREE  \\\n",
       "0            375.592659             1  ...                       1   \n",
       "1            338.085012             1  ...                       1   \n",
       "2            349.815493             1  ...                       1   \n",
       "3            398.814446             1  ...                       1   \n",
       "4            331.859273             1  ...                       1   \n",
       "..                  ...           ...  ...                     ...   \n",
       "119          367.859116             1  ...                       1   \n",
       "120          431.098065             1  ...                       1   \n",
       "121          390.349935             1  ...                       1   \n",
       "122          383.310524             1  ...                       1   \n",
       "123          352.583151             1  ...                       1   \n",
       "\n",
       "     STRAWBERRY MILK  FIT O MIXED FRUIT  KIK COLA  SODA  DRY GINGER ALE PET  \\\n",
       "0                  1                  1         1     1                   1   \n",
       "1                  1                  1         1     1                   1   \n",
       "2                  1                  1         1     1                   1   \n",
       "3                  1                  1         1     1                   1   \n",
       "4                  1                  1         1     1                   1   \n",
       "..               ...                ...       ...   ...                 ...   \n",
       "119                1                  1         1     1                   1   \n",
       "120                1                  1         1     1                   1   \n",
       "121                1                  1         1     1                   1   \n",
       "122                1                  1         1     1                   1   \n",
       "123                1                  1         1     1                   1   \n",
       "\n",
       "     CREAM SODA  ORANGE BARLEY  CREAM SODA APPLE POP  SODA PET  \n",
       "0             1              1                     1         1  \n",
       "1             1              1                     1         1  \n",
       "2             1              1                     1         1  \n",
       "3             1              1                     1         1  \n",
       "4             1              1                     1         1  \n",
       "..          ...            ...                   ...       ...  \n",
       "119           1              1                     1         1  \n",
       "120           1              1                     1         1  \n",
       "121           1              1                     1         1  \n",
       "122           1              1                     1         1  \n",
       "123           1              1                     1         1  \n",
       "\n",
       "[124 rows x 30 columns]"
      ]
     },
     "execution_count": 48,
     "metadata": {},
     "output_type": "execute_result"
    }
   ],
   "source": [
    "df1"
   ]
  },
  {
   "cell_type": "code",
   "execution_count": 49,
   "id": "edd0990e",
   "metadata": {},
   "outputs": [],
   "source": [
    "corr_test_df = df1.drop(['shop_id', 'shop_profile'], axis=1)"
   ]
  },
  {
   "cell_type": "code",
   "execution_count": 50,
   "id": "fa93dfd2",
   "metadata": {},
   "outputs": [
    {
     "data": {
      "text/plain": [
       "<AxesSubplot:>"
      ]
     },
     "execution_count": 50,
     "metadata": {},
     "output_type": "execute_result"
    },
    {
     "data": {
      "image/png": "[encoded data removed]",
      "text/plain": [
       "<Figure size 360x360 with 1 Axes>"
      ]
     },
     "metadata": {
      "needs_background": "light"
     },
     "output_type": "display_data"
    }
   ],
   "source": [
    "# correlation heatmap\n",
    "fig, ax = plt.subplots(figsize=(5, 5))\n",
    "sns.heatmap(corr_test_df[['shop_area_sq_ft', 'median_daily_income', 'total_sales', 'total_sales_per_sqft', 'num_unique_customers', 'num_transactions', 'sales_per_customer']].corr(), annot=True, ax=ax, cmap='RdBu', linewidths=0.5, fmt='.2f', annot_kws={'size': 10}, cbar=False)"
   ]
  },
  {
   "cell_type": "code",
   "execution_count": 51,
   "id": "ddee1b71",
   "metadata": {},
   "outputs": [
    {
     "data": {
      "text/plain": [
       "<AxesSubplot:>"
      ]
     },
     "execution_count": 51,
     "metadata": {},
     "output_type": "execute_result"
    },
    {
     "data": {
      "image/png": "[encoded data removed]",
      "text/plain": [
       "<Figure size 360x360 with 1 Axes>"
      ]
     },
     "metadata": {
      "needs_background": "light"
     },
     "output_type": "display_data"
    }
   ],
   "source": [
    "# spearson's rank correlation coefficient heatmap\n",
    "fig, ax = plt.subplots(figsize=(5, 5))\n",
    "sns.heatmap(corr_test_df[['shop_area_sq_ft', 'median_daily_income', 'total_sales', 'total_sales_per_sqft', 'num_unique_customers', 'num_transactions', 'sales_per_customer']].corr(method='spearman'), annot=True, ax=ax, cmap='viridis', linewidths=0.5, fmt='.2f', annot_kws={'size': 10}, cbar=False)"
   ]
  },
  {
   "cell_type": "code",
   "execution_count": 52,
   "id": "3086e9cf",
   "metadata": {
    "ExecuteTime": {
     "end_time": "2023-04-26T19:36:34.850000Z",
     "start_time": "2023-04-26T19:36:34.189976Z"
    }
   },
   "outputs": [],
   "source": [
    "df_pred = df1[pd.isnull(df1['shop_profile'])]"
   ]
  },
  {
   "cell_type": "code",
   "execution_count": 53,
   "id": "a982016f",
   "metadata": {
    "ExecuteTime": {
     "end_time": "2023-04-26T19:36:34.959809Z",
     "start_time": "2023-04-26T19:36:34.268520Z"
    }
   },
   "outputs": [],
   "source": [
    "df2 = df1.dropna()"
   ]
  },
  {
   "cell_type": "code",
   "execution_count": 54,
   "id": "00b27084",
   "metadata": {
    "ExecuteTime": {
     "end_time": "2023-04-26T19:36:34.959809Z",
     "start_time": "2023-04-26T19:36:34.284161Z"
    }
   },
   "outputs": [],
   "source": [
    "X = df2.drop(['shop_profile', 'shop_id'], axis=1)\n",
    "y = df2['shop_profile']"
   ]
  },
  {
   "cell_type": "code",
   "execution_count": 55,
   "id": "297f8cb3",
   "metadata": {
    "ExecuteTime": {
     "end_time": "2023-04-26T19:36:36.712518Z",
     "start_time": "2023-04-26T19:36:34.482206Z"
    }
   },
   "outputs": [
    {
     "data": {
      "text/plain": [
       "Index(['shop_area_sq_ft num_unique_customers^2',\n",
       "       'shop_area_sq_ft num_unique_customers CREAM SODA APPLE POP',\n",
       "       'shop_area_sq_ft num_unique_customers SODA PET'],\n",
       "      dtype='object')"
      ]
     },
     "execution_count": 55,
     "metadata": {},
     "output_type": "execute_result"
    }
   ],
   "source": [
    "from sklearn.preprocessing import PolynomialFeatures\n",
    "from sklearn.feature_selection import SelectKBest, mutual_info_classif\n",
    "\n",
    "poly = PolynomialFeatures(degree=3, include_bias=False)\n",
    "X_poly = poly.fit_transform(X)\n",
    "X_poly_pred = poly.transform(df_pred.drop(['shop_id', 'shop_profile'], axis=1))\n",
    "\n",
    "X_poly_df = pd.DataFrame(X_poly, columns=poly.get_feature_names(X.columns))\n",
    "X_poly_pred_df = pd.DataFrame(X_poly_pred, columns=poly.get_feature_names(X.columns))\n",
    "\n",
    "# instantiate SelectKBest\n",
    "kbest = SelectKBest(score_func=mutual_info_classif, k=3)\n",
    "X_new = kbest.fit_transform(X_poly_df, y)\n",
    "X_new_pred = kbest.transform(X_poly_pred_df)\n",
    "\n",
    "# get selected feature names\n",
    "X_poly_df.columns[kbest.get_support()]"
   ]
  },
  {
   "cell_type": "code",
   "execution_count": 56,
   "id": "ecf6967d",
   "metadata": {
    "ExecuteTime": {
     "end_time": "2023-04-26T19:36:36.727529Z",
     "start_time": "2023-04-26T19:36:36.712518Z"
    }
   },
   "outputs": [],
   "source": [
    "X_new_df = pd.DataFrame(X_new, columns=X_poly_df.columns[kbest.get_support()])\n",
    "X_poly_pred_new_df = pd.DataFrame(X_new_pred, columns=X_poly_df.columns[kbest.get_support()])"
   ]
  },
  {
   "cell_type": "code",
   "execution_count": 57,
   "id": "092cb7fb",
   "metadata": {},
   "outputs": [],
   "source": [
    "X_new_df = X_new_df.merge(X, left_index=True, right_index=True)\n",
    "X_pred_new_df = X_poly_pred_new_df.merge(df_pred.drop(['shop_id', 'shop_profile'], axis=1).reset_index(), left_index=True, right_index=True)"
   ]
  },
  {
   "cell_type": "code",
   "execution_count": 58,
   "id": "b621f095",
   "metadata": {},
   "outputs": [],
   "source": [
    "# # feature distribution histplots\n",
    "# fig, axes = plt.subplots(8, 4, figsize=(15, 30))\n",
    "# axes = axes.flatten()\n",
    "# for i, col in enumerate(X_new_df.columns):\n",
    "#     sns.histplot(X_new_df[col], ax=axes[i], kde=True, color='blue', edgecolor='black')\n",
    "#     axes[i].set_title(col)\n",
    "# plt.tight_layout()\n",
    "# plt.show()"
   ]
  },
  {
   "cell_type": "code",
   "execution_count": 59,
   "id": "e323736f",
   "metadata": {},
   "outputs": [],
   "source": [
    "# skewness for each feature\n",
    "# skew = X_new_df.skew()\n",
    "\n",
    "# # log transform skewed features\n",
    "# skewed_features = skew[abs(skew) > 0.5].index\n",
    "# print(skewed_features)\n",
    "# X_new_df[skewed_features] = np.log1p(X_new_df[skewed_features])\n",
    "\n",
    "# X_pred_new_df[skewed_features] = np.log1p(X_pred_new_df[skewed_features])\n",
    "\n",
    "# # feature distribution histplots\n",
    "# fig, axes = plt.subplots(8, 4, figsize=(15, 30))\n",
    "# axes = axes.flatten()\n",
    "# for i, col in enumerate(X_new_df.columns):\n",
    "#     sns.histplot(X_new_df[col], ax=axes[i], kde=True, color='blue', edgecolor='black')\n",
    "#     axes[i].set_title(col)\n",
    "# plt.tight_layout()\n",
    "# plt.show()"
   ]
  },
  {
   "cell_type": "code",
   "execution_count": 60,
   "id": "bd1998ac",
   "metadata": {},
   "outputs": [],
   "source": [
    "# X.head()"
   ]
  },
  {
   "cell_type": "code",
   "execution_count": 61,
   "id": "d3968006",
   "metadata": {},
   "outputs": [],
   "source": [
    "from sklearn.model_selection import train_test_split\n",
    "X_train, X_test, y_train, y_test = train_test_split(X_new_df, y, test_size=0.2, random_state=42)"
   ]
  },
  {
   "cell_type": "code",
   "execution_count": 62,
   "id": "98561b6d",
   "metadata": {},
   "outputs": [],
   "source": [
    "# X_pred.head()"
   ]
  },
  {
   "cell_type": "code",
   "execution_count": 63,
   "id": "9ef57769",
   "metadata": {},
   "outputs": [
    {
     "data": {
      "text/plain": [
       "((80, 31), (20, 31), (80,), (20,))"
      ]
     },
     "execution_count": 63,
     "metadata": {},
     "output_type": "execute_result"
    }
   ],
   "source": [
    "X_train.shape, X_test.shape, y_train.shape, y_test.shape"
   ]
  },
  {
   "cell_type": "code",
   "execution_count": 64,
   "id": "8dc9d908",
   "metadata": {},
   "outputs": [],
   "source": [
    "# # drop sales amount and sales amount per sqft from x and x_pred \n",
    "# X_train.drop(['SALE_AMOUNT', 'sale_amount_per_sqft'], axis=1, inplace=True)\n",
    "# X_test.drop(['SALE_AMOUNT', 'sale_amount_per_sqft'], axis=1, inplace=True)"
   ]
  },
  {
   "cell_type": "code",
   "execution_count": 65,
   "id": "aa6765c9",
   "metadata": {},
   "outputs": [
    {
     "data": {
      "text/plain": [
       "((80, 31), (20, 31), (80,), (20,))"
      ]
     },
     "execution_count": 65,
     "metadata": {},
     "output_type": "execute_result"
    }
   ],
   "source": [
    "X_train.shape, X_test.shape, y_train.shape, y_test.shape"
   ]
  },
  {
   "cell_type": "code",
   "execution_count": 66,
   "id": "66656a80",
   "metadata": {},
   "outputs": [],
   "source": [
    "# # scale features\n",
    "# from sklearn.preprocessing import StandardScaler\n",
    "# scaler = StandardScaler()\n",
    "# X_train_scaled = scaler.fit_transform(X_train)\n",
    "# X_test_scaled = scaler.fit_transform(X_test)\n",
    "\n",
    "# X_test_scaled.shape, X_train_scaled.shape"
   ]
  },
  {
   "cell_type": "code",
   "execution_count": 67,
   "id": "a2e15ecb",
   "metadata": {},
   "outputs": [
    {
     "data": {
      "text/plain": [
       "((24, 31), (100, 31))"
      ]
     },
     "execution_count": 67,
     "metadata": {},
     "output_type": "execute_result"
    }
   ],
   "source": [
    "# scale features\n",
    "from sklearn.preprocessing import StandardScaler\n",
    "scaler = StandardScaler()\n",
    "X_train_scaled = scaler.fit_transform(X_new_df)\n",
    "X_test_scaled = scaler.fit_transform(X_pred_new_df.drop(['index'], axis=1))\n",
    "\n",
    "X_test_scaled.shape, X_train_scaled.shape"
   ]
  },
  {
   "cell_type": "code",
   "execution_count": 68,
   "id": "6f0edc8c",
   "metadata": {},
   "outputs": [],
   "source": [
    "# hyperparameter tuning for random forest using RandomizedSearchCV\n",
    "from sklearn.ensemble import RandomForestClassifier\n",
    "from sklearn.model_selection import RandomizedSearchCV\n",
    "from sklearn.metrics import f1_score\n",
    "\n",
    "param_grid = {\n",
    "    'n_estimators': [100, 200, 300, 400, 500, 600, 700, 800],\n",
    "    'max_depth': [5, 10, 15, 20, 25, 30, 35, 40],\n",
    "    'min_samples_split': [2, 5, 10, 15, 20],\n",
    "    'min_samples_leaf': [1, 2, 5, 10, 15],\n",
    "    'bootstrap': [True, False]\n",
    "}\n",
    "\n",
    "# rf = RandomForestClassifier()\n",
    "\n",
    "# rf_random = RandomizedSearchCV(estimator=rf, param_distributions=param_grid, n_iter=100, cv=3, verbose=2, random_state=42, n_jobs=-1)\n",
    "\n",
    "# rf_random.fit(X_train_scaled, y)\n",
    "\n",
    "# rf_random.best_params_"
   ]
  },
  {
   "attachments": {},
   "cell_type": "markdown",
   "id": "cbad5b03",
   "metadata": {},
   "source": [
    "{'n_estimators': 500,\n",
    " 'min_samples_split': 5,\n",
    " 'min_samples_leaf': 2,\n",
    " 'max_depth': 35,\n",
    " 'bootstrap': False}"
   ]
  },
  {
   "cell_type": "code",
   "execution_count": 69,
   "id": "7da9d67b",
   "metadata": {
    "ExecuteTime": {
     "end_time": "2023-04-26T19:36:37.089497Z",
     "start_time": "2023-04-26T19:36:36.805707Z"
    }
   },
   "outputs": [],
   "source": [
    "# from sklearn.ensemble import RandomForestClassifier\n",
    "# from sklearn.metrics import f1_score\n",
    "\n",
    "# Create a Random Forest Classifier with 100 trees\n",
    "rf = RandomForestClassifier(n_estimators=600, min_samples_split=2, min_samples_leaf=1, max_depth=20, bootstrap=True)"
   ]
  },
  {
   "cell_type": "code",
   "execution_count": 70,
   "id": "6cdb15dc",
   "metadata": {
    "ExecuteTime": {
     "end_time": "2023-04-26T19:36:38.397849Z",
     "start_time": "2023-04-26T19:36:36.978417Z"
    }
   },
   "outputs": [],
   "source": [
    "# rf.fit(X_new_df, y)"
   ]
  },
  {
   "cell_type": "code",
   "execution_count": 71,
   "id": "7ad932af",
   "metadata": {
    "ExecuteTime": {
     "end_time": "2023-04-26T19:36:38.477522Z",
     "start_time": "2023-04-26T19:36:38.397849Z"
    }
   },
   "outputs": [],
   "source": [
    "# y_pred = rf.predict(X_poly_pred_new_df)"
   ]
  },
  {
   "cell_type": "code",
   "execution_count": 72,
   "id": "88203806",
   "metadata": {},
   "outputs": [],
   "source": [
    "# X_train_scaled.shape, y_train.shape"
   ]
  },
  {
   "cell_type": "code",
   "execution_count": 73,
   "id": "8aa7ec9e",
   "metadata": {},
   "outputs": [],
   "source": [
    "# rf.fit(X_train_scaled, y_train)"
   ]
  },
  {
   "cell_type": "code",
   "execution_count": 74,
   "id": "01dbfb81",
   "metadata": {},
   "outputs": [
    {
     "data": {
      "text/plain": [
       "RandomForestClassifier(max_depth=20, n_estimators=600)"
      ]
     },
     "execution_count": 74,
     "metadata": {},
     "output_type": "execute_result"
    }
   ],
   "source": [
    "rf.fit(X_train_scaled, y)\n"
   ]
  },
  {
   "cell_type": "code",
   "execution_count": 75,
   "id": "ead2ef84",
   "metadata": {},
   "outputs": [],
   "source": [
    "y_pred_r = rf.predict(X_test_scaled)"
   ]
  },
  {
   "cell_type": "code",
   "execution_count": 89,
   "id": "3857595e",
   "metadata": {},
   "outputs": [
    {
     "data": {
      "image/png": "[encoded data removed]",
      "text/plain": [
       "<Figure size 576x684 with 1 Axes>"
      ]
     },
     "metadata": {
      "needs_background": "light"
     },
     "output_type": "display_data"
    }
   ],
   "source": [
    "import shap\n",
    "\n",
    "shap_values = shap.TreeExplainer(rf).shap_values(X_train_scaled)\n",
    "shap.summary_plot(shap_values, pd.DataFrame(X_train_scaled, columns=X_train.columns), plot_type=\"bar\", cmap='plasma', show=False)"
   ]
  },
  {
   "cell_type": "code",
   "execution_count": 95,
   "id": "089279ee",
   "metadata": {},
   "outputs": [
    {
     "data": {
      "image/png": "[encoded data removed]",
      "text/plain": [
       "<Figure size 540x360 with 2 Axes>"
      ]
     },
     "metadata": {
      "needs_background": "light"
     },
     "output_type": "display_data"
    }
   ],
   "source": [
    "shap.dependence_plot(\"total_sales\", shap_values[0], pd.DataFrame(X_train_scaled, columns=X_train.columns))\n"
   ]
  },
  {
   "cell_type": "code",
   "execution_count": null,
   "id": "be571b91",
   "metadata": {},
   "outputs": [],
   "source": [
    "# # logistic regression\n",
    "# from sklearn.linear_model import LogisticRegression\n",
    "\n",
    "# logreg = LogisticRegression()\n",
    "\n",
    "# logreg.fit(X_scaled, y)\n",
    "\n",
    "# y_pred2 = logreg.predict(X_pred_scaled)\n",
    "# y_pred2"
   ]
  },
  {
   "cell_type": "code",
   "execution_count": null,
   "id": "e7ac3f55",
   "metadata": {},
   "outputs": [],
   "source": [
    "# y_pred2 = rf.predict(X_test_scaled)"
   ]
  },
  {
   "cell_type": "code",
   "execution_count": null,
   "id": "befc417b",
   "metadata": {
    "ExecuteTime": {
     "end_time": "2023-04-26T19:36:38.501638Z",
     "start_time": "2023-04-26T19:36:38.477522Z"
    }
   },
   "outputs": [],
   "source": [
    "# y_pred2.shape"
   ]
  },
  {
   "cell_type": "code",
   "execution_count": null,
   "id": "cb805154",
   "metadata": {},
   "outputs": [],
   "source": [
    "# y_test.shape"
   ]
  },
  {
   "cell_type": "code",
   "execution_count": null,
   "id": "0234a2dd",
   "metadata": {},
   "outputs": [],
   "source": [
    "# # f1 score\n",
    "# from sklearn.metrics import f1_score\n",
    "\n",
    "# print(f\"f1 score: {f1_score(y_test, y_pred_r, average='macro') * 100: .2f}%\")"
   ]
  },
  {
   "cell_type": "code",
   "execution_count": null,
   "id": "a9d783d5",
   "metadata": {},
   "outputs": [],
   "source": [
    "# from sklearn.model_selection import GridSearchCV"
   ]
  },
  {
   "cell_type": "code",
   "execution_count": null,
   "id": "1582085b",
   "metadata": {},
   "outputs": [],
   "source": [
    "from sklearn import svm\n",
    "# create an SVM classifier object\n",
    "svm_classif = svm.SVC()\n",
    "\n",
    "# # set the parameters for hyperparameter tuning\n",
    "# parameters= {'C': [0.1, 1, 10],\n",
    "#              'kernel': ['linear', 'rbf', 'poly'], \n",
    "#              'gamma': ['scale', 'auto']\n",
    "#              }"
   ]
  },
  {
   "cell_type": "code",
   "execution_count": null,
   "id": "feef812b",
   "metadata": {},
   "outputs": [],
   "source": [
    "# svm_classif = svm.SVC(kernel='sigmoid',C=10,gamma='auto') "
   ]
  },
  {
   "cell_type": "code",
   "execution_count": null,
   "id": "44ccf83f",
   "metadata": {},
   "outputs": [],
   "source": [
    "# svm_classif.fit(X_train_scaled, y_train)"
   ]
  },
  {
   "cell_type": "code",
   "execution_count": null,
   "id": "26f9677c",
   "metadata": {},
   "outputs": [],
   "source": [
    "# y_pred2 = svm_classif.predict(X_test_scaled)"
   ]
  },
  {
   "cell_type": "code",
   "execution_count": null,
   "id": "d2b4773a",
   "metadata": {},
   "outputs": [],
   "source": [
    "# f1 = f1_score(y_test, y_pred2, average='macro')\n",
    "# print(\"F1 score:\", f1)"
   ]
  },
  {
   "cell_type": "code",
   "execution_count": null,
   "id": "ed34d4d2",
   "metadata": {},
   "outputs": [],
   "source": [
    "# new_pred_df = pd.DataFrame(y_pred_r, columns=['shop_profile'])\n",
    "# # new_pred_df = pd.DataFrame(df_pred['shop_id']).merge(new_pred_df, left_index=True, right_index=True)\n",
    "# # new_pred_df\n",
    "# # df_pred['shop_id']\n",
    "# new_pred_df = pd.concat([pd.DataFrame(df_pred['shop_id']).reset_index(), new_pred_df], axis=1)\n",
    "# new_pred_df.drop(['index'], axis=1, inplace=True)\n",
    "\n",
    "# Test.drop(['shop_profile'], axis=1, inplace=True)\n",
    "# Test = pd.merge(Test, new_pred_df, on='shop_id', how='left')\n",
    "# Test.to_csv('Testing-data3-submission2test.csv', index=False)"
   ]
  }
 ],
 "metadata": {
  "kernelspec": {
   "display_name": "Python 3 (ipykernel)",
   "language": "python",
   "name": "python3"
  },
  "language_info": {
   "codemirror_mode": {
    "name": "ipython",
    "version": 3
   },
   "file_extension": ".py",
   "mimetype": "text/x-python",
   "name": "python",
   "nbconvert_exporter": "python",
   "pygments_lexer": "ipython3",
   "version": "3.9.7"
  }
 },
 "nbformat": 4,
 "nbformat_minor": 5
}

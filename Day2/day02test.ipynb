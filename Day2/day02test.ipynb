{
 "cells": [
  {
   "cell_type": "code",
   "execution_count": 3,
   "id": "82cb680e",
   "metadata": {
    "ExecuteTime": {
     "start_time": "2023-04-26T19:36:24.866010Z",
     "end_time": "2023-04-26T19:36:25.092410Z"
    }
   },
   "outputs": [],
   "source": [
    "import numpy as np\n",
    "import seaborn as sns\n",
    "import pandas as pd\n",
    "import matplotlib.pyplot as plt"
   ]
  },
  {
   "cell_type": "code",
   "execution_count": 4,
   "id": "455bece8",
   "metadata": {
    "ExecuteTime": {
     "start_time": "2023-04-26T19:36:24.881674Z",
     "end_time": "2023-04-26T19:36:25.795020Z"
    }
   },
   "outputs": [],
   "source": [
    "HistTrans=pd.read_csv('E:\\DSE\\DataStorm 4.0\\DataStorm077\\data-storm-4\\Historical-transaction-data.csv')\n",
    "StoreInfo = pd.read_csv('E:\\DSE\\DataStorm 4.0\\DataStorm077\\data-storm-4\\Store-info.csv')\n",
    "Test = pd.read_\n",
    "csv('E:\\DSE\\DataStorm 4.0\\DataStorm077\\data-storm-4\\Testing-data.csv')"
   ]
  },
  {
   "cell_type": "code",
   "execution_count": 5,
   "id": "ee179c27",
   "metadata": {
    "ExecuteTime": {
     "start_time": "2023-04-26T19:36:25.435024Z",
     "end_time": "2023-04-26T19:36:25.795020Z"
    }
   },
   "outputs": [],
   "source": [
    "df = HistTrans.copy()"
   ]
  },
  {
   "cell_type": "code",
   "execution_count": 6,
   "id": "c903885a",
   "metadata": {
    "scrolled": false,
    "ExecuteTime": {
     "start_time": "2023-04-26T19:36:25.466276Z",
     "end_time": "2023-04-26T19:36:25.795020Z"
    }
   },
   "outputs": [
    {
     "data": {
      "text/plain": "               item_description          transaction_date  invoice_id  \\\n0            ORANGE BARLEY 1.5L  2021-12-11T00:00:00.000Z       147.0   \n1              GINGER BEER 1.5L  2021-10-17T00:00:00.000Z       371.0   \n2               TONIC PET 500ML  2021-12-13T00:00:00.000Z       484.0   \n3                 CREAM SODA 1L  2021-12-13T00:00:00.000Z       484.0   \n4         STRAWBERRY MILK 180ML  2021-10-23T00:00:00.000Z      1310.0   \n...                         ...                       ...         ...   \n473969               NECTO 1.5L  2021-12-09T00:00:00.000Z         NaN   \n473970            LEMONADE 1.5L  2021-12-02T00:00:00.000Z         NaN   \n473971       FIT O ORANGE 200ML  2021-11-19T00:00:00.000Z         NaN   \n473972          CREAM SODA 1.5L  2021-12-03T00:00:00.000Z         NaN   \n473973  CREAM SODA APPLE POP 1L  2021-12-03T00:00:00.000Z         NaN   \n\n       customer_id  shop_id  item_price  quantity_sold  \n0             BGXA  SHOP008         220              2  \n1             IA25  SHOP112         220              2  \n2             VN7V  SHOP008         160              2  \n3             VN7V  SHOP008         150              2  \n4             7S00  SHOP112         210              5  \n...            ...      ...         ...            ...  \n473969        X21A  SHOP056         440              3  \n473970        LV2L  SHOP018         220              2  \n473971        VC4O  SHOP077         210              4  \n473972        MSBQ  SHOP077         440              3  \n473973        MSBQ  SHOP077         150              1  \n\n[473974 rows x 7 columns]",
      "text/html": "<div>\n<style scoped>\n    .dataframe tbody tr th:only-of-type {\n        vertical-align: middle;\n    }\n\n    .dataframe tbody tr th {\n        vertical-align: top;\n    }\n\n    .dataframe thead th {\n        text-align: right;\n    }\n</style>\n<table border=\"1\" class=\"dataframe\">\n  <thead>\n    <tr style=\"text-align: right;\">\n      <th></th>\n      <th>item_description</th>\n      <th>transaction_date</th>\n      <th>invoice_id</th>\n      <th>customer_id</th>\n      <th>shop_id</th>\n      <th>item_price</th>\n      <th>quantity_sold</th>\n    </tr>\n  </thead>\n  <tbody>\n    <tr>\n      <th>0</th>\n      <td>ORANGE BARLEY 1.5L</td>\n      <td>2021-12-11T00:00:00.000Z</td>\n      <td>147.0</td>\n      <td>BGXA</td>\n      <td>SHOP008</td>\n      <td>220</td>\n      <td>2</td>\n    </tr>\n    <tr>\n      <th>1</th>\n      <td>GINGER BEER 1.5L</td>\n      <td>2021-10-17T00:00:00.000Z</td>\n      <td>371.0</td>\n      <td>IA25</td>\n      <td>SHOP112</td>\n      <td>220</td>\n      <td>2</td>\n    </tr>\n    <tr>\n      <th>2</th>\n      <td>TONIC PET 500ML</td>\n      <td>2021-12-13T00:00:00.000Z</td>\n      <td>484.0</td>\n      <td>VN7V</td>\n      <td>SHOP008</td>\n      <td>160</td>\n      <td>2</td>\n    </tr>\n    <tr>\n      <th>3</th>\n      <td>CREAM SODA 1L</td>\n      <td>2021-12-13T00:00:00.000Z</td>\n      <td>484.0</td>\n      <td>VN7V</td>\n      <td>SHOP008</td>\n      <td>150</td>\n      <td>2</td>\n    </tr>\n    <tr>\n      <th>4</th>\n      <td>STRAWBERRY MILK 180ML</td>\n      <td>2021-10-23T00:00:00.000Z</td>\n      <td>1310.0</td>\n      <td>7S00</td>\n      <td>SHOP112</td>\n      <td>210</td>\n      <td>5</td>\n    </tr>\n    <tr>\n      <th>...</th>\n      <td>...</td>\n      <td>...</td>\n      <td>...</td>\n      <td>...</td>\n      <td>...</td>\n      <td>...</td>\n      <td>...</td>\n    </tr>\n    <tr>\n      <th>473969</th>\n      <td>NECTO 1.5L</td>\n      <td>2021-12-09T00:00:00.000Z</td>\n      <td>NaN</td>\n      <td>X21A</td>\n      <td>SHOP056</td>\n      <td>440</td>\n      <td>3</td>\n    </tr>\n    <tr>\n      <th>473970</th>\n      <td>LEMONADE 1.5L</td>\n      <td>2021-12-02T00:00:00.000Z</td>\n      <td>NaN</td>\n      <td>LV2L</td>\n      <td>SHOP018</td>\n      <td>220</td>\n      <td>2</td>\n    </tr>\n    <tr>\n      <th>473971</th>\n      <td>FIT O ORANGE 200ML</td>\n      <td>2021-11-19T00:00:00.000Z</td>\n      <td>NaN</td>\n      <td>VC4O</td>\n      <td>SHOP077</td>\n      <td>210</td>\n      <td>4</td>\n    </tr>\n    <tr>\n      <th>473972</th>\n      <td>CREAM SODA 1.5L</td>\n      <td>2021-12-03T00:00:00.000Z</td>\n      <td>NaN</td>\n      <td>MSBQ</td>\n      <td>SHOP077</td>\n      <td>440</td>\n      <td>3</td>\n    </tr>\n    <tr>\n      <th>473973</th>\n      <td>CREAM SODA APPLE POP 1L</td>\n      <td>2021-12-03T00:00:00.000Z</td>\n      <td>NaN</td>\n      <td>MSBQ</td>\n      <td>SHOP077</td>\n      <td>150</td>\n      <td>1</td>\n    </tr>\n  </tbody>\n</table>\n<p>473974 rows × 7 columns</p>\n</div>"
     },
     "execution_count": 6,
     "metadata": {},
     "output_type": "execute_result"
    }
   ],
   "source": [
    "HistTrans"
   ]
  },
  {
   "cell_type": "code",
   "execution_count": 7,
   "id": "96c8b0d0",
   "metadata": {
    "ExecuteTime": {
     "start_time": "2023-04-26T19:36:25.497926Z",
     "end_time": "2023-04-26T19:36:25.795020Z"
    }
   },
   "outputs": [],
   "source": [
    "col1_min = HistTrans['item_price'].min()\n",
    "col1_max = HistTrans['item_price'].max()\n",
    "\n",
    "col2_min = HistTrans['quantity_sold'].min()\n",
    "col2_max = HistTrans['quantity_sold'].max()"
   ]
  },
  {
   "cell_type": "code",
   "execution_count": 8,
   "id": "befc192d",
   "metadata": {
    "ExecuteTime": {
     "start_time": "2023-04-26T19:36:25.513561Z",
     "end_time": "2023-04-26T19:36:25.795020Z"
    }
   },
   "outputs": [
    {
     "data": {
      "text/plain": "(35, 17400)"
     },
     "execution_count": 8,
     "metadata": {},
     "output_type": "execute_result"
    }
   ],
   "source": [
    "col1_min,col1_max"
   ]
  },
  {
   "cell_type": "code",
   "execution_count": 9,
   "id": "2c5039dc",
   "metadata": {
    "ExecuteTime": {
     "start_time": "2023-04-26T19:36:25.529725Z",
     "end_time": "2023-04-26T19:36:25.795020Z"
    }
   },
   "outputs": [
    {
     "data": {
      "text/plain": "(-1, 101)"
     },
     "execution_count": 9,
     "metadata": {},
     "output_type": "execute_result"
    }
   ],
   "source": [
    "col2_min,col2_max"
   ]
  },
  {
   "cell_type": "code",
   "execution_count": 10,
   "id": "c415e04f",
   "metadata": {
    "ExecuteTime": {
     "start_time": "2023-04-26T19:36:25.542986Z",
     "end_time": "2023-04-26T19:36:25.795020Z"
    }
   },
   "outputs": [],
   "source": [
    "HistTrans = HistTrans[HistTrans['quantity_sold'] > 0]"
   ]
  },
  {
   "cell_type": "code",
   "execution_count": 11,
   "id": "b73f61dc",
   "metadata": {
    "ExecuteTime": {
     "start_time": "2023-04-26T19:36:25.582993Z",
     "end_time": "2023-04-26T19:36:25.795020Z"
    }
   },
   "outputs": [],
   "source": [
    "df = HistTrans.copy()"
   ]
  },
  {
   "cell_type": "code",
   "execution_count": 12,
   "id": "6fa9d3ee",
   "metadata": {
    "ExecuteTime": {
     "start_time": "2023-04-26T19:36:25.606740Z",
     "end_time": "2023-04-26T19:36:25.983268Z"
    }
   },
   "outputs": [
    {
     "data": {
      "text/plain": "item_description    35554\ntransaction_date        0\ninvoice_id           6216\ncustomer_id             0\nshop_id                 0\nitem_price              0\nquantity_sold           0\ndtype: int64"
     },
     "execution_count": 12,
     "metadata": {},
     "output_type": "execute_result"
    }
   ],
   "source": [
    "HistTrans.isna().sum()"
   ]
  },
  {
   "cell_type": "code",
   "execution_count": 13,
   "id": "367eab7f",
   "metadata": {
    "ExecuteTime": {
     "start_time": "2023-04-26T19:36:25.857533Z",
     "end_time": "2023-04-26T19:36:25.983268Z"
    }
   },
   "outputs": [],
   "source": [
    "df1 = StoreInfo.copy()"
   ]
  },
  {
   "cell_type": "code",
   "execution_count": 14,
   "id": "64364e54",
   "metadata": {
    "ExecuteTime": {
     "start_time": "2023-04-26T19:36:25.873188Z",
     "end_time": "2023-04-26T19:36:25.983268Z"
    }
   },
   "outputs": [
    {
     "data": {
      "text/plain": "               item_description          transaction_date  invoice_id  \\\n0            ORANGE BARLEY 1.5L  2021-12-11T00:00:00.000Z       147.0   \n1              GINGER BEER 1.5L  2021-10-17T00:00:00.000Z       371.0   \n2               TONIC PET 500ML  2021-12-13T00:00:00.000Z       484.0   \n3                 CREAM SODA 1L  2021-12-13T00:00:00.000Z       484.0   \n4         STRAWBERRY MILK 180ML  2021-10-23T00:00:00.000Z      1310.0   \n...                         ...                       ...         ...   \n473969               NECTO 1.5L  2021-12-09T00:00:00.000Z         NaN   \n473970            LEMONADE 1.5L  2021-12-02T00:00:00.000Z         NaN   \n473971       FIT O ORANGE 200ML  2021-11-19T00:00:00.000Z         NaN   \n473972          CREAM SODA 1.5L  2021-12-03T00:00:00.000Z         NaN   \n473973  CREAM SODA APPLE POP 1L  2021-12-03T00:00:00.000Z         NaN   \n\n       customer_id  shop_id  item_price  quantity_sold  \n0             BGXA  SHOP008         220              2  \n1             IA25  SHOP112         220              2  \n2             VN7V  SHOP008         160              2  \n3             VN7V  SHOP008         150              2  \n4             7S00  SHOP112         210              5  \n...            ...      ...         ...            ...  \n473969        X21A  SHOP056         440              3  \n473970        LV2L  SHOP018         220              2  \n473971        VC4O  SHOP077         210              4  \n473972        MSBQ  SHOP077         440              3  \n473973        MSBQ  SHOP077         150              1  \n\n[465623 rows x 7 columns]",
      "text/html": "<div>\n<style scoped>\n    .dataframe tbody tr th:only-of-type {\n        vertical-align: middle;\n    }\n\n    .dataframe tbody tr th {\n        vertical-align: top;\n    }\n\n    .dataframe thead th {\n        text-align: right;\n    }\n</style>\n<table border=\"1\" class=\"dataframe\">\n  <thead>\n    <tr style=\"text-align: right;\">\n      <th></th>\n      <th>item_description</th>\n      <th>transaction_date</th>\n      <th>invoice_id</th>\n      <th>customer_id</th>\n      <th>shop_id</th>\n      <th>item_price</th>\n      <th>quantity_sold</th>\n    </tr>\n  </thead>\n  <tbody>\n    <tr>\n      <th>0</th>\n      <td>ORANGE BARLEY 1.5L</td>\n      <td>2021-12-11T00:00:00.000Z</td>\n      <td>147.0</td>\n      <td>BGXA</td>\n      <td>SHOP008</td>\n      <td>220</td>\n      <td>2</td>\n    </tr>\n    <tr>\n      <th>1</th>\n      <td>GINGER BEER 1.5L</td>\n      <td>2021-10-17T00:00:00.000Z</td>\n      <td>371.0</td>\n      <td>IA25</td>\n      <td>SHOP112</td>\n      <td>220</td>\n      <td>2</td>\n    </tr>\n    <tr>\n      <th>2</th>\n      <td>TONIC PET 500ML</td>\n      <td>2021-12-13T00:00:00.000Z</td>\n      <td>484.0</td>\n      <td>VN7V</td>\n      <td>SHOP008</td>\n      <td>160</td>\n      <td>2</td>\n    </tr>\n    <tr>\n      <th>3</th>\n      <td>CREAM SODA 1L</td>\n      <td>2021-12-13T00:00:00.000Z</td>\n      <td>484.0</td>\n      <td>VN7V</td>\n      <td>SHOP008</td>\n      <td>150</td>\n      <td>2</td>\n    </tr>\n    <tr>\n      <th>4</th>\n      <td>STRAWBERRY MILK 180ML</td>\n      <td>2021-10-23T00:00:00.000Z</td>\n      <td>1310.0</td>\n      <td>7S00</td>\n      <td>SHOP112</td>\n      <td>210</td>\n      <td>5</td>\n    </tr>\n    <tr>\n      <th>...</th>\n      <td>...</td>\n      <td>...</td>\n      <td>...</td>\n      <td>...</td>\n      <td>...</td>\n      <td>...</td>\n      <td>...</td>\n    </tr>\n    <tr>\n      <th>473969</th>\n      <td>NECTO 1.5L</td>\n      <td>2021-12-09T00:00:00.000Z</td>\n      <td>NaN</td>\n      <td>X21A</td>\n      <td>SHOP056</td>\n      <td>440</td>\n      <td>3</td>\n    </tr>\n    <tr>\n      <th>473970</th>\n      <td>LEMONADE 1.5L</td>\n      <td>2021-12-02T00:00:00.000Z</td>\n      <td>NaN</td>\n      <td>LV2L</td>\n      <td>SHOP018</td>\n      <td>220</td>\n      <td>2</td>\n    </tr>\n    <tr>\n      <th>473971</th>\n      <td>FIT O ORANGE 200ML</td>\n      <td>2021-11-19T00:00:00.000Z</td>\n      <td>NaN</td>\n      <td>VC4O</td>\n      <td>SHOP077</td>\n      <td>210</td>\n      <td>4</td>\n    </tr>\n    <tr>\n      <th>473972</th>\n      <td>CREAM SODA 1.5L</td>\n      <td>2021-12-03T00:00:00.000Z</td>\n      <td>NaN</td>\n      <td>MSBQ</td>\n      <td>SHOP077</td>\n      <td>440</td>\n      <td>3</td>\n    </tr>\n    <tr>\n      <th>473973</th>\n      <td>CREAM SODA APPLE POP 1L</td>\n      <td>2021-12-03T00:00:00.000Z</td>\n      <td>NaN</td>\n      <td>MSBQ</td>\n      <td>SHOP077</td>\n      <td>150</td>\n      <td>1</td>\n    </tr>\n  </tbody>\n</table>\n<p>465623 rows × 7 columns</p>\n</div>"
     },
     "execution_count": 14,
     "metadata": {},
     "output_type": "execute_result"
    }
   ],
   "source": [
    "df"
   ]
  },
  {
   "cell_type": "code",
   "execution_count": 15,
   "id": "230b76bc",
   "metadata": {
    "ExecuteTime": {
     "start_time": "2023-04-26T19:36:25.888781Z",
     "end_time": "2023-04-26T19:36:26.127934Z"
    }
   },
   "outputs": [
    {
     "data": {
      "text/plain": "item_description    35554\ntransaction_date        0\ninvoice_id           6216\ncustomer_id             0\nshop_id                 0\nitem_price              0\nquantity_sold           0\ndtype: int64"
     },
     "execution_count": 15,
     "metadata": {},
     "output_type": "execute_result"
    }
   ],
   "source": [
    "HistTrans.isna().sum()"
   ]
  },
  {
   "cell_type": "code",
   "execution_count": 15,
   "id": "80faa371",
   "metadata": {
    "ExecuteTime": {
     "start_time": "2023-04-26T19:36:26.112308Z",
     "end_time": "2023-04-26T19:36:26.159153Z"
    }
   },
   "outputs": [],
   "source": []
  },
  {
   "cell_type": "markdown",
   "id": "6bfb6d1b",
   "metadata": {},
   "source": [
    "### Create new Features"
   ]
  },
  {
   "cell_type": "code",
   "execution_count": 16,
   "id": "bb8cbe06",
   "metadata": {
    "ExecuteTime": {
     "start_time": "2023-04-26T19:36:26.127934Z",
     "end_time": "2023-04-26T19:36:26.159153Z"
    }
   },
   "outputs": [],
   "source": [
    "df['SALE_AMOUNT'] = df['item_price'] * df['quantity_sold']"
   ]
  },
  {
   "cell_type": "code",
   "execution_count": 17,
   "id": "4b5004b5",
   "metadata": {
    "ExecuteTime": {
     "start_time": "2023-04-26T19:36:26.143530Z",
     "end_time": "2023-04-26T19:36:27.414797Z"
    }
   },
   "outputs": [],
   "source": [
    "df['transaction_date'] = df['transaction_date'].str.split('T', n=1, expand=True)[0]"
   ]
  },
  {
   "cell_type": "code",
   "execution_count": 18,
   "id": "463545d4",
   "metadata": {
    "ExecuteTime": {
     "start_time": "2023-04-26T19:36:27.419363Z",
     "end_time": "2023-04-26T19:36:29.880402Z"
    }
   },
   "outputs": [],
   "source": [
    "# convert Date column to datetime format\n",
    "df['transaction_date'] = pd.to_datetime(df['transaction_date'])\n",
    "\n",
    "# create new column Month with two-digit format\n",
    "df['MONTH'] = df['transaction_date'].dt.strftime('%m')"
   ]
  },
  {
   "cell_type": "code",
   "execution_count": 19,
   "id": "9f9b2f62",
   "metadata": {
    "ExecuteTime": {
     "start_time": "2023-04-26T19:36:29.880402Z",
     "end_time": "2023-04-26T19:36:32.642649Z"
    }
   },
   "outputs": [],
   "source": [
    "# fill NaN values with empty string\n",
    "# df['item_description'] = df['item_description'].fillna('')\n",
    "\n",
    "\n",
    "# create a new column 'BRAND' by splitting the ITEM string and taking the first element\n",
    "df['BRAND'] = df['item_description'].str.split().str[:-1].str.join(' ')\n",
    "\n",
    "# create a new column 'CAPACITY' by splitting the ITEM string and taking the last element\n",
    "df['CAPACITY'] = df['item_description'].str.split().str[-1]\n",
    "\n",
    "def process_value(val):\n",
    "    if pd.notnull(val):  # ignore NaN values\n",
    "        if 'ML' in val:\n",
    "            val = val.replace('ML', '').strip()\n",
    "            val = (float(val) / 1000)  \n",
    "        elif 'L' in val:\n",
    "            val = val.replace('L', '').strip()\n",
    "            val = int(float(val))  # convert to int\n",
    "    return val\n",
    "\n",
    "# apply the function to the column\n",
    "df['CAPACITY'] = df['CAPACITY'].apply(process_value)"
   ]
  },
  {
   "cell_type": "code",
   "execution_count": 20,
   "id": "05bde093",
   "metadata": {
    "ExecuteTime": {
     "start_time": "2023-04-26T19:36:32.673832Z",
     "end_time": "2023-04-26T19:36:32.705587Z"
    }
   },
   "outputs": [
    {
     "data": {
      "text/plain": "               item_description transaction_date  invoice_id customer_id  \\\n0            ORANGE BARLEY 1.5L       2021-12-11       147.0        BGXA   \n1              GINGER BEER 1.5L       2021-10-17       371.0        IA25   \n2               TONIC PET 500ML       2021-12-13       484.0        VN7V   \n3                 CREAM SODA 1L       2021-12-13       484.0        VN7V   \n4         STRAWBERRY MILK 180ML       2021-10-23      1310.0        7S00   \n...                         ...              ...         ...         ...   \n473969               NECTO 1.5L       2021-12-09         NaN        X21A   \n473970            LEMONADE 1.5L       2021-12-02         NaN        LV2L   \n473971       FIT O ORANGE 200ML       2021-11-19         NaN        VC4O   \n473972          CREAM SODA 1.5L       2021-12-03         NaN        MSBQ   \n473973  CREAM SODA APPLE POP 1L       2021-12-03         NaN        MSBQ   \n\n        shop_id  item_price  quantity_sold  SALE_AMOUNT MONTH  \\\n0       SHOP008         220              2          440    12   \n1       SHOP112         220              2          440    10   \n2       SHOP008         160              2          320    12   \n3       SHOP008         150              2          300    12   \n4       SHOP112         210              5         1050    10   \n...         ...         ...            ...          ...   ...   \n473969  SHOP056         440              3         1320    12   \n473970  SHOP018         220              2          440    12   \n473971  SHOP077         210              4          840    11   \n473972  SHOP077         440              3         1320    12   \n473973  SHOP077         150              1          150    12   \n\n                       BRAND  CAPACITY  \n0              ORANGE BARLEY      1.00  \n1                GINGER BEER      1.00  \n2                  TONIC PET      0.50  \n3                 CREAM SODA      1.00  \n4            STRAWBERRY MILK      0.18  \n...                      ...       ...  \n473969                 NECTO      1.00  \n473970              LEMONADE      1.00  \n473971          FIT O ORANGE      0.20  \n473972            CREAM SODA      1.00  \n473973  CREAM SODA APPLE POP      1.00  \n\n[465623 rows x 11 columns]",
      "text/html": "<div>\n<style scoped>\n    .dataframe tbody tr th:only-of-type {\n        vertical-align: middle;\n    }\n\n    .dataframe tbody tr th {\n        vertical-align: top;\n    }\n\n    .dataframe thead th {\n        text-align: right;\n    }\n</style>\n<table border=\"1\" class=\"dataframe\">\n  <thead>\n    <tr style=\"text-align: right;\">\n      <th></th>\n      <th>item_description</th>\n      <th>transaction_date</th>\n      <th>invoice_id</th>\n      <th>customer_id</th>\n      <th>shop_id</th>\n      <th>item_price</th>\n      <th>quantity_sold</th>\n      <th>SALE_AMOUNT</th>\n      <th>MONTH</th>\n      <th>BRAND</th>\n      <th>CAPACITY</th>\n    </tr>\n  </thead>\n  <tbody>\n    <tr>\n      <th>0</th>\n      <td>ORANGE BARLEY 1.5L</td>\n      <td>2021-12-11</td>\n      <td>147.0</td>\n      <td>BGXA</td>\n      <td>SHOP008</td>\n      <td>220</td>\n      <td>2</td>\n      <td>440</td>\n      <td>12</td>\n      <td>ORANGE BARLEY</td>\n      <td>1.00</td>\n    </tr>\n    <tr>\n      <th>1</th>\n      <td>GINGER BEER 1.5L</td>\n      <td>2021-10-17</td>\n      <td>371.0</td>\n      <td>IA25</td>\n      <td>SHOP112</td>\n      <td>220</td>\n      <td>2</td>\n      <td>440</td>\n      <td>10</td>\n      <td>GINGER BEER</td>\n      <td>1.00</td>\n    </tr>\n    <tr>\n      <th>2</th>\n      <td>TONIC PET 500ML</td>\n      <td>2021-12-13</td>\n      <td>484.0</td>\n      <td>VN7V</td>\n      <td>SHOP008</td>\n      <td>160</td>\n      <td>2</td>\n      <td>320</td>\n      <td>12</td>\n      <td>TONIC PET</td>\n      <td>0.50</td>\n    </tr>\n    <tr>\n      <th>3</th>\n      <td>CREAM SODA 1L</td>\n      <td>2021-12-13</td>\n      <td>484.0</td>\n      <td>VN7V</td>\n      <td>SHOP008</td>\n      <td>150</td>\n      <td>2</td>\n      <td>300</td>\n      <td>12</td>\n      <td>CREAM SODA</td>\n      <td>1.00</td>\n    </tr>\n    <tr>\n      <th>4</th>\n      <td>STRAWBERRY MILK 180ML</td>\n      <td>2021-10-23</td>\n      <td>1310.0</td>\n      <td>7S00</td>\n      <td>SHOP112</td>\n      <td>210</td>\n      <td>5</td>\n      <td>1050</td>\n      <td>10</td>\n      <td>STRAWBERRY MILK</td>\n      <td>0.18</td>\n    </tr>\n    <tr>\n      <th>...</th>\n      <td>...</td>\n      <td>...</td>\n      <td>...</td>\n      <td>...</td>\n      <td>...</td>\n      <td>...</td>\n      <td>...</td>\n      <td>...</td>\n      <td>...</td>\n      <td>...</td>\n      <td>...</td>\n    </tr>\n    <tr>\n      <th>473969</th>\n      <td>NECTO 1.5L</td>\n      <td>2021-12-09</td>\n      <td>NaN</td>\n      <td>X21A</td>\n      <td>SHOP056</td>\n      <td>440</td>\n      <td>3</td>\n      <td>1320</td>\n      <td>12</td>\n      <td>NECTO</td>\n      <td>1.00</td>\n    </tr>\n    <tr>\n      <th>473970</th>\n      <td>LEMONADE 1.5L</td>\n      <td>2021-12-02</td>\n      <td>NaN</td>\n      <td>LV2L</td>\n      <td>SHOP018</td>\n      <td>220</td>\n      <td>2</td>\n      <td>440</td>\n      <td>12</td>\n      <td>LEMONADE</td>\n      <td>1.00</td>\n    </tr>\n    <tr>\n      <th>473971</th>\n      <td>FIT O ORANGE 200ML</td>\n      <td>2021-11-19</td>\n      <td>NaN</td>\n      <td>VC4O</td>\n      <td>SHOP077</td>\n      <td>210</td>\n      <td>4</td>\n      <td>840</td>\n      <td>11</td>\n      <td>FIT O ORANGE</td>\n      <td>0.20</td>\n    </tr>\n    <tr>\n      <th>473972</th>\n      <td>CREAM SODA 1.5L</td>\n      <td>2021-12-03</td>\n      <td>NaN</td>\n      <td>MSBQ</td>\n      <td>SHOP077</td>\n      <td>440</td>\n      <td>3</td>\n      <td>1320</td>\n      <td>12</td>\n      <td>CREAM SODA</td>\n      <td>1.00</td>\n    </tr>\n    <tr>\n      <th>473973</th>\n      <td>CREAM SODA APPLE POP 1L</td>\n      <td>2021-12-03</td>\n      <td>NaN</td>\n      <td>MSBQ</td>\n      <td>SHOP077</td>\n      <td>150</td>\n      <td>1</td>\n      <td>150</td>\n      <td>12</td>\n      <td>CREAM SODA APPLE POP</td>\n      <td>1.00</td>\n    </tr>\n  </tbody>\n</table>\n<p>465623 rows × 11 columns</p>\n</div>"
     },
     "execution_count": 20,
     "metadata": {},
     "output_type": "execute_result"
    }
   ],
   "source": [
    "df"
   ]
  },
  {
   "cell_type": "code",
   "execution_count": 21,
   "id": "cd98b9f4",
   "metadata": {
    "ExecuteTime": {
     "start_time": "2023-04-26T19:36:32.689456Z",
     "end_time": "2023-04-26T19:36:32.705587Z"
    }
   },
   "outputs": [
    {
     "data": {
      "text/plain": "     shop_id  shop_area_sq_ft shop_profile\n0    SHOP047              528     Moderate\n1    SHOP009              676         High\n2    SHOP083              676          Low\n3    SHOP117              676          Low\n4    SHOP042              676          Low\n..       ...              ...          ...\n119  SHOP087              527          NaN\n120  SHOP050              411          NaN\n121  SHOP061              699          NaN\n122  SHOP056              597          NaN\n123  SHOP070              676          NaN\n\n[124 rows x 3 columns]",
      "text/html": "<div>\n<style scoped>\n    .dataframe tbody tr th:only-of-type {\n        vertical-align: middle;\n    }\n\n    .dataframe tbody tr th {\n        vertical-align: top;\n    }\n\n    .dataframe thead th {\n        text-align: right;\n    }\n</style>\n<table border=\"1\" class=\"dataframe\">\n  <thead>\n    <tr style=\"text-align: right;\">\n      <th></th>\n      <th>shop_id</th>\n      <th>shop_area_sq_ft</th>\n      <th>shop_profile</th>\n    </tr>\n  </thead>\n  <tbody>\n    <tr>\n      <th>0</th>\n      <td>SHOP047</td>\n      <td>528</td>\n      <td>Moderate</td>\n    </tr>\n    <tr>\n      <th>1</th>\n      <td>SHOP009</td>\n      <td>676</td>\n      <td>High</td>\n    </tr>\n    <tr>\n      <th>2</th>\n      <td>SHOP083</td>\n      <td>676</td>\n      <td>Low</td>\n    </tr>\n    <tr>\n      <th>3</th>\n      <td>SHOP117</td>\n      <td>676</td>\n      <td>Low</td>\n    </tr>\n    <tr>\n      <th>4</th>\n      <td>SHOP042</td>\n      <td>676</td>\n      <td>Low</td>\n    </tr>\n    <tr>\n      <th>...</th>\n      <td>...</td>\n      <td>...</td>\n      <td>...</td>\n    </tr>\n    <tr>\n      <th>119</th>\n      <td>SHOP087</td>\n      <td>527</td>\n      <td>NaN</td>\n    </tr>\n    <tr>\n      <th>120</th>\n      <td>SHOP050</td>\n      <td>411</td>\n      <td>NaN</td>\n    </tr>\n    <tr>\n      <th>121</th>\n      <td>SHOP061</td>\n      <td>699</td>\n      <td>NaN</td>\n    </tr>\n    <tr>\n      <th>122</th>\n      <td>SHOP056</td>\n      <td>597</td>\n      <td>NaN</td>\n    </tr>\n    <tr>\n      <th>123</th>\n      <td>SHOP070</td>\n      <td>676</td>\n      <td>NaN</td>\n    </tr>\n  </tbody>\n</table>\n<p>124 rows × 3 columns</p>\n</div>"
     },
     "execution_count": 21,
     "metadata": {},
     "output_type": "execute_result"
    }
   ],
   "source": [
    "df1"
   ]
  },
  {
   "cell_type": "code",
   "execution_count": 22,
   "id": "375991b5",
   "metadata": {
    "ExecuteTime": {
     "start_time": "2023-04-26T19:36:32.705587Z",
     "end_time": "2023-04-26T19:36:32.972442Z"
    }
   },
   "outputs": [
    {
     "data": {
      "text/plain": "item_description    35554\ntransaction_date        0\ninvoice_id           6216\ncustomer_id             0\nshop_id                 0\nitem_price              0\nquantity_sold           0\nSALE_AMOUNT             0\nMONTH                   0\nBRAND               35554\nCAPACITY            35554\ndtype: int64"
     },
     "execution_count": 22,
     "metadata": {},
     "output_type": "execute_result"
    }
   ],
   "source": [
    "df.isna().sum()"
   ]
  },
  {
   "cell_type": "code",
   "execution_count": 23,
   "id": "cc4360a1",
   "metadata": {
    "ExecuteTime": {
     "start_time": "2023-04-26T19:36:32.972442Z",
     "end_time": "2023-04-26T19:36:32.988101Z"
    }
   },
   "outputs": [
    {
     "data": {
      "text/plain": "Index(['item_description', 'transaction_date', 'invoice_id', 'customer_id',\n       'shop_id', 'item_price', 'quantity_sold', 'SALE_AMOUNT', 'MONTH',\n       'BRAND', 'CAPACITY'],\n      dtype='object')"
     },
     "execution_count": 23,
     "metadata": {},
     "output_type": "execute_result"
    }
   ],
   "source": [
    "df.columns"
   ]
  },
  {
   "cell_type": "markdown",
   "id": "b4cdac90",
   "metadata": {},
   "source": [
    "### Create new features"
   ]
  },
  {
   "cell_type": "code",
   "execution_count": 24,
   "id": "f74260d1",
   "metadata": {
    "ExecuteTime": {
     "start_time": "2023-04-26T19:36:32.988101Z",
     "end_time": "2023-04-26T19:36:33.036551Z"
    }
   },
   "outputs": [],
   "source": [
    "sales_by_shop = df.groupby('shop_id')['SALE_AMOUNT'].sum().reset_index()\n",
    "# sales_by_shop"
   ]
  },
  {
   "cell_type": "code",
   "execution_count": 25,
   "id": "250e98dd",
   "metadata": {
    "ExecuteTime": {
     "start_time": "2023-04-26T19:36:33.052144Z",
     "end_time": "2023-04-26T19:36:33.115070Z"
    }
   },
   "outputs": [
    {
     "data": {
      "text/plain": "     shop_id  shop_area_sq_ft shop_profile  SALE_AMOUNT\n0    SHOP047              528     Moderate       842960\n1    SHOP009              676         High      1970870\n2    SHOP083              676          Low      1691985\n3    SHOP117              676          Low      2326200\n4    SHOP042              676          Low      1340215\n..       ...              ...          ...          ...\n119  SHOP087              527          NaN      1128935\n120  SHOP050              411          NaN      2399125\n121  SHOP061              699          NaN      2110800\n122  SHOP056              597          NaN      3024315\n123  SHOP070              676          NaN      1325070\n\n[124 rows x 4 columns]",
      "text/html": "<div>\n<style scoped>\n    .dataframe tbody tr th:only-of-type {\n        vertical-align: middle;\n    }\n\n    .dataframe tbody tr th {\n        vertical-align: top;\n    }\n\n    .dataframe thead th {\n        text-align: right;\n    }\n</style>\n<table border=\"1\" class=\"dataframe\">\n  <thead>\n    <tr style=\"text-align: right;\">\n      <th></th>\n      <th>shop_id</th>\n      <th>shop_area_sq_ft</th>\n      <th>shop_profile</th>\n      <th>SALE_AMOUNT</th>\n    </tr>\n  </thead>\n  <tbody>\n    <tr>\n      <th>0</th>\n      <td>SHOP047</td>\n      <td>528</td>\n      <td>Moderate</td>\n      <td>842960</td>\n    </tr>\n    <tr>\n      <th>1</th>\n      <td>SHOP009</td>\n      <td>676</td>\n      <td>High</td>\n      <td>1970870</td>\n    </tr>\n    <tr>\n      <th>2</th>\n      <td>SHOP083</td>\n      <td>676</td>\n      <td>Low</td>\n      <td>1691985</td>\n    </tr>\n    <tr>\n      <th>3</th>\n      <td>SHOP117</td>\n      <td>676</td>\n      <td>Low</td>\n      <td>2326200</td>\n    </tr>\n    <tr>\n      <th>4</th>\n      <td>SHOP042</td>\n      <td>676</td>\n      <td>Low</td>\n      <td>1340215</td>\n    </tr>\n    <tr>\n      <th>...</th>\n      <td>...</td>\n      <td>...</td>\n      <td>...</td>\n      <td>...</td>\n    </tr>\n    <tr>\n      <th>119</th>\n      <td>SHOP087</td>\n      <td>527</td>\n      <td>NaN</td>\n      <td>1128935</td>\n    </tr>\n    <tr>\n      <th>120</th>\n      <td>SHOP050</td>\n      <td>411</td>\n      <td>NaN</td>\n      <td>2399125</td>\n    </tr>\n    <tr>\n      <th>121</th>\n      <td>SHOP061</td>\n      <td>699</td>\n      <td>NaN</td>\n      <td>2110800</td>\n    </tr>\n    <tr>\n      <th>122</th>\n      <td>SHOP056</td>\n      <td>597</td>\n      <td>NaN</td>\n      <td>3024315</td>\n    </tr>\n    <tr>\n      <th>123</th>\n      <td>SHOP070</td>\n      <td>676</td>\n      <td>NaN</td>\n      <td>1325070</td>\n    </tr>\n  </tbody>\n</table>\n<p>124 rows × 4 columns</p>\n</div>"
     },
     "execution_count": 25,
     "metadata": {},
     "output_type": "execute_result"
    }
   ],
   "source": [
    "df1 = df1.merge(sales_by_shop, how='left', on='shop_id')\n",
    "df1"
   ]
  },
  {
   "cell_type": "code",
   "execution_count": 26,
   "id": "75339481",
   "metadata": {
    "ExecuteTime": {
     "start_time": "2023-04-26T19:36:33.067764Z",
     "end_time": "2023-04-26T19:36:33.177619Z"
    }
   },
   "outputs": [
    {
     "data": {
      "text/plain": "     shop_id  shop_area_sq_ft shop_profile  SALE_AMOUNT  sale_amount_per_sqft\n0    SHOP047              528     Moderate       842960           1596.515152\n1    SHOP009              676         High      1970870           2915.488166\n2    SHOP083              676          Low      1691985           2502.936391\n3    SHOP117              676          Low      2326200           3441.124260\n4    SHOP042              676          Low      1340215           1982.566568\n..       ...              ...          ...          ...                   ...\n119  SHOP087              527          NaN      1128935           2142.191651\n120  SHOP050              411          NaN      2399125           5837.287105\n121  SHOP061              699          NaN      2110800           3019.742489\n122  SHOP056              597          NaN      3024315           5065.854271\n123  SHOP070              676          NaN      1325070           1960.162722\n\n[124 rows x 5 columns]",
      "text/html": "<div>\n<style scoped>\n    .dataframe tbody tr th:only-of-type {\n        vertical-align: middle;\n    }\n\n    .dataframe tbody tr th {\n        vertical-align: top;\n    }\n\n    .dataframe thead th {\n        text-align: right;\n    }\n</style>\n<table border=\"1\" class=\"dataframe\">\n  <thead>\n    <tr style=\"text-align: right;\">\n      <th></th>\n      <th>shop_id</th>\n      <th>shop_area_sq_ft</th>\n      <th>shop_profile</th>\n      <th>SALE_AMOUNT</th>\n      <th>sale_amount_per_sqft</th>\n    </tr>\n  </thead>\n  <tbody>\n    <tr>\n      <th>0</th>\n      <td>SHOP047</td>\n      <td>528</td>\n      <td>Moderate</td>\n      <td>842960</td>\n      <td>1596.515152</td>\n    </tr>\n    <tr>\n      <th>1</th>\n      <td>SHOP009</td>\n      <td>676</td>\n      <td>High</td>\n      <td>1970870</td>\n      <td>2915.488166</td>\n    </tr>\n    <tr>\n      <th>2</th>\n      <td>SHOP083</td>\n      <td>676</td>\n      <td>Low</td>\n      <td>1691985</td>\n      <td>2502.936391</td>\n    </tr>\n    <tr>\n      <th>3</th>\n      <td>SHOP117</td>\n      <td>676</td>\n      <td>Low</td>\n      <td>2326200</td>\n      <td>3441.124260</td>\n    </tr>\n    <tr>\n      <th>4</th>\n      <td>SHOP042</td>\n      <td>676</td>\n      <td>Low</td>\n      <td>1340215</td>\n      <td>1982.566568</td>\n    </tr>\n    <tr>\n      <th>...</th>\n      <td>...</td>\n      <td>...</td>\n      <td>...</td>\n      <td>...</td>\n      <td>...</td>\n    </tr>\n    <tr>\n      <th>119</th>\n      <td>SHOP087</td>\n      <td>527</td>\n      <td>NaN</td>\n      <td>1128935</td>\n      <td>2142.191651</td>\n    </tr>\n    <tr>\n      <th>120</th>\n      <td>SHOP050</td>\n      <td>411</td>\n      <td>NaN</td>\n      <td>2399125</td>\n      <td>5837.287105</td>\n    </tr>\n    <tr>\n      <th>121</th>\n      <td>SHOP061</td>\n      <td>699</td>\n      <td>NaN</td>\n      <td>2110800</td>\n      <td>3019.742489</td>\n    </tr>\n    <tr>\n      <th>122</th>\n      <td>SHOP056</td>\n      <td>597</td>\n      <td>NaN</td>\n      <td>3024315</td>\n      <td>5065.854271</td>\n    </tr>\n    <tr>\n      <th>123</th>\n      <td>SHOP070</td>\n      <td>676</td>\n      <td>NaN</td>\n      <td>1325070</td>\n      <td>1960.162722</td>\n    </tr>\n  </tbody>\n</table>\n<p>124 rows × 5 columns</p>\n</div>"
     },
     "execution_count": 26,
     "metadata": {},
     "output_type": "execute_result"
    }
   ],
   "source": [
    "df1['sale_amount_per_sqft'] = df1['SALE_AMOUNT'] / df1['shop_area_sq_ft']\n",
    "df1"
   ]
  },
  {
   "cell_type": "code",
   "execution_count": 27,
   "id": "3af40fdc",
   "metadata": {
    "ExecuteTime": {
     "start_time": "2023-04-26T19:36:33.115070Z",
     "end_time": "2023-04-26T19:36:33.381692Z"
    }
   },
   "outputs": [
    {
     "data": {
      "text/plain": "     shop_id  num_unique_customers\n0    SHOP001                  1106\n1    SHOP002                  2546\n2    SHOP003                  2038\n3    SHOP004                  1724\n4    SHOP005                  2189\n..       ...                   ...\n119  SHOP123                  1146\n120  SHOP124                  2251\n121  SHOP125                   886\n122  SHOP126                  1742\n123  SHOP127                  2305\n\n[124 rows x 2 columns]",
      "text/html": "<div>\n<style scoped>\n    .dataframe tbody tr th:only-of-type {\n        vertical-align: middle;\n    }\n\n    .dataframe tbody tr th {\n        vertical-align: top;\n    }\n\n    .dataframe thead th {\n        text-align: right;\n    }\n</style>\n<table border=\"1\" class=\"dataframe\">\n  <thead>\n    <tr style=\"text-align: right;\">\n      <th></th>\n      <th>shop_id</th>\n      <th>num_unique_customers</th>\n    </tr>\n  </thead>\n  <tbody>\n    <tr>\n      <th>0</th>\n      <td>SHOP001</td>\n      <td>1106</td>\n    </tr>\n    <tr>\n      <th>1</th>\n      <td>SHOP002</td>\n      <td>2546</td>\n    </tr>\n    <tr>\n      <th>2</th>\n      <td>SHOP003</td>\n      <td>2038</td>\n    </tr>\n    <tr>\n      <th>3</th>\n      <td>SHOP004</td>\n      <td>1724</td>\n    </tr>\n    <tr>\n      <th>4</th>\n      <td>SHOP005</td>\n      <td>2189</td>\n    </tr>\n    <tr>\n      <th>...</th>\n      <td>...</td>\n      <td>...</td>\n    </tr>\n    <tr>\n      <th>119</th>\n      <td>SHOP123</td>\n      <td>1146</td>\n    </tr>\n    <tr>\n      <th>120</th>\n      <td>SHOP124</td>\n      <td>2251</td>\n    </tr>\n    <tr>\n      <th>121</th>\n      <td>SHOP125</td>\n      <td>886</td>\n    </tr>\n    <tr>\n      <th>122</th>\n      <td>SHOP126</td>\n      <td>1742</td>\n    </tr>\n    <tr>\n      <th>123</th>\n      <td>SHOP127</td>\n      <td>2305</td>\n    </tr>\n  </tbody>\n</table>\n<p>124 rows × 2 columns</p>\n</div>"
     },
     "execution_count": 27,
     "metadata": {},
     "output_type": "execute_result"
    }
   ],
   "source": [
    "customers_per_shop = HistTrans.groupby('shop_id')['customer_id'].nunique().reset_index(name='num_unique_customers')\n",
    "customers_per_shop"
   ]
  },
  {
   "cell_type": "code",
   "execution_count": 28,
   "id": "13b2a43c",
   "metadata": {
    "scrolled": true,
    "ExecuteTime": {
     "start_time": "2023-04-26T19:36:33.399005Z",
     "end_time": "2023-04-26T19:36:33.475090Z"
    }
   },
   "outputs": [
    {
     "data": {
      "text/plain": "     shop_id  shop_area_sq_ft shop_profile  SALE_AMOUNT  sale_amount_per_sqft  \\\n0    SHOP047              528     Moderate       842960           1596.515152   \n1    SHOP009              676         High      1970870           2915.488166   \n2    SHOP083              676          Low      1691985           2502.936391   \n3    SHOP117              676          Low      2326200           3441.124260   \n4    SHOP042              676          Low      1340215           1982.566568   \n..       ...              ...          ...          ...                   ...   \n119  SHOP087              527          NaN      1128935           2142.191651   \n120  SHOP050              411          NaN      2399125           5837.287105   \n121  SHOP061              699          NaN      2110800           3019.742489   \n122  SHOP056              597          NaN      3024315           5065.854271   \n123  SHOP070              676          NaN      1325070           1960.162722   \n\n     num_unique_customers  \n0                     920  \n1                    2476  \n2                    1876  \n3                    2015  \n4                    1826  \n..                    ...  \n119                  1061  \n120                  1765  \n121                  1725  \n122                  2810  \n123                  1407  \n\n[124 rows x 6 columns]",
      "text/html": "<div>\n<style scoped>\n    .dataframe tbody tr th:only-of-type {\n        vertical-align: middle;\n    }\n\n    .dataframe tbody tr th {\n        vertical-align: top;\n    }\n\n    .dataframe thead th {\n        text-align: right;\n    }\n</style>\n<table border=\"1\" class=\"dataframe\">\n  <thead>\n    <tr style=\"text-align: right;\">\n      <th></th>\n      <th>shop_id</th>\n      <th>shop_area_sq_ft</th>\n      <th>shop_profile</th>\n      <th>SALE_AMOUNT</th>\n      <th>sale_amount_per_sqft</th>\n      <th>num_unique_customers</th>\n    </tr>\n  </thead>\n  <tbody>\n    <tr>\n      <th>0</th>\n      <td>SHOP047</td>\n      <td>528</td>\n      <td>Moderate</td>\n      <td>842960</td>\n      <td>1596.515152</td>\n      <td>920</td>\n    </tr>\n    <tr>\n      <th>1</th>\n      <td>SHOP009</td>\n      <td>676</td>\n      <td>High</td>\n      <td>1970870</td>\n      <td>2915.488166</td>\n      <td>2476</td>\n    </tr>\n    <tr>\n      <th>2</th>\n      <td>SHOP083</td>\n      <td>676</td>\n      <td>Low</td>\n      <td>1691985</td>\n      <td>2502.936391</td>\n      <td>1876</td>\n    </tr>\n    <tr>\n      <th>3</th>\n      <td>SHOP117</td>\n      <td>676</td>\n      <td>Low</td>\n      <td>2326200</td>\n      <td>3441.124260</td>\n      <td>2015</td>\n    </tr>\n    <tr>\n      <th>4</th>\n      <td>SHOP042</td>\n      <td>676</td>\n      <td>Low</td>\n      <td>1340215</td>\n      <td>1982.566568</td>\n      <td>1826</td>\n    </tr>\n    <tr>\n      <th>...</th>\n      <td>...</td>\n      <td>...</td>\n      <td>...</td>\n      <td>...</td>\n      <td>...</td>\n      <td>...</td>\n    </tr>\n    <tr>\n      <th>119</th>\n      <td>SHOP087</td>\n      <td>527</td>\n      <td>NaN</td>\n      <td>1128935</td>\n      <td>2142.191651</td>\n      <td>1061</td>\n    </tr>\n    <tr>\n      <th>120</th>\n      <td>SHOP050</td>\n      <td>411</td>\n      <td>NaN</td>\n      <td>2399125</td>\n      <td>5837.287105</td>\n      <td>1765</td>\n    </tr>\n    <tr>\n      <th>121</th>\n      <td>SHOP061</td>\n      <td>699</td>\n      <td>NaN</td>\n      <td>2110800</td>\n      <td>3019.742489</td>\n      <td>1725</td>\n    </tr>\n    <tr>\n      <th>122</th>\n      <td>SHOP056</td>\n      <td>597</td>\n      <td>NaN</td>\n      <td>3024315</td>\n      <td>5065.854271</td>\n      <td>2810</td>\n    </tr>\n    <tr>\n      <th>123</th>\n      <td>SHOP070</td>\n      <td>676</td>\n      <td>NaN</td>\n      <td>1325070</td>\n      <td>1960.162722</td>\n      <td>1407</td>\n    </tr>\n  </tbody>\n</table>\n<p>124 rows × 6 columns</p>\n</div>"
     },
     "execution_count": 28,
     "metadata": {},
     "output_type": "execute_result"
    }
   ],
   "source": [
    "df1 = df1.merge(customers_per_shop, how='left', on='shop_id')\n",
    "df1"
   ]
  },
  {
   "cell_type": "code",
   "execution_count": 29,
   "id": "2924b1e9",
   "metadata": {
    "ExecuteTime": {
     "start_time": "2023-04-26T19:36:33.412575Z",
     "end_time": "2023-04-26T19:36:33.694951Z"
    }
   },
   "outputs": [
    {
     "data": {
      "text/plain": "     shop_id  num_unique_items\n0    SHOP001                35\n1    SHOP002                35\n2    SHOP003                35\n3    SHOP004                35\n4    SHOP005                36\n..       ...               ...\n119  SHOP123                36\n120  SHOP124                35\n121  SHOP125                36\n122  SHOP126                31\n123  SHOP127                36\n\n[124 rows x 2 columns]",
      "text/html": "<div>\n<style scoped>\n    .dataframe tbody tr th:only-of-type {\n        vertical-align: middle;\n    }\n\n    .dataframe tbody tr th {\n        vertical-align: top;\n    }\n\n    .dataframe thead th {\n        text-align: right;\n    }\n</style>\n<table border=\"1\" class=\"dataframe\">\n  <thead>\n    <tr style=\"text-align: right;\">\n      <th></th>\n      <th>shop_id</th>\n      <th>num_unique_items</th>\n    </tr>\n  </thead>\n  <tbody>\n    <tr>\n      <th>0</th>\n      <td>SHOP001</td>\n      <td>35</td>\n    </tr>\n    <tr>\n      <th>1</th>\n      <td>SHOP002</td>\n      <td>35</td>\n    </tr>\n    <tr>\n      <th>2</th>\n      <td>SHOP003</td>\n      <td>35</td>\n    </tr>\n    <tr>\n      <th>3</th>\n      <td>SHOP004</td>\n      <td>35</td>\n    </tr>\n    <tr>\n      <th>4</th>\n      <td>SHOP005</td>\n      <td>36</td>\n    </tr>\n    <tr>\n      <th>...</th>\n      <td>...</td>\n      <td>...</td>\n    </tr>\n    <tr>\n      <th>119</th>\n      <td>SHOP123</td>\n      <td>36</td>\n    </tr>\n    <tr>\n      <th>120</th>\n      <td>SHOP124</td>\n      <td>35</td>\n    </tr>\n    <tr>\n      <th>121</th>\n      <td>SHOP125</td>\n      <td>36</td>\n    </tr>\n    <tr>\n      <th>122</th>\n      <td>SHOP126</td>\n      <td>31</td>\n    </tr>\n    <tr>\n      <th>123</th>\n      <td>SHOP127</td>\n      <td>36</td>\n    </tr>\n  </tbody>\n</table>\n<p>124 rows × 2 columns</p>\n</div>"
     },
     "execution_count": 29,
     "metadata": {},
     "output_type": "execute_result"
    }
   ],
   "source": [
    "item_per_shop = HistTrans.groupby('shop_id')['item_description'].nunique().reset_index(name='num_unique_items')\n",
    "item_per_shop"
   ]
  },
  {
   "cell_type": "code",
   "execution_count": 30,
   "id": "bb28a5e3",
   "metadata": {
    "scrolled": true,
    "ExecuteTime": {
     "start_time": "2023-04-26T19:36:33.710969Z",
     "end_time": "2023-04-26T19:36:33.852014Z"
    }
   },
   "outputs": [
    {
     "data": {
      "text/plain": "     shop_id  num_transactions\n0    SHOP001              1980\n1    SHOP002              4721\n2    SHOP003              3597\n3    SHOP004              3392\n4    SHOP005              4138\n..       ...               ...\n119  SHOP123              2035\n120  SHOP124              4366\n121  SHOP125              1838\n122  SHOP126              3141\n123  SHOP127              4069\n\n[124 rows x 2 columns]",
      "text/html": "<div>\n<style scoped>\n    .dataframe tbody tr th:only-of-type {\n        vertical-align: middle;\n    }\n\n    .dataframe tbody tr th {\n        vertical-align: top;\n    }\n\n    .dataframe thead th {\n        text-align: right;\n    }\n</style>\n<table border=\"1\" class=\"dataframe\">\n  <thead>\n    <tr style=\"text-align: right;\">\n      <th></th>\n      <th>shop_id</th>\n      <th>num_transactions</th>\n    </tr>\n  </thead>\n  <tbody>\n    <tr>\n      <th>0</th>\n      <td>SHOP001</td>\n      <td>1980</td>\n    </tr>\n    <tr>\n      <th>1</th>\n      <td>SHOP002</td>\n      <td>4721</td>\n    </tr>\n    <tr>\n      <th>2</th>\n      <td>SHOP003</td>\n      <td>3597</td>\n    </tr>\n    <tr>\n      <th>3</th>\n      <td>SHOP004</td>\n      <td>3392</td>\n    </tr>\n    <tr>\n      <th>4</th>\n      <td>SHOP005</td>\n      <td>4138</td>\n    </tr>\n    <tr>\n      <th>...</th>\n      <td>...</td>\n      <td>...</td>\n    </tr>\n    <tr>\n      <th>119</th>\n      <td>SHOP123</td>\n      <td>2035</td>\n    </tr>\n    <tr>\n      <th>120</th>\n      <td>SHOP124</td>\n      <td>4366</td>\n    </tr>\n    <tr>\n      <th>121</th>\n      <td>SHOP125</td>\n      <td>1838</td>\n    </tr>\n    <tr>\n      <th>122</th>\n      <td>SHOP126</td>\n      <td>3141</td>\n    </tr>\n    <tr>\n      <th>123</th>\n      <td>SHOP127</td>\n      <td>4069</td>\n    </tr>\n  </tbody>\n</table>\n<p>124 rows × 2 columns</p>\n</div>"
     },
     "execution_count": 30,
     "metadata": {},
     "output_type": "execute_result"
    }
   ],
   "source": [
    "num_transactions_per_shop = HistTrans.groupby('shop_id').size().reset_index(name='num_transactions')\n",
    "num_transactions_per_shop"
   ]
  },
  {
   "cell_type": "code",
   "execution_count": 31,
   "id": "c47db97c",
   "metadata": {
    "scrolled": true,
    "ExecuteTime": {
     "start_time": "2023-04-26T19:36:33.742230Z",
     "end_time": "2023-04-26T19:36:33.883261Z"
    }
   },
   "outputs": [
    {
     "data": {
      "text/plain": "     shop_id  shop_area_sq_ft shop_profile  SALE_AMOUNT  sale_amount_per_sqft  \\\n0    SHOP047              528     Moderate       842960           1596.515152   \n1    SHOP009              676         High      1970870           2915.488166   \n2    SHOP083              676          Low      1691985           2502.936391   \n3    SHOP117              676          Low      2326200           3441.124260   \n4    SHOP042              676          Low      1340215           1982.566568   \n..       ...              ...          ...          ...                   ...   \n119  SHOP087              527          NaN      1128935           2142.191651   \n120  SHOP050              411          NaN      2399125           5837.287105   \n121  SHOP061              699          NaN      2110800           3019.742489   \n122  SHOP056              597          NaN      3024315           5065.854271   \n123  SHOP070              676          NaN      1325070           1960.162722   \n\n     num_unique_customers  num_transactions  \n0                     920              1662  \n1                    2476              4517  \n2                    1876              3550  \n3                    2015              4015  \n4                    1826              3219  \n..                    ...               ...  \n119                  1061              1991  \n120                  1765              3875  \n121                  1725              3072  \n122                  2810              5663  \n123                  1407              2736  \n\n[124 rows x 7 columns]",
      "text/html": "<div>\n<style scoped>\n    .dataframe tbody tr th:only-of-type {\n        vertical-align: middle;\n    }\n\n    .dataframe tbody tr th {\n        vertical-align: top;\n    }\n\n    .dataframe thead th {\n        text-align: right;\n    }\n</style>\n<table border=\"1\" class=\"dataframe\">\n  <thead>\n    <tr style=\"text-align: right;\">\n      <th></th>\n      <th>shop_id</th>\n      <th>shop_area_sq_ft</th>\n      <th>shop_profile</th>\n      <th>SALE_AMOUNT</th>\n      <th>sale_amount_per_sqft</th>\n      <th>num_unique_customers</th>\n      <th>num_transactions</th>\n    </tr>\n  </thead>\n  <tbody>\n    <tr>\n      <th>0</th>\n      <td>SHOP047</td>\n      <td>528</td>\n      <td>Moderate</td>\n      <td>842960</td>\n      <td>1596.515152</td>\n      <td>920</td>\n      <td>1662</td>\n    </tr>\n    <tr>\n      <th>1</th>\n      <td>SHOP009</td>\n      <td>676</td>\n      <td>High</td>\n      <td>1970870</td>\n      <td>2915.488166</td>\n      <td>2476</td>\n      <td>4517</td>\n    </tr>\n    <tr>\n      <th>2</th>\n      <td>SHOP083</td>\n      <td>676</td>\n      <td>Low</td>\n      <td>1691985</td>\n      <td>2502.936391</td>\n      <td>1876</td>\n      <td>3550</td>\n    </tr>\n    <tr>\n      <th>3</th>\n      <td>SHOP117</td>\n      <td>676</td>\n      <td>Low</td>\n      <td>2326200</td>\n      <td>3441.124260</td>\n      <td>2015</td>\n      <td>4015</td>\n    </tr>\n    <tr>\n      <th>4</th>\n      <td>SHOP042</td>\n      <td>676</td>\n      <td>Low</td>\n      <td>1340215</td>\n      <td>1982.566568</td>\n      <td>1826</td>\n      <td>3219</td>\n    </tr>\n    <tr>\n      <th>...</th>\n      <td>...</td>\n      <td>...</td>\n      <td>...</td>\n      <td>...</td>\n      <td>...</td>\n      <td>...</td>\n      <td>...</td>\n    </tr>\n    <tr>\n      <th>119</th>\n      <td>SHOP087</td>\n      <td>527</td>\n      <td>NaN</td>\n      <td>1128935</td>\n      <td>2142.191651</td>\n      <td>1061</td>\n      <td>1991</td>\n    </tr>\n    <tr>\n      <th>120</th>\n      <td>SHOP050</td>\n      <td>411</td>\n      <td>NaN</td>\n      <td>2399125</td>\n      <td>5837.287105</td>\n      <td>1765</td>\n      <td>3875</td>\n    </tr>\n    <tr>\n      <th>121</th>\n      <td>SHOP061</td>\n      <td>699</td>\n      <td>NaN</td>\n      <td>2110800</td>\n      <td>3019.742489</td>\n      <td>1725</td>\n      <td>3072</td>\n    </tr>\n    <tr>\n      <th>122</th>\n      <td>SHOP056</td>\n      <td>597</td>\n      <td>NaN</td>\n      <td>3024315</td>\n      <td>5065.854271</td>\n      <td>2810</td>\n      <td>5663</td>\n    </tr>\n    <tr>\n      <th>123</th>\n      <td>SHOP070</td>\n      <td>676</td>\n      <td>NaN</td>\n      <td>1325070</td>\n      <td>1960.162722</td>\n      <td>1407</td>\n      <td>2736</td>\n    </tr>\n  </tbody>\n</table>\n<p>124 rows × 7 columns</p>\n</div>"
     },
     "execution_count": 31,
     "metadata": {},
     "output_type": "execute_result"
    }
   ],
   "source": [
    "df1 = df1.merge(num_transactions_per_shop, how='left', on='shop_id')\n",
    "df1"
   ]
  },
  {
   "cell_type": "code",
   "execution_count": 32,
   "id": "f94400f2",
   "metadata": {
    "scrolled": true,
    "ExecuteTime": {
     "start_time": "2023-04-26T19:36:33.773481Z",
     "end_time": "2023-04-26T19:36:33.883261Z"
    }
   },
   "outputs": [
    {
     "data": {
      "text/plain": "     shop_id  shop_area_sq_ft shop_profile  SALE_AMOUNT  sale_amount_per_sqft  \\\n0    SHOP047              528     Moderate       842960           1596.515152   \n1    SHOP009              676         High      1970870           2915.488166   \n2    SHOP083              676          Low      1691985           2502.936391   \n3    SHOP117              676          Low      2326200           3441.124260   \n4    SHOP042              676          Low      1340215           1982.566568   \n..       ...              ...          ...          ...                   ...   \n119  SHOP087              527          NaN      1128935           2142.191651   \n120  SHOP050              411          NaN      2399125           5837.287105   \n121  SHOP061              699          NaN      2110800           3019.742489   \n122  SHOP056              597          NaN      3024315           5065.854271   \n123  SHOP070              676          NaN      1325070           1960.162722   \n\n     num_unique_customers  num_transactions  sales_per_customer  \n0                     920              1662          507.196149  \n1                    2476              4517          436.322781  \n2                    1876              3550          476.615493  \n3                    2015              4015          579.377335  \n4                    1826              3219          416.345138  \n..                    ...               ...                 ...  \n119                  1061              1991          567.019086  \n120                  1765              3875          619.129032  \n121                  1725              3072          687.109375  \n122                  2810              5663          534.048208  \n123                  1407              2736          484.309211  \n\n[124 rows x 8 columns]",
      "text/html": "<div>\n<style scoped>\n    .dataframe tbody tr th:only-of-type {\n        vertical-align: middle;\n    }\n\n    .dataframe tbody tr th {\n        vertical-align: top;\n    }\n\n    .dataframe thead th {\n        text-align: right;\n    }\n</style>\n<table border=\"1\" class=\"dataframe\">\n  <thead>\n    <tr style=\"text-align: right;\">\n      <th></th>\n      <th>shop_id</th>\n      <th>shop_area_sq_ft</th>\n      <th>shop_profile</th>\n      <th>SALE_AMOUNT</th>\n      <th>sale_amount_per_sqft</th>\n      <th>num_unique_customers</th>\n      <th>num_transactions</th>\n      <th>sales_per_customer</th>\n    </tr>\n  </thead>\n  <tbody>\n    <tr>\n      <th>0</th>\n      <td>SHOP047</td>\n      <td>528</td>\n      <td>Moderate</td>\n      <td>842960</td>\n      <td>1596.515152</td>\n      <td>920</td>\n      <td>1662</td>\n      <td>507.196149</td>\n    </tr>\n    <tr>\n      <th>1</th>\n      <td>SHOP009</td>\n      <td>676</td>\n      <td>High</td>\n      <td>1970870</td>\n      <td>2915.488166</td>\n      <td>2476</td>\n      <td>4517</td>\n      <td>436.322781</td>\n    </tr>\n    <tr>\n      <th>2</th>\n      <td>SHOP083</td>\n      <td>676</td>\n      <td>Low</td>\n      <td>1691985</td>\n      <td>2502.936391</td>\n      <td>1876</td>\n      <td>3550</td>\n      <td>476.615493</td>\n    </tr>\n    <tr>\n      <th>3</th>\n      <td>SHOP117</td>\n      <td>676</td>\n      <td>Low</td>\n      <td>2326200</td>\n      <td>3441.124260</td>\n      <td>2015</td>\n      <td>4015</td>\n      <td>579.377335</td>\n    </tr>\n    <tr>\n      <th>4</th>\n      <td>SHOP042</td>\n      <td>676</td>\n      <td>Low</td>\n      <td>1340215</td>\n      <td>1982.566568</td>\n      <td>1826</td>\n      <td>3219</td>\n      <td>416.345138</td>\n    </tr>\n    <tr>\n      <th>...</th>\n      <td>...</td>\n      <td>...</td>\n      <td>...</td>\n      <td>...</td>\n      <td>...</td>\n      <td>...</td>\n      <td>...</td>\n      <td>...</td>\n    </tr>\n    <tr>\n      <th>119</th>\n      <td>SHOP087</td>\n      <td>527</td>\n      <td>NaN</td>\n      <td>1128935</td>\n      <td>2142.191651</td>\n      <td>1061</td>\n      <td>1991</td>\n      <td>567.019086</td>\n    </tr>\n    <tr>\n      <th>120</th>\n      <td>SHOP050</td>\n      <td>411</td>\n      <td>NaN</td>\n      <td>2399125</td>\n      <td>5837.287105</td>\n      <td>1765</td>\n      <td>3875</td>\n      <td>619.129032</td>\n    </tr>\n    <tr>\n      <th>121</th>\n      <td>SHOP061</td>\n      <td>699</td>\n      <td>NaN</td>\n      <td>2110800</td>\n      <td>3019.742489</td>\n      <td>1725</td>\n      <td>3072</td>\n      <td>687.109375</td>\n    </tr>\n    <tr>\n      <th>122</th>\n      <td>SHOP056</td>\n      <td>597</td>\n      <td>NaN</td>\n      <td>3024315</td>\n      <td>5065.854271</td>\n      <td>2810</td>\n      <td>5663</td>\n      <td>534.048208</td>\n    </tr>\n    <tr>\n      <th>123</th>\n      <td>SHOP070</td>\n      <td>676</td>\n      <td>NaN</td>\n      <td>1325070</td>\n      <td>1960.162722</td>\n      <td>1407</td>\n      <td>2736</td>\n      <td>484.309211</td>\n    </tr>\n  </tbody>\n</table>\n<p>124 rows × 8 columns</p>\n</div>"
     },
     "execution_count": 32,
     "metadata": {},
     "output_type": "execute_result"
    }
   ],
   "source": [
    "df1['sales_per_customer'] = df1['SALE_AMOUNT']/df1['num_transactions']\n",
    "df1"
   ]
  },
  {
   "cell_type": "code",
   "execution_count": 32,
   "id": "63bc90c7",
   "metadata": {
    "ExecuteTime": {
     "start_time": "2023-04-26T19:36:33.807239Z",
     "end_time": "2023-04-26T19:36:33.907400Z"
    }
   },
   "outputs": [],
   "source": []
  },
  {
   "cell_type": "code",
   "execution_count": 32,
   "id": "d800de8e",
   "metadata": {
    "ExecuteTime": {
     "start_time": "2023-04-26T19:36:33.820749Z",
     "end_time": "2023-04-26T19:36:34.064111Z"
    }
   },
   "outputs": [],
   "source": []
  },
  {
   "cell_type": "markdown",
   "id": "f22a686b",
   "metadata": {},
   "source": [
    "### Check NaN values"
   ]
  },
  {
   "cell_type": "code",
   "execution_count": 33,
   "id": "dc378ee3",
   "metadata": {
    "ExecuteTime": {
     "start_time": "2023-04-26T19:36:33.836384Z",
     "end_time": "2023-04-26T19:36:34.064111Z"
    }
   },
   "outputs": [
    {
     "data": {
      "text/plain": "124"
     },
     "execution_count": 33,
     "metadata": {},
     "output_type": "execute_result"
    }
   ],
   "source": [
    "len(df1['shop_id'].unique().tolist())"
   ]
  },
  {
   "cell_type": "markdown",
   "id": "c93159cf",
   "metadata": {},
   "source": [
    "### Drop unwanted Features"
   ]
  },
  {
   "cell_type": "code",
   "execution_count": 34,
   "id": "dad99685",
   "metadata": {
    "ExecuteTime": {
     "start_time": "2023-04-26T19:36:33.852014Z",
     "end_time": "2023-04-26T19:36:34.107873Z"
    }
   },
   "outputs": [],
   "source": [
    "df.drop(['item_description', 'transaction_date','invoice_id','customer_id'], axis=1, inplace=True)"
   ]
  },
  {
   "cell_type": "code",
   "execution_count": 34,
   "id": "37f7fa42",
   "metadata": {
    "ExecuteTime": {
     "start_time": "2023-04-26T19:36:33.914917Z",
     "end_time": "2023-04-26T19:36:34.208111Z"
    }
   },
   "outputs": [],
   "source": []
  },
  {
   "cell_type": "code",
   "execution_count": 35,
   "id": "2b724e08",
   "metadata": {
    "ExecuteTime": {
     "start_time": "2023-04-26T19:36:33.930561Z",
     "end_time": "2023-04-26T19:36:34.299772Z"
    }
   },
   "outputs": [
    {
     "data": {
      "text/plain": "Index(['shop_id', 'shop_area_sq_ft', 'shop_profile', 'SALE_AMOUNT',\n       'sale_amount_per_sqft', 'num_unique_customers', 'num_transactions',\n       'sales_per_customer'],\n      dtype='object')"
     },
     "execution_count": 35,
     "metadata": {},
     "output_type": "execute_result"
    }
   ],
   "source": [
    "df1.columns"
   ]
  },
  {
   "cell_type": "code",
   "execution_count": 36,
   "id": "c82e3369",
   "metadata": {
    "ExecuteTime": {
     "start_time": "2023-04-26T19:36:33.946183Z",
     "end_time": "2023-04-26T19:36:34.425629Z"
    }
   },
   "outputs": [],
   "source": [
    "cols = ['shop_area_sq_ft','SALE_AMOUNT','sale_amount_per_sqft','num_unique_customers','num_transactions','sales_per_customer','num_unique_items']"
   ]
  },
  {
   "cell_type": "markdown",
   "id": "d1abfb82",
   "metadata": {},
   "source": [
    "### Check outliers"
   ]
  },
  {
   "cell_type": "code",
   "execution_count": 37,
   "id": "fe20e908",
   "metadata": {
    "collapsed": true,
    "ExecuteTime": {
     "start_time": "2023-04-26T19:36:33.961809Z",
     "end_time": "2023-04-26T19:36:34.456880Z"
    }
   },
   "outputs": [],
   "source": [
    "# # assume the DataFrame is called df\n",
    "# for col in cols:\n",
    "#     sns.boxplot(x=df1[col])\n",
    "#     plt.show()"
   ]
  },
  {
   "cell_type": "code",
   "execution_count": 38,
   "id": "5efbe57f",
   "metadata": {
    "ExecuteTime": {
     "start_time": "2023-04-26T19:36:33.977440Z",
     "end_time": "2023-04-26T19:36:34.535734Z"
    }
   },
   "outputs": [],
   "source": [
    "# df1.columns"
   ]
  },
  {
   "cell_type": "code",
   "execution_count": 39,
   "id": "3164ad6a",
   "metadata": {
    "ExecuteTime": {
     "start_time": "2023-04-26T19:36:34.007701Z",
     "end_time": "2023-04-26T19:36:34.535734Z"
    }
   },
   "outputs": [],
   "source": [
    "# out_df = df1.drop(columns=[\"shop_id\",'shop_profile'])"
   ]
  },
  {
   "cell_type": "code",
   "execution_count": 40,
   "id": "a06d2583",
   "metadata": {
    "ExecuteTime": {
     "start_time": "2023-04-26T19:36:34.017215Z",
     "end_time": "2023-04-26T19:36:34.535734Z"
    }
   },
   "outputs": [],
   "source": [
    "# # Seperate normally distributed columns and skewed columns based on Shapiro test and skewness\n",
    "# from scipy.stats import shapiro, skew\n",
    "\n",
    "# def get_skew_colsss(df):\n",
    "#     p_values = [shapiro(df[col])[1] for col in df.columns]\n",
    "#     skewness = [skew(df[col]) for col in df.columns]\n",
    "\n",
    "#     normal_cols = [i for i, p in zip(df.columns,p_values) if p > 0.5]\n",
    "#     skewed_cols = [i for i,s in zip(df.columns,skewness) if abs(s) > 0.5]\n",
    "\n",
    "#     return normal_cols,skewed_cols"
   ]
  },
  {
   "cell_type": "code",
   "execution_count": 41,
   "id": "dea9db10",
   "metadata": {
    "ExecuteTime": {
     "start_time": "2023-04-26T19:36:34.032892Z",
     "end_time": "2023-04-26T19:36:34.535734Z"
    }
   },
   "outputs": [],
   "source": [
    "# # train data\n",
    "# normal_cols, skewed_cols = get_skew_colsss(out_df)"
   ]
  },
  {
   "cell_type": "code",
   "execution_count": 42,
   "id": "911d4831",
   "metadata": {
    "ExecuteTime": {
     "start_time": "2023-04-26T19:36:34.048484Z",
     "end_time": "2023-04-26T19:36:34.535734Z"
    }
   },
   "outputs": [],
   "source": [
    "# normal_cols"
   ]
  },
  {
   "cell_type": "code",
   "execution_count": 43,
   "id": "cd18b9aa",
   "metadata": {
    "ExecuteTime": {
     "start_time": "2023-04-26T19:36:34.064111Z",
     "end_time": "2023-04-26T19:36:34.535734Z"
    }
   },
   "outputs": [],
   "source": [
    "# skewed_cols"
   ]
  },
  {
   "cell_type": "code",
   "execution_count": 44,
   "id": "f91262a6",
   "metadata": {
    "ExecuteTime": {
     "start_time": "2023-04-26T19:36:34.079729Z",
     "end_time": "2023-04-26T19:36:34.566990Z"
    }
   },
   "outputs": [],
   "source": [
    "# # Function to handle outliers based on Inter Quartile Range method\n",
    "# def outlier_handler_skewed(df,col,option):\n",
    "#     # step 1: calculate IQR\n",
    "#     Q1 = df[col].quantile(0.25)\n",
    "#     Q3=df[col].quantile(0.75)\n",
    "#     IQR = Q3-Q1\n",
    "\n",
    "#     # step 2: calculate upper and lower bounds for each column \n",
    "#     lower = Q1 - 1.5*(IQR)\n",
    "#     upper = Q3 + 1.5*(IQR)\n",
    "\n",
    "    \n",
    "#     if option==\"drop\":\n",
    "\n",
    "#         df.drop(df.loc[df[col]<lower].index,inplace=True)\n",
    "\n",
    "#         df.drop(df.loc[df[col]>upper].index,inplace=True)\n",
    "\n",
    "#     elif option==\"fill_Qrt\":\n",
    "\n",
    "#         df[col] = np.where(df[col] < lower, lower, df[col])\n",
    "\n",
    "#         df[col] = np.where(df[col] > upper, upper, df[col])\n",
    "        \n",
    "    \n",
    "#     elif option ==\"fill_mean\":\n",
    "#         df[col] = np.where(df[col] < lower, df[col].mean() , df[col])\n",
    "#         df[col] = np.where(df[col] > upper, df[col].mean() , df[col])\n",
    "        \n",
    "#     elif option ==\"fill_median\":\n",
    "#         df[col] = np.where(df[col] < lower, df[col].median(), df[col])\n",
    "#         df[col] = np.where(df[col] > upper, df[col].median(), df[col])  "
   ]
  },
  {
   "cell_type": "code",
   "execution_count": 45,
   "id": "a3b04d07",
   "metadata": {
    "ExecuteTime": {
     "start_time": "2023-04-26T19:36:34.095356Z",
     "end_time": "2023-04-26T19:36:34.755334Z"
    }
   },
   "outputs": [],
   "source": [
    "# # handle outliers in train set\n",
    "# for i in cols:\n",
    "#     outlier_handler_skewed(df1_x,i,'fill_median')"
   ]
  },
  {
   "cell_type": "code",
   "execution_count": 46,
   "id": "0439df9c",
   "metadata": {
    "ExecuteTime": {
     "start_time": "2023-04-26T19:36:34.121932Z",
     "end_time": "2023-04-26T19:36:34.809223Z"
    }
   },
   "outputs": [],
   "source": [
    "# # handle outliers in train set\n",
    "# for i in cols:\n",
    "#     outlier_handler_skewed(df1_x,i,'fill_median')"
   ]
  },
  {
   "cell_type": "markdown",
   "id": "7fa1fe5c",
   "metadata": {},
   "source": [
    "### Divide Train and Test data"
   ]
  },
  {
   "cell_type": "code",
   "execution_count": 47,
   "id": "413dca4d",
   "metadata": {
    "ExecuteTime": {
     "start_time": "2023-04-26T19:36:34.127450Z",
     "end_time": "2023-04-26T19:36:34.850000Z"
    }
   },
   "outputs": [
    {
     "data": {
      "text/plain": "     shop_id  shop_area_sq_ft shop_profile  SALE_AMOUNT  sale_amount_per_sqft  \\\n0    SHOP047              528     Moderate       842960           1596.515152   \n1    SHOP009              676         High      1970870           2915.488166   \n2    SHOP083              676          Low      1691985           2502.936391   \n3    SHOP117              676          Low      2326200           3441.124260   \n4    SHOP042              676          Low      1340215           1982.566568   \n..       ...              ...          ...          ...                   ...   \n119  SHOP087              527          NaN      1128935           2142.191651   \n120  SHOP050              411          NaN      2399125           5837.287105   \n121  SHOP061              699          NaN      2110800           3019.742489   \n122  SHOP056              597          NaN      3024315           5065.854271   \n123  SHOP070              676          NaN      1325070           1960.162722   \n\n     num_unique_customers  num_transactions  sales_per_customer  \n0                     920              1662          507.196149  \n1                    2476              4517          436.322781  \n2                    1876              3550          476.615493  \n3                    2015              4015          579.377335  \n4                    1826              3219          416.345138  \n..                    ...               ...                 ...  \n119                  1061              1991          567.019086  \n120                  1765              3875          619.129032  \n121                  1725              3072          687.109375  \n122                  2810              5663          534.048208  \n123                  1407              2736          484.309211  \n\n[124 rows x 8 columns]",
      "text/html": "<div>\n<style scoped>\n    .dataframe tbody tr th:only-of-type {\n        vertical-align: middle;\n    }\n\n    .dataframe tbody tr th {\n        vertical-align: top;\n    }\n\n    .dataframe thead th {\n        text-align: right;\n    }\n</style>\n<table border=\"1\" class=\"dataframe\">\n  <thead>\n    <tr style=\"text-align: right;\">\n      <th></th>\n      <th>shop_id</th>\n      <th>shop_area_sq_ft</th>\n      <th>shop_profile</th>\n      <th>SALE_AMOUNT</th>\n      <th>sale_amount_per_sqft</th>\n      <th>num_unique_customers</th>\n      <th>num_transactions</th>\n      <th>sales_per_customer</th>\n    </tr>\n  </thead>\n  <tbody>\n    <tr>\n      <th>0</th>\n      <td>SHOP047</td>\n      <td>528</td>\n      <td>Moderate</td>\n      <td>842960</td>\n      <td>1596.515152</td>\n      <td>920</td>\n      <td>1662</td>\n      <td>507.196149</td>\n    </tr>\n    <tr>\n      <th>1</th>\n      <td>SHOP009</td>\n      <td>676</td>\n      <td>High</td>\n      <td>1970870</td>\n      <td>2915.488166</td>\n      <td>2476</td>\n      <td>4517</td>\n      <td>436.322781</td>\n    </tr>\n    <tr>\n      <th>2</th>\n      <td>SHOP083</td>\n      <td>676</td>\n      <td>Low</td>\n      <td>1691985</td>\n      <td>2502.936391</td>\n      <td>1876</td>\n      <td>3550</td>\n      <td>476.615493</td>\n    </tr>\n    <tr>\n      <th>3</th>\n      <td>SHOP117</td>\n      <td>676</td>\n      <td>Low</td>\n      <td>2326200</td>\n      <td>3441.124260</td>\n      <td>2015</td>\n      <td>4015</td>\n      <td>579.377335</td>\n    </tr>\n    <tr>\n      <th>4</th>\n      <td>SHOP042</td>\n      <td>676</td>\n      <td>Low</td>\n      <td>1340215</td>\n      <td>1982.566568</td>\n      <td>1826</td>\n      <td>3219</td>\n      <td>416.345138</td>\n    </tr>\n    <tr>\n      <th>...</th>\n      <td>...</td>\n      <td>...</td>\n      <td>...</td>\n      <td>...</td>\n      <td>...</td>\n      <td>...</td>\n      <td>...</td>\n      <td>...</td>\n    </tr>\n    <tr>\n      <th>119</th>\n      <td>SHOP087</td>\n      <td>527</td>\n      <td>NaN</td>\n      <td>1128935</td>\n      <td>2142.191651</td>\n      <td>1061</td>\n      <td>1991</td>\n      <td>567.019086</td>\n    </tr>\n    <tr>\n      <th>120</th>\n      <td>SHOP050</td>\n      <td>411</td>\n      <td>NaN</td>\n      <td>2399125</td>\n      <td>5837.287105</td>\n      <td>1765</td>\n      <td>3875</td>\n      <td>619.129032</td>\n    </tr>\n    <tr>\n      <th>121</th>\n      <td>SHOP061</td>\n      <td>699</td>\n      <td>NaN</td>\n      <td>2110800</td>\n      <td>3019.742489</td>\n      <td>1725</td>\n      <td>3072</td>\n      <td>687.109375</td>\n    </tr>\n    <tr>\n      <th>122</th>\n      <td>SHOP056</td>\n      <td>597</td>\n      <td>NaN</td>\n      <td>3024315</td>\n      <td>5065.854271</td>\n      <td>2810</td>\n      <td>5663</td>\n      <td>534.048208</td>\n    </tr>\n    <tr>\n      <th>123</th>\n      <td>SHOP070</td>\n      <td>676</td>\n      <td>NaN</td>\n      <td>1325070</td>\n      <td>1960.162722</td>\n      <td>1407</td>\n      <td>2736</td>\n      <td>484.309211</td>\n    </tr>\n  </tbody>\n</table>\n<p>124 rows × 8 columns</p>\n</div>"
     },
     "execution_count": 47,
     "metadata": {},
     "output_type": "execute_result"
    }
   ],
   "source": [
    "df1"
   ]
  },
  {
   "cell_type": "code",
   "execution_count": 48,
   "id": "3086e9cf",
   "metadata": {
    "ExecuteTime": {
     "start_time": "2023-04-26T19:36:34.189976Z",
     "end_time": "2023-04-26T19:36:34.850000Z"
    }
   },
   "outputs": [],
   "source": [
    "df_pred = df1[pd.isnull(df1['shop_profile'])]"
   ]
  },
  {
   "cell_type": "code",
   "execution_count": 49,
   "id": "0253bcd7",
   "metadata": {
    "ExecuteTime": {
     "start_time": "2023-04-26T19:36:34.237268Z",
     "end_time": "2023-04-26T19:36:34.912915Z"
    }
   },
   "outputs": [
    {
     "data": {
      "text/plain": "     shop_id  shop_area_sq_ft shop_profile  SALE_AMOUNT  sale_amount_per_sqft  \\\n100  SHOP046              545          NaN      2607865           4785.073394   \n101  SHOP024              676          NaN      1308795           1936.087278   \n102  SHOP023              617          NaN      2570425           4166.004862   \n103  SHOP097              310          NaN      2642380           8523.806452   \n104  SHOP044              715          NaN      1310440           1832.783217   \n105  SHOP030              530          NaN      2862995           5401.877358   \n106  SHOP038              411          NaN      1444025           3513.442822   \n107  SHOP029              597          NaN      1973805           3306.206030   \n108  SHOP096              676          NaN      2600915           3847.507396   \n109  SHOP092              617          NaN      1961240           3178.670989   \n110  SHOP081              774          NaN      2067720           2671.472868   \n111  SHOP076              676          NaN      2276575           3367.714497   \n112  SHOP080              554          NaN      1322790           2387.707581   \n113  SHOP074              617          NaN      2608890           4228.346840   \n114  SHOP107              588          NaN      2565235           4362.644558   \n115  SHOP108              676          NaN      2100715           3107.566568   \n116  SHOP019              411          NaN      2200580           5354.209246   \n117  SHOP002              637          NaN      3084455           4842.158556   \n118  SHOP114              513          NaN      2131345           4154.668616   \n119  SHOP087              527          NaN      1128935           2142.191651   \n120  SHOP050              411          NaN      2399125           5837.287105   \n121  SHOP061              699          NaN      2110800           3019.742489   \n122  SHOP056              597          NaN      3024315           5065.854271   \n123  SHOP070              676          NaN      1325070           1960.162722   \n\n     num_unique_customers  num_transactions  sales_per_customer  \n100                  1713              3387          769.963094  \n101                  1628              2839          461.005636  \n102                  2206              4031          637.664351  \n103                  1647              3098          852.930923  \n104                  1533              2594          505.181187  \n105                  1616              3558          804.664137  \n106                  1755              3080          468.839286  \n107                  2035              3740          527.755348  \n108                  2469              4723          550.691298  \n109                  2230              3848          509.677755  \n110                  1960              3279          630.594694  \n111                  1972              3641          625.260917  \n112                  1247              2309          572.884366  \n113                  2715              5081          513.459949  \n114                   910              1923         1333.975559  \n115                  2050              3978          528.083208  \n116                  1905              3690          596.363144  \n117                  2546              4721          653.347808  \n118                  2452              4287          497.164684  \n119                  1061              1991          567.019086  \n120                  1765              3875          619.129032  \n121                  1725              3072          687.109375  \n122                  2810              5663          534.048208  \n123                  1407              2736          484.309211  ",
      "text/html": "<div>\n<style scoped>\n    .dataframe tbody tr th:only-of-type {\n        vertical-align: middle;\n    }\n\n    .dataframe tbody tr th {\n        vertical-align: top;\n    }\n\n    .dataframe thead th {\n        text-align: right;\n    }\n</style>\n<table border=\"1\" class=\"dataframe\">\n  <thead>\n    <tr style=\"text-align: right;\">\n      <th></th>\n      <th>shop_id</th>\n      <th>shop_area_sq_ft</th>\n      <th>shop_profile</th>\n      <th>SALE_AMOUNT</th>\n      <th>sale_amount_per_sqft</th>\n      <th>num_unique_customers</th>\n      <th>num_transactions</th>\n      <th>sales_per_customer</th>\n    </tr>\n  </thead>\n  <tbody>\n    <tr>\n      <th>100</th>\n      <td>SHOP046</td>\n      <td>545</td>\n      <td>NaN</td>\n      <td>2607865</td>\n      <td>4785.073394</td>\n      <td>1713</td>\n      <td>3387</td>\n      <td>769.963094</td>\n    </tr>\n    <tr>\n      <th>101</th>\n      <td>SHOP024</td>\n      <td>676</td>\n      <td>NaN</td>\n      <td>1308795</td>\n      <td>1936.087278</td>\n      <td>1628</td>\n      <td>2839</td>\n      <td>461.005636</td>\n    </tr>\n    <tr>\n      <th>102</th>\n      <td>SHOP023</td>\n      <td>617</td>\n      <td>NaN</td>\n      <td>2570425</td>\n      <td>4166.004862</td>\n      <td>2206</td>\n      <td>4031</td>\n      <td>637.664351</td>\n    </tr>\n    <tr>\n      <th>103</th>\n      <td>SHOP097</td>\n      <td>310</td>\n      <td>NaN</td>\n      <td>2642380</td>\n      <td>8523.806452</td>\n      <td>1647</td>\n      <td>3098</td>\n      <td>852.930923</td>\n    </tr>\n    <tr>\n      <th>104</th>\n      <td>SHOP044</td>\n      <td>715</td>\n      <td>NaN</td>\n      <td>1310440</td>\n      <td>1832.783217</td>\n      <td>1533</td>\n      <td>2594</td>\n      <td>505.181187</td>\n    </tr>\n    <tr>\n      <th>105</th>\n      <td>SHOP030</td>\n      <td>530</td>\n      <td>NaN</td>\n      <td>2862995</td>\n      <td>5401.877358</td>\n      <td>1616</td>\n      <td>3558</td>\n      <td>804.664137</td>\n    </tr>\n    <tr>\n      <th>106</th>\n      <td>SHOP038</td>\n      <td>411</td>\n      <td>NaN</td>\n      <td>1444025</td>\n      <td>3513.442822</td>\n      <td>1755</td>\n      <td>3080</td>\n      <td>468.839286</td>\n    </tr>\n    <tr>\n      <th>107</th>\n      <td>SHOP029</td>\n      <td>597</td>\n      <td>NaN</td>\n      <td>1973805</td>\n      <td>3306.206030</td>\n      <td>2035</td>\n      <td>3740</td>\n      <td>527.755348</td>\n    </tr>\n    <tr>\n      <th>108</th>\n      <td>SHOP096</td>\n      <td>676</td>\n      <td>NaN</td>\n      <td>2600915</td>\n      <td>3847.507396</td>\n      <td>2469</td>\n      <td>4723</td>\n      <td>550.691298</td>\n    </tr>\n    <tr>\n      <th>109</th>\n      <td>SHOP092</td>\n      <td>617</td>\n      <td>NaN</td>\n      <td>1961240</td>\n      <td>3178.670989</td>\n      <td>2230</td>\n      <td>3848</td>\n      <td>509.677755</td>\n    </tr>\n    <tr>\n      <th>110</th>\n      <td>SHOP081</td>\n      <td>774</td>\n      <td>NaN</td>\n      <td>2067720</td>\n      <td>2671.472868</td>\n      <td>1960</td>\n      <td>3279</td>\n      <td>630.594694</td>\n    </tr>\n    <tr>\n      <th>111</th>\n      <td>SHOP076</td>\n      <td>676</td>\n      <td>NaN</td>\n      <td>2276575</td>\n      <td>3367.714497</td>\n      <td>1972</td>\n      <td>3641</td>\n      <td>625.260917</td>\n    </tr>\n    <tr>\n      <th>112</th>\n      <td>SHOP080</td>\n      <td>554</td>\n      <td>NaN</td>\n      <td>1322790</td>\n      <td>2387.707581</td>\n      <td>1247</td>\n      <td>2309</td>\n      <td>572.884366</td>\n    </tr>\n    <tr>\n      <th>113</th>\n      <td>SHOP074</td>\n      <td>617</td>\n      <td>NaN</td>\n      <td>2608890</td>\n      <td>4228.346840</td>\n      <td>2715</td>\n      <td>5081</td>\n      <td>513.459949</td>\n    </tr>\n    <tr>\n      <th>114</th>\n      <td>SHOP107</td>\n      <td>588</td>\n      <td>NaN</td>\n      <td>2565235</td>\n      <td>4362.644558</td>\n      <td>910</td>\n      <td>1923</td>\n      <td>1333.975559</td>\n    </tr>\n    <tr>\n      <th>115</th>\n      <td>SHOP108</td>\n      <td>676</td>\n      <td>NaN</td>\n      <td>2100715</td>\n      <td>3107.566568</td>\n      <td>2050</td>\n      <td>3978</td>\n      <td>528.083208</td>\n    </tr>\n    <tr>\n      <th>116</th>\n      <td>SHOP019</td>\n      <td>411</td>\n      <td>NaN</td>\n      <td>2200580</td>\n      <td>5354.209246</td>\n      <td>1905</td>\n      <td>3690</td>\n      <td>596.363144</td>\n    </tr>\n    <tr>\n      <th>117</th>\n      <td>SHOP002</td>\n      <td>637</td>\n      <td>NaN</td>\n      <td>3084455</td>\n      <td>4842.158556</td>\n      <td>2546</td>\n      <td>4721</td>\n      <td>653.347808</td>\n    </tr>\n    <tr>\n      <th>118</th>\n      <td>SHOP114</td>\n      <td>513</td>\n      <td>NaN</td>\n      <td>2131345</td>\n      <td>4154.668616</td>\n      <td>2452</td>\n      <td>4287</td>\n      <td>497.164684</td>\n    </tr>\n    <tr>\n      <th>119</th>\n      <td>SHOP087</td>\n      <td>527</td>\n      <td>NaN</td>\n      <td>1128935</td>\n      <td>2142.191651</td>\n      <td>1061</td>\n      <td>1991</td>\n      <td>567.019086</td>\n    </tr>\n    <tr>\n      <th>120</th>\n      <td>SHOP050</td>\n      <td>411</td>\n      <td>NaN</td>\n      <td>2399125</td>\n      <td>5837.287105</td>\n      <td>1765</td>\n      <td>3875</td>\n      <td>619.129032</td>\n    </tr>\n    <tr>\n      <th>121</th>\n      <td>SHOP061</td>\n      <td>699</td>\n      <td>NaN</td>\n      <td>2110800</td>\n      <td>3019.742489</td>\n      <td>1725</td>\n      <td>3072</td>\n      <td>687.109375</td>\n    </tr>\n    <tr>\n      <th>122</th>\n      <td>SHOP056</td>\n      <td>597</td>\n      <td>NaN</td>\n      <td>3024315</td>\n      <td>5065.854271</td>\n      <td>2810</td>\n      <td>5663</td>\n      <td>534.048208</td>\n    </tr>\n    <tr>\n      <th>123</th>\n      <td>SHOP070</td>\n      <td>676</td>\n      <td>NaN</td>\n      <td>1325070</td>\n      <td>1960.162722</td>\n      <td>1407</td>\n      <td>2736</td>\n      <td>484.309211</td>\n    </tr>\n  </tbody>\n</table>\n</div>"
     },
     "execution_count": 49,
     "metadata": {},
     "output_type": "execute_result"
    }
   ],
   "source": [
    "df_pred"
   ]
  },
  {
   "cell_type": "code",
   "execution_count": 50,
   "id": "a982016f",
   "metadata": {
    "ExecuteTime": {
     "start_time": "2023-04-26T19:36:34.268520Z",
     "end_time": "2023-04-26T19:36:34.959809Z"
    }
   },
   "outputs": [],
   "source": [
    "df2 = df1.dropna()"
   ]
  },
  {
   "cell_type": "code",
   "execution_count": 51,
   "id": "00b27084",
   "metadata": {
    "ExecuteTime": {
     "start_time": "2023-04-26T19:36:34.284161Z",
     "end_time": "2023-04-26T19:36:34.959809Z"
    }
   },
   "outputs": [],
   "source": [
    "X = df2.drop(['shop_profile', 'shop_id'], axis=1)\n",
    "y = df2['shop_profile']\n",
    "# from sklearn.model_selection import train_test_split\n",
    "# X_train, X_test, y_train, y_test = train_test_split(X, y, test_size=0.2, random_state=42)"
   ]
  },
  {
   "cell_type": "code",
   "execution_count": 52,
   "id": "5ead7dec",
   "metadata": {
    "ExecuteTime": {
     "start_time": "2023-04-26T19:36:34.308285Z",
     "end_time": "2023-04-26T19:36:34.959809Z"
    }
   },
   "outputs": [],
   "source": [
    "# from sklearn.ensemble import RandomForestClassifier\n",
    "# from sklearn.metrics import f1_score\n",
    "\n",
    "# # Create a Random Forest Classifier with 100 trees\n",
    "# rf = RandomForestClassifier(n_estimators=700, min_samples_split=2, min_samples_leaf=2, max_depth=10, bootstrap=False)"
   ]
  },
  {
   "cell_type": "code",
   "execution_count": 53,
   "id": "eded0908",
   "metadata": {
    "ExecuteTime": {
     "start_time": "2023-04-26T19:36:34.315802Z",
     "end_time": "2023-04-26T19:36:34.959809Z"
    }
   },
   "outputs": [],
   "source": [
    "# rf.fit(X_train, y_train)"
   ]
  },
  {
   "cell_type": "code",
   "execution_count": 54,
   "id": "6dcc739a",
   "metadata": {
    "ExecuteTime": {
     "start_time": "2023-04-26T19:36:34.331446Z",
     "end_time": "2023-04-26T19:36:34.959809Z"
    }
   },
   "outputs": [],
   "source": [
    "# y_pred = rf.predict(X_test)"
   ]
  },
  {
   "cell_type": "code",
   "execution_count": 55,
   "id": "61625626",
   "metadata": {
    "ExecuteTime": {
     "start_time": "2023-04-26T19:36:34.347072Z",
     "end_time": "2023-04-26T19:36:35.006691Z"
    }
   },
   "outputs": [],
   "source": [
    "# f1 = f1_score(y_test, y_pred, average='macro')\n",
    "# print(\"F1 score:\", f1)"
   ]
  },
  {
   "cell_type": "code",
   "execution_count": 55,
   "id": "b88e25fb",
   "metadata": {
    "ExecuteTime": {
     "start_time": "2023-04-26T19:36:34.378322Z",
     "end_time": "2023-04-26T19:36:35.038418Z"
    }
   },
   "outputs": [],
   "source": []
  },
  {
   "cell_type": "code",
   "execution_count": 55,
   "id": "4a434594",
   "metadata": {
    "ExecuteTime": {
     "start_time": "2023-04-26T19:36:34.408468Z",
     "end_time": "2023-04-26T19:36:35.038418Z"
    }
   },
   "outputs": [],
   "source": []
  },
  {
   "cell_type": "code",
   "execution_count": 55,
   "id": "efa7e207",
   "metadata": {
    "ExecuteTime": {
     "start_time": "2023-04-26T19:36:34.425629Z",
     "end_time": "2023-04-26T19:36:35.038418Z"
    }
   },
   "outputs": [],
   "source": []
  },
  {
   "cell_type": "code",
   "execution_count": 56,
   "id": "297f8cb3",
   "metadata": {
    "ExecuteTime": {
     "start_time": "2023-04-26T19:36:34.482206Z",
     "end_time": "2023-04-26T19:36:36.712518Z"
    }
   },
   "outputs": [
    {
     "data": {
      "text/plain": "Index(['shop_area_sq_ft num_unique_customers^2',\n       'SALE_AMOUNT sale_amount_per_sqft^2',\n       'SALE_AMOUNT sale_amount_per_sqft sales_per_customer'],\n      dtype='object')"
     },
     "execution_count": 56,
     "metadata": {},
     "output_type": "execute_result"
    }
   ],
   "source": [
    "from sklearn.preprocessing import PolynomialFeatures\n",
    "from sklearn.feature_selection import SelectKBest, mutual_info_classif\n",
    "\n",
    "poly = PolynomialFeatures(degree=3, include_bias=False)\n",
    "X_poly = poly.fit_transform(X)\n",
    "X_poly_pred = poly.transform(df_pred.drop(['shop_id', 'shop_profile'], axis=1))\n",
    "\n",
    "X_poly_df = pd.DataFrame(X_poly, columns=poly.get_feature_names_out(X.columns))\n",
    "X_poly_pred_df = pd.DataFrame(X_poly_pred, columns=poly.get_feature_names_out(X.columns))\n",
    "\n",
    "# instantiate SelectKBest\n",
    "kbest = SelectKBest(score_func=mutual_info_classif, k=3)\n",
    "X_new = kbest.fit_transform(X_poly_df, y)\n",
    "X_new_pred = kbest.transform(X_poly_pred_df)\n",
    "\n",
    "# get selected feature names\n",
    "X_poly_df.columns[kbest.get_support()]"
   ]
  },
  {
   "cell_type": "code",
   "execution_count": 57,
   "id": "ecf6967d",
   "metadata": {
    "ExecuteTime": {
     "start_time": "2023-04-26T19:36:36.712518Z",
     "end_time": "2023-04-26T19:36:36.727529Z"
    }
   },
   "outputs": [],
   "source": [
    "X_new_df = pd.DataFrame(X_new, columns=X_poly_df.columns[kbest.get_support()])\n",
    "X_poly_pred_new_df = pd.DataFrame(X_new_pred, columns=X_poly_df.columns[kbest.get_support()])"
   ]
  },
  {
   "cell_type": "code",
   "execution_count": 58,
   "id": "2c54f7cc",
   "metadata": {
    "ExecuteTime": {
     "start_time": "2023-04-26T19:36:36.743174Z",
     "end_time": "2023-04-26T19:36:36.812719Z"
    }
   },
   "outputs": [
    {
     "data": {
      "text/plain": "    shop_area_sq_ft num_unique_customers^2  \\\n0                             4.468992e+08   \n1                             4.144269e+09   \n2                             2.379098e+09   \n3                             2.744712e+09   \n4                             2.253971e+09   \n..                                     ...   \n95                            3.070603e+09   \n96                            5.250000e+08   \n97                            1.542146e+09   \n98                            1.533643e+09   \n99                            4.918693e+09   \n\n    SALE_AMOUNT sale_amount_per_sqft^2  \\\n0                         2.148588e+12   \n1                         1.675254e+13   \n2                         1.059976e+13   \n3                         2.754532e+13   \n4                         5.267809e+12   \n..                                 ...   \n95                        7.113623e+13   \n96                        1.416499e+13   \n97                        1.035459e+13   \n98                        1.458175e+13   \n99                        3.140408e+13   \n\n    SALE_AMOUNT sale_amount_per_sqft sales_per_customer  \n0                                        6.825838e+11    \n1                                        2.507132e+12    \n2                                        2.018434e+12    \n3                                        4.637767e+12    \n4                                        1.106256e+12    \n..                                                ...    \n95                                       9.873695e+12    \n96                                       2.115305e+12    \n97                                       2.917660e+12    \n98                                       2.218214e+12    \n99                                       4.392758e+12    \n\n[100 rows x 3 columns]",
      "text/html": "<div>\n<style scoped>\n    .dataframe tbody tr th:only-of-type {\n        vertical-align: middle;\n    }\n\n    .dataframe tbody tr th {\n        vertical-align: top;\n    }\n\n    .dataframe thead th {\n        text-align: right;\n    }\n</style>\n<table border=\"1\" class=\"dataframe\">\n  <thead>\n    <tr style=\"text-align: right;\">\n      <th></th>\n      <th>shop_area_sq_ft num_unique_customers^2</th>\n      <th>SALE_AMOUNT sale_amount_per_sqft^2</th>\n      <th>SALE_AMOUNT sale_amount_per_sqft sales_per_customer</th>\n    </tr>\n  </thead>\n  <tbody>\n    <tr>\n      <th>0</th>\n      <td>4.468992e+08</td>\n      <td>2.148588e+12</td>\n      <td>6.825838e+11</td>\n    </tr>\n    <tr>\n      <th>1</th>\n      <td>4.144269e+09</td>\n      <td>1.675254e+13</td>\n      <td>2.507132e+12</td>\n    </tr>\n    <tr>\n      <th>2</th>\n      <td>2.379098e+09</td>\n      <td>1.059976e+13</td>\n      <td>2.018434e+12</td>\n    </tr>\n    <tr>\n      <th>3</th>\n      <td>2.744712e+09</td>\n      <td>2.754532e+13</td>\n      <td>4.637767e+12</td>\n    </tr>\n    <tr>\n      <th>4</th>\n      <td>2.253971e+09</td>\n      <td>5.267809e+12</td>\n      <td>1.106256e+12</td>\n    </tr>\n    <tr>\n      <th>...</th>\n      <td>...</td>\n      <td>...</td>\n      <td>...</td>\n    </tr>\n    <tr>\n      <th>95</th>\n      <td>3.070603e+09</td>\n      <td>7.113623e+13</td>\n      <td>9.873695e+12</td>\n    </tr>\n    <tr>\n      <th>96</th>\n      <td>5.250000e+08</td>\n      <td>1.416499e+13</td>\n      <td>2.115305e+12</td>\n    </tr>\n    <tr>\n      <th>97</th>\n      <td>1.542146e+09</td>\n      <td>1.035459e+13</td>\n      <td>2.917660e+12</td>\n    </tr>\n    <tr>\n      <th>98</th>\n      <td>1.533643e+09</td>\n      <td>1.458175e+13</td>\n      <td>2.218214e+12</td>\n    </tr>\n    <tr>\n      <th>99</th>\n      <td>4.918693e+09</td>\n      <td>3.140408e+13</td>\n      <td>4.392758e+12</td>\n    </tr>\n  </tbody>\n</table>\n<p>100 rows × 3 columns</p>\n</div>"
     },
     "execution_count": 58,
     "metadata": {},
     "output_type": "execute_result"
    }
   ],
   "source": [
    "X_new_df"
   ]
  },
  {
   "cell_type": "code",
   "execution_count": 59,
   "id": "7e0e2e62",
   "metadata": {
    "ExecuteTime": {
     "start_time": "2023-04-26T19:36:36.758792Z",
     "end_time": "2023-04-26T19:36:36.812719Z"
    }
   },
   "outputs": [
    {
     "data": {
      "text/plain": "    shop_area_sq_ft num_unique_customers^2  \\\n0                             1.599231e+09   \n1                             1.791660e+09   \n2                             3.002591e+09   \n3                             8.409088e+08   \n4                             1.680314e+09   \n5                             1.384072e+09   \n6                             1.265890e+09   \n7                             2.472311e+09   \n8                             4.120870e+09   \n9                             3.068279e+09   \n10                            2.973398e+09   \n11                            2.628818e+09   \n12                            8.614750e+08   \n13                            4.548046e+09   \n14                            4.869228e+08   \n15                            2.840890e+09   \n16                            1.491529e+09   \n17                            4.129108e+09   \n18                            3.084312e+09   \n19                            5.932550e+08   \n20                            1.280357e+09   \n21                            2.079962e+09   \n22                            4.713972e+09   \n23                            1.338243e+09   \n\n    SALE_AMOUNT sale_amount_per_sqft^2  \\\n0                         5.971210e+13   \n1                         4.905932e+12   \n2                         4.461126e+13   \n3                         1.919828e+14   \n4                         4.401892e+12   \n5                         8.354299e+13   \n6                         1.782545e+13   \n7                         2.157566e+13   \n8                         3.850216e+13   \n9                         1.981627e+13   \n10                        1.475684e+13   \n11                        2.581978e+13   \n12                        7.541421e+12   \n13                        4.664413e+13   \n14                        4.882326e+13   \n15                        2.028654e+13   \n16                        6.308525e+13   \n17                        7.231967e+13   \n18                        3.678972e+13   \n19                        5.180666e+12   \n20                        8.174760e+13   \n21                        1.924806e+13   \n22                        7.761263e+13   \n23                        5.091234e+12   \n\n    SALE_AMOUNT sale_amount_per_sqft sales_per_customer  \n0                                        9.608235e+12    \n1                                        1.168161e+12    \n2                                        6.828367e+12    \n3                                        1.921068e+13    \n4                                        1.213320e+12    \n5                                        1.244457e+13    \n6                                        2.378656e+12    \n7                                        3.444029e+12    \n8                                        5.510790e+12    \n9                                        3.177401e+12    \n10                                       3.483315e+12    \n11                                       4.793785e+12    \n12                                       1.809418e+12    \n13                                       5.664127e+12    \n14                                       1.492880e+13    \n15                                       3.447386e+12    \n16                                       7.026569e+12    \n17                                       9.758024e+12    \n18                                       4.402409e+12    \n19                                       1.371276e+12    \n20                                       8.670519e+12    \n21                                       4.379685e+12    \n22                                       8.182013e+12    \n23                                       1.257922e+12    ",
      "text/html": "<div>\n<style scoped>\n    .dataframe tbody tr th:only-of-type {\n        vertical-align: middle;\n    }\n\n    .dataframe tbody tr th {\n        vertical-align: top;\n    }\n\n    .dataframe thead th {\n        text-align: right;\n    }\n</style>\n<table border=\"1\" class=\"dataframe\">\n  <thead>\n    <tr style=\"text-align: right;\">\n      <th></th>\n      <th>shop_area_sq_ft num_unique_customers^2</th>\n      <th>SALE_AMOUNT sale_amount_per_sqft^2</th>\n      <th>SALE_AMOUNT sale_amount_per_sqft sales_per_customer</th>\n    </tr>\n  </thead>\n  <tbody>\n    <tr>\n      <th>0</th>\n      <td>1.599231e+09</td>\n      <td>5.971210e+13</td>\n      <td>9.608235e+12</td>\n    </tr>\n    <tr>\n      <th>1</th>\n      <td>1.791660e+09</td>\n      <td>4.905932e+12</td>\n      <td>1.168161e+12</td>\n    </tr>\n    <tr>\n      <th>2</th>\n      <td>3.002591e+09</td>\n      <td>4.461126e+13</td>\n      <td>6.828367e+12</td>\n    </tr>\n    <tr>\n      <th>3</th>\n      <td>8.409088e+08</td>\n      <td>1.919828e+14</td>\n      <td>1.921068e+13</td>\n    </tr>\n    <tr>\n      <th>4</th>\n      <td>1.680314e+09</td>\n      <td>4.401892e+12</td>\n      <td>1.213320e+12</td>\n    </tr>\n    <tr>\n      <th>5</th>\n      <td>1.384072e+09</td>\n      <td>8.354299e+13</td>\n      <td>1.244457e+13</td>\n    </tr>\n    <tr>\n      <th>6</th>\n      <td>1.265890e+09</td>\n      <td>1.782545e+13</td>\n      <td>2.378656e+12</td>\n    </tr>\n    <tr>\n      <th>7</th>\n      <td>2.472311e+09</td>\n      <td>2.157566e+13</td>\n      <td>3.444029e+12</td>\n    </tr>\n    <tr>\n      <th>8</th>\n      <td>4.120870e+09</td>\n      <td>3.850216e+13</td>\n      <td>5.510790e+12</td>\n    </tr>\n    <tr>\n      <th>9</th>\n      <td>3.068279e+09</td>\n      <td>1.981627e+13</td>\n      <td>3.177401e+12</td>\n    </tr>\n    <tr>\n      <th>10</th>\n      <td>2.973398e+09</td>\n      <td>1.475684e+13</td>\n      <td>3.483315e+12</td>\n    </tr>\n    <tr>\n      <th>11</th>\n      <td>2.628818e+09</td>\n      <td>2.581978e+13</td>\n      <td>4.793785e+12</td>\n    </tr>\n    <tr>\n      <th>12</th>\n      <td>8.614750e+08</td>\n      <td>7.541421e+12</td>\n      <td>1.809418e+12</td>\n    </tr>\n    <tr>\n      <th>13</th>\n      <td>4.548046e+09</td>\n      <td>4.664413e+13</td>\n      <td>5.664127e+12</td>\n    </tr>\n    <tr>\n      <th>14</th>\n      <td>4.869228e+08</td>\n      <td>4.882326e+13</td>\n      <td>1.492880e+13</td>\n    </tr>\n    <tr>\n      <th>15</th>\n      <td>2.840890e+09</td>\n      <td>2.028654e+13</td>\n      <td>3.447386e+12</td>\n    </tr>\n    <tr>\n      <th>16</th>\n      <td>1.491529e+09</td>\n      <td>6.308525e+13</td>\n      <td>7.026569e+12</td>\n    </tr>\n    <tr>\n      <th>17</th>\n      <td>4.129108e+09</td>\n      <td>7.231967e+13</td>\n      <td>9.758024e+12</td>\n    </tr>\n    <tr>\n      <th>18</th>\n      <td>3.084312e+09</td>\n      <td>3.678972e+13</td>\n      <td>4.402409e+12</td>\n    </tr>\n    <tr>\n      <th>19</th>\n      <td>5.932550e+08</td>\n      <td>5.180666e+12</td>\n      <td>1.371276e+12</td>\n    </tr>\n    <tr>\n      <th>20</th>\n      <td>1.280357e+09</td>\n      <td>8.174760e+13</td>\n      <td>8.670519e+12</td>\n    </tr>\n    <tr>\n      <th>21</th>\n      <td>2.079962e+09</td>\n      <td>1.924806e+13</td>\n      <td>4.379685e+12</td>\n    </tr>\n    <tr>\n      <th>22</th>\n      <td>4.713972e+09</td>\n      <td>7.761263e+13</td>\n      <td>8.182013e+12</td>\n    </tr>\n    <tr>\n      <th>23</th>\n      <td>1.338243e+09</td>\n      <td>5.091234e+12</td>\n      <td>1.257922e+12</td>\n    </tr>\n  </tbody>\n</table>\n</div>"
     },
     "execution_count": 59,
     "metadata": {},
     "output_type": "execute_result"
    }
   ],
   "source": [
    "X_poly_pred_new_df"
   ]
  },
  {
   "cell_type": "code",
   "execution_count": 60,
   "id": "8d3bddba",
   "metadata": {
    "ExecuteTime": {
     "start_time": "2023-04-26T19:36:36.790042Z",
     "end_time": "2023-04-26T19:36:36.812719Z"
    }
   },
   "outputs": [],
   "source": [
    "# from sklearn.model_selection import train_test_split\n",
    "# X_train, X_test, y_train, y_test = train_test_split(X_new_df, y, test_size=0.3, random_state=42)"
   ]
  },
  {
   "cell_type": "code",
   "execution_count": 61,
   "id": "7da9d67b",
   "metadata": {
    "ExecuteTime": {
     "start_time": "2023-04-26T19:36:36.805707Z",
     "end_time": "2023-04-26T19:36:37.089497Z"
    }
   },
   "outputs": [],
   "source": [
    "from sklearn.ensemble import RandomForestClassifier\n",
    "# from sklearn.metrics import f1_score\n",
    "\n",
    "# Create a Random Forest Classifier with 100 trees\n",
    "rf = RandomForestClassifier(n_estimators=700, min_samples_split=2, min_samples_leaf=2, max_depth=1000, bootstrap=False)"
   ]
  },
  {
   "cell_type": "code",
   "execution_count": 62,
   "id": "6cdb15dc",
   "metadata": {
    "ExecuteTime": {
     "start_time": "2023-04-26T19:36:36.978417Z",
     "end_time": "2023-04-26T19:36:38.397849Z"
    }
   },
   "outputs": [
    {
     "data": {
      "text/plain": "RandomForestClassifier(bootstrap=False, max_depth=1000, min_samples_leaf=2,\n                       n_estimators=700)",
      "text/html": "<style>#sk-container-id-1 {color: black;background-color: white;}#sk-container-id-1 pre{padding: 0;}#sk-container-id-1 div.sk-toggleable {background-color: white;}#sk-container-id-1 label.sk-toggleable__label {cursor: pointer;display: block;width: 100%;margin-bottom: 0;padding: 0.3em;box-sizing: border-box;text-align: center;}#sk-container-id-1 label.sk-toggleable__label-arrow:before {content: \"▸\";float: left;margin-right: 0.25em;color: #696969;}#sk-container-id-1 label.sk-toggleable__label-arrow:hover:before {color: black;}#sk-container-id-1 div.sk-estimator:hover label.sk-toggleable__label-arrow:before {color: black;}#sk-container-id-1 div.sk-toggleable__content {max-height: 0;max-width: 0;overflow: hidden;text-align: left;background-color: #f0f8ff;}#sk-container-id-1 div.sk-toggleable__content pre {margin: 0.2em;color: black;border-radius: 0.25em;background-color: #f0f8ff;}#sk-container-id-1 input.sk-toggleable__control:checked~div.sk-toggleable__content {max-height: 200px;max-width: 100%;overflow: auto;}#sk-container-id-1 input.sk-toggleable__control:checked~label.sk-toggleable__label-arrow:before {content: \"▾\";}#sk-container-id-1 div.sk-estimator input.sk-toggleable__control:checked~label.sk-toggleable__label {background-color: #d4ebff;}#sk-container-id-1 div.sk-label input.sk-toggleable__control:checked~label.sk-toggleable__label {background-color: #d4ebff;}#sk-container-id-1 input.sk-hidden--visually {border: 0;clip: rect(1px 1px 1px 1px);clip: rect(1px, 1px, 1px, 1px);height: 1px;margin: -1px;overflow: hidden;padding: 0;position: absolute;width: 1px;}#sk-container-id-1 div.sk-estimator {font-family: monospace;background-color: #f0f8ff;border: 1px dotted black;border-radius: 0.25em;box-sizing: border-box;margin-bottom: 0.5em;}#sk-container-id-1 div.sk-estimator:hover {background-color: #d4ebff;}#sk-container-id-1 div.sk-parallel-item::after {content: \"\";width: 100%;border-bottom: 1px solid gray;flex-grow: 1;}#sk-container-id-1 div.sk-label:hover label.sk-toggleable__label {background-color: #d4ebff;}#sk-container-id-1 div.sk-serial::before {content: \"\";position: absolute;border-left: 1px solid gray;box-sizing: border-box;top: 0;bottom: 0;left: 50%;z-index: 0;}#sk-container-id-1 div.sk-serial {display: flex;flex-direction: column;align-items: center;background-color: white;padding-right: 0.2em;padding-left: 0.2em;position: relative;}#sk-container-id-1 div.sk-item {position: relative;z-index: 1;}#sk-container-id-1 div.sk-parallel {display: flex;align-items: stretch;justify-content: center;background-color: white;position: relative;}#sk-container-id-1 div.sk-item::before, #sk-container-id-1 div.sk-parallel-item::before {content: \"\";position: absolute;border-left: 1px solid gray;box-sizing: border-box;top: 0;bottom: 0;left: 50%;z-index: -1;}#sk-container-id-1 div.sk-parallel-item {display: flex;flex-direction: column;z-index: 1;position: relative;background-color: white;}#sk-container-id-1 div.sk-parallel-item:first-child::after {align-self: flex-end;width: 50%;}#sk-container-id-1 div.sk-parallel-item:last-child::after {align-self: flex-start;width: 50%;}#sk-container-id-1 div.sk-parallel-item:only-child::after {width: 0;}#sk-container-id-1 div.sk-dashed-wrapped {border: 1px dashed gray;margin: 0 0.4em 0.5em 0.4em;box-sizing: border-box;padding-bottom: 0.4em;background-color: white;}#sk-container-id-1 div.sk-label label {font-family: monospace;font-weight: bold;display: inline-block;line-height: 1.2em;}#sk-container-id-1 div.sk-label-container {text-align: center;}#sk-container-id-1 div.sk-container {/* jupyter's `normalize.less` sets `[hidden] { display: none; }` but bootstrap.min.css set `[hidden] { display: none !important; }` so we also need the `!important` here to be able to override the default hidden behavior on the sphinx rendered scikit-learn.org. See: https://github.com/scikit-learn/scikit-learn/issues/21755 */display: inline-block !important;position: relative;}#sk-container-id-1 div.sk-text-repr-fallback {display: none;}</style><div id=\"sk-container-id-1\" class=\"sk-top-container\"><div class=\"sk-text-repr-fallback\"><pre>RandomForestClassifier(bootstrap=False, max_depth=1000, min_samples_leaf=2,\n                       n_estimators=700)</pre><b>In a Jupyter environment, please rerun this cell to show the HTML representation or trust the notebook. <br />On GitHub, the HTML representation is unable to render, please try loading this page with nbviewer.org.</b></div><div class=\"sk-container\" hidden><div class=\"sk-item\"><div class=\"sk-estimator sk-toggleable\"><input class=\"sk-toggleable__control sk-hidden--visually\" id=\"sk-estimator-id-1\" type=\"checkbox\" checked><label for=\"sk-estimator-id-1\" class=\"sk-toggleable__label sk-toggleable__label-arrow\">RandomForestClassifier</label><div class=\"sk-toggleable__content\"><pre>RandomForestClassifier(bootstrap=False, max_depth=1000, min_samples_leaf=2,\n                       n_estimators=700)</pre></div></div></div></div></div>"
     },
     "execution_count": 62,
     "metadata": {},
     "output_type": "execute_result"
    }
   ],
   "source": [
    "rf.fit(X_new_df, y)"
   ]
  },
  {
   "cell_type": "code",
   "execution_count": 63,
   "id": "7ad932af",
   "metadata": {
    "ExecuteTime": {
     "start_time": "2023-04-26T19:36:38.397849Z",
     "end_time": "2023-04-26T19:36:38.477522Z"
    }
   },
   "outputs": [],
   "source": [
    "y_pred = rf.predict(X_poly_pred_new_df)"
   ]
  },
  {
   "cell_type": "code",
   "execution_count": 64,
   "id": "befc417b",
   "metadata": {
    "ExecuteTime": {
     "start_time": "2023-04-26T19:36:38.477522Z",
     "end_time": "2023-04-26T19:36:38.501638Z"
    }
   },
   "outputs": [
    {
     "data": {
      "text/plain": "array(['Moderate', 'Moderate', 'Low', 'Moderate', 'Moderate', 'Moderate',\n       'Moderate', 'Moderate', 'High', 'Moderate', 'Low', 'Low', 'Low',\n       'High', 'High', 'Low', 'Moderate', 'High', 'High', 'Low',\n       'Moderate', 'High', 'High', 'Moderate'], dtype=object)"
     },
     "execution_count": 64,
     "metadata": {},
     "output_type": "execute_result"
    }
   ],
   "source": [
    "y_pred"
   ]
  },
  {
   "cell_type": "code",
   "execution_count": 65,
   "id": "384bc5e9",
   "metadata": {
    "ExecuteTime": {
     "start_time": "2023-04-26T19:36:38.485481Z",
     "end_time": "2023-04-26T19:36:38.519169Z"
    }
   },
   "outputs": [],
   "source": [
    "new_pred_df = pd.DataFrame(y_pred, columns=['shop_profile'])\n",
    "# new_pred_df = pd.DataFrame(df_pred['shop_id']).merge(new_pred_df, left_index=True, right_index=True)\n",
    "# new_pred_df\n",
    "# df_pred['shop_id']\n",
    "new_pred_df = pd.concat([pd.DataFrame(df_pred['shop_id']).reset_index(), new_pred_df], axis=1)\n",
    "new_pred_df.drop(['index'], axis=1, inplace=True)"
   ]
  },
  {
   "cell_type": "code",
   "execution_count": 66,
   "id": "19f3f2ce",
   "metadata": {
    "ExecuteTime": {
     "start_time": "2023-04-26T19:36:38.509646Z",
     "end_time": "2023-04-26T19:36:38.549074Z"
    }
   },
   "outputs": [
    {
     "data": {
      "text/plain": "    shop_id shop_profile\n0   SHOP046     Moderate\n1   SHOP024     Moderate\n2   SHOP023          Low\n3   SHOP097     Moderate\n4   SHOP044     Moderate\n5   SHOP030     Moderate\n6   SHOP038     Moderate\n7   SHOP029     Moderate\n8   SHOP096         High\n9   SHOP092     Moderate\n10  SHOP081          Low\n11  SHOP076          Low\n12  SHOP080          Low\n13  SHOP074         High\n14  SHOP107         High\n15  SHOP108          Low\n16  SHOP019     Moderate\n17  SHOP002         High\n18  SHOP114         High\n19  SHOP087          Low\n20  SHOP050     Moderate\n21  SHOP061         High\n22  SHOP056         High\n23  SHOP070     Moderate",
      "text/html": "<div>\n<style scoped>\n    .dataframe tbody tr th:only-of-type {\n        vertical-align: middle;\n    }\n\n    .dataframe tbody tr th {\n        vertical-align: top;\n    }\n\n    .dataframe thead th {\n        text-align: right;\n    }\n</style>\n<table border=\"1\" class=\"dataframe\">\n  <thead>\n    <tr style=\"text-align: right;\">\n      <th></th>\n      <th>shop_id</th>\n      <th>shop_profile</th>\n    </tr>\n  </thead>\n  <tbody>\n    <tr>\n      <th>0</th>\n      <td>SHOP046</td>\n      <td>Moderate</td>\n    </tr>\n    <tr>\n      <th>1</th>\n      <td>SHOP024</td>\n      <td>Moderate</td>\n    </tr>\n    <tr>\n      <th>2</th>\n      <td>SHOP023</td>\n      <td>Low</td>\n    </tr>\n    <tr>\n      <th>3</th>\n      <td>SHOP097</td>\n      <td>Moderate</td>\n    </tr>\n    <tr>\n      <th>4</th>\n      <td>SHOP044</td>\n      <td>Moderate</td>\n    </tr>\n    <tr>\n      <th>5</th>\n      <td>SHOP030</td>\n      <td>Moderate</td>\n    </tr>\n    <tr>\n      <th>6</th>\n      <td>SHOP038</td>\n      <td>Moderate</td>\n    </tr>\n    <tr>\n      <th>7</th>\n      <td>SHOP029</td>\n      <td>Moderate</td>\n    </tr>\n    <tr>\n      <th>8</th>\n      <td>SHOP096</td>\n      <td>High</td>\n    </tr>\n    <tr>\n      <th>9</th>\n      <td>SHOP092</td>\n      <td>Moderate</td>\n    </tr>\n    <tr>\n      <th>10</th>\n      <td>SHOP081</td>\n      <td>Low</td>\n    </tr>\n    <tr>\n      <th>11</th>\n      <td>SHOP076</td>\n      <td>Low</td>\n    </tr>\n    <tr>\n      <th>12</th>\n      <td>SHOP080</td>\n      <td>Low</td>\n    </tr>\n    <tr>\n      <th>13</th>\n      <td>SHOP074</td>\n      <td>High</td>\n    </tr>\n    <tr>\n      <th>14</th>\n      <td>SHOP107</td>\n      <td>High</td>\n    </tr>\n    <tr>\n      <th>15</th>\n      <td>SHOP108</td>\n      <td>Low</td>\n    </tr>\n    <tr>\n      <th>16</th>\n      <td>SHOP019</td>\n      <td>Moderate</td>\n    </tr>\n    <tr>\n      <th>17</th>\n      <td>SHOP002</td>\n      <td>High</td>\n    </tr>\n    <tr>\n      <th>18</th>\n      <td>SHOP114</td>\n      <td>High</td>\n    </tr>\n    <tr>\n      <th>19</th>\n      <td>SHOP087</td>\n      <td>Low</td>\n    </tr>\n    <tr>\n      <th>20</th>\n      <td>SHOP050</td>\n      <td>Moderate</td>\n    </tr>\n    <tr>\n      <th>21</th>\n      <td>SHOP061</td>\n      <td>High</td>\n    </tr>\n    <tr>\n      <th>22</th>\n      <td>SHOP056</td>\n      <td>High</td>\n    </tr>\n    <tr>\n      <th>23</th>\n      <td>SHOP070</td>\n      <td>Moderate</td>\n    </tr>\n  </tbody>\n</table>\n</div>"
     },
     "execution_count": 66,
     "metadata": {},
     "output_type": "execute_result"
    }
   ],
   "source": [
    "new_pred_df"
   ]
  },
  {
   "cell_type": "code",
   "execution_count": 67,
   "id": "48d1bc9a",
   "metadata": {
    "ExecuteTime": {
     "start_time": "2023-04-26T19:36:38.519676Z",
     "end_time": "2023-04-26T19:36:38.549074Z"
    }
   },
   "outputs": [],
   "source": [
    "Test.drop(['shop_profile'], axis=1, inplace=True)"
   ]
  },
  {
   "cell_type": "code",
   "execution_count": 68,
   "id": "69777223",
   "metadata": {
    "ExecuteTime": {
     "start_time": "2023-04-26T19:36:38.549074Z",
     "end_time": "2023-04-26T19:36:38.580326Z"
    }
   },
   "outputs": [
    {
     "data": {
      "text/plain": "    shop_id shop_profile\n0   SHOP046     Moderate\n1   SHOP024     Moderate\n2   SHOP023          Low\n3   SHOP097     Moderate\n4   SHOP044     Moderate\n5   SHOP030     Moderate\n6   SHOP038     Moderate\n7   SHOP029     Moderate\n8   SHOP096         High\n9   SHOP092     Moderate\n10  SHOP081          Low\n11  SHOP076          Low\n12  SHOP080          Low\n13  SHOP074         High\n14  SHOP107         High\n15  SHOP108          Low\n16  SHOP019     Moderate\n17  SHOP002         High\n18  SHOP114         High\n19  SHOP087          Low\n20  SHOP050     Moderate\n21  SHOP061         High\n22  SHOP056         High\n23  SHOP070     Moderate",
      "text/html": "<div>\n<style scoped>\n    .dataframe tbody tr th:only-of-type {\n        vertical-align: middle;\n    }\n\n    .dataframe tbody tr th {\n        vertical-align: top;\n    }\n\n    .dataframe thead th {\n        text-align: right;\n    }\n</style>\n<table border=\"1\" class=\"dataframe\">\n  <thead>\n    <tr style=\"text-align: right;\">\n      <th></th>\n      <th>shop_id</th>\n      <th>shop_profile</th>\n    </tr>\n  </thead>\n  <tbody>\n    <tr>\n      <th>0</th>\n      <td>SHOP046</td>\n      <td>Moderate</td>\n    </tr>\n    <tr>\n      <th>1</th>\n      <td>SHOP024</td>\n      <td>Moderate</td>\n    </tr>\n    <tr>\n      <th>2</th>\n      <td>SHOP023</td>\n      <td>Low</td>\n    </tr>\n    <tr>\n      <th>3</th>\n      <td>SHOP097</td>\n      <td>Moderate</td>\n    </tr>\n    <tr>\n      <th>4</th>\n      <td>SHOP044</td>\n      <td>Moderate</td>\n    </tr>\n    <tr>\n      <th>5</th>\n      <td>SHOP030</td>\n      <td>Moderate</td>\n    </tr>\n    <tr>\n      <th>6</th>\n      <td>SHOP038</td>\n      <td>Moderate</td>\n    </tr>\n    <tr>\n      <th>7</th>\n      <td>SHOP029</td>\n      <td>Moderate</td>\n    </tr>\n    <tr>\n      <th>8</th>\n      <td>SHOP096</td>\n      <td>High</td>\n    </tr>\n    <tr>\n      <th>9</th>\n      <td>SHOP092</td>\n      <td>Moderate</td>\n    </tr>\n    <tr>\n      <th>10</th>\n      <td>SHOP081</td>\n      <td>Low</td>\n    </tr>\n    <tr>\n      <th>11</th>\n      <td>SHOP076</td>\n      <td>Low</td>\n    </tr>\n    <tr>\n      <th>12</th>\n      <td>SHOP080</td>\n      <td>Low</td>\n    </tr>\n    <tr>\n      <th>13</th>\n      <td>SHOP074</td>\n      <td>High</td>\n    </tr>\n    <tr>\n      <th>14</th>\n      <td>SHOP107</td>\n      <td>High</td>\n    </tr>\n    <tr>\n      <th>15</th>\n      <td>SHOP108</td>\n      <td>Low</td>\n    </tr>\n    <tr>\n      <th>16</th>\n      <td>SHOP019</td>\n      <td>Moderate</td>\n    </tr>\n    <tr>\n      <th>17</th>\n      <td>SHOP002</td>\n      <td>High</td>\n    </tr>\n    <tr>\n      <th>18</th>\n      <td>SHOP114</td>\n      <td>High</td>\n    </tr>\n    <tr>\n      <th>19</th>\n      <td>SHOP087</td>\n      <td>Low</td>\n    </tr>\n    <tr>\n      <th>20</th>\n      <td>SHOP050</td>\n      <td>Moderate</td>\n    </tr>\n    <tr>\n      <th>21</th>\n      <td>SHOP061</td>\n      <td>High</td>\n    </tr>\n    <tr>\n      <th>22</th>\n      <td>SHOP056</td>\n      <td>High</td>\n    </tr>\n    <tr>\n      <th>23</th>\n      <td>SHOP070</td>\n      <td>Moderate</td>\n    </tr>\n  </tbody>\n</table>\n</div>"
     },
     "execution_count": 68,
     "metadata": {},
     "output_type": "execute_result"
    }
   ],
   "source": [
    "Test = pd.merge(Test, new_pred_df, on='shop_id', how='left')\n",
    "Test"
   ]
  },
  {
   "cell_type": "code",
   "execution_count": 69,
   "id": "3534580d",
   "metadata": {
    "ExecuteTime": {
     "start_time": "2023-04-26T19:36:38.564707Z",
     "end_time": "2023-04-26T19:36:38.580326Z"
    }
   },
   "outputs": [],
   "source": [
    "Test.to_csv('E:\\DSE\\DataStorm 4.0\\DataStorm077\\data-storm-4\\Testing-data.csv', index=False)"
   ]
  }
 ],
 "metadata": {
  "kernelspec": {
   "display_name": "Python 3 (ipykernel)",
   "language": "python",
   "name": "python3"
  },
  "language_info": {
   "codemirror_mode": {
    "name": "ipython",
    "version": 3
   },
   "file_extension": ".py",
   "mimetype": "text/x-python",
   "name": "python",
   "nbconvert_exporter": "python",
   "pygments_lexer": "ipython3",
   "version": "3.9.16"
  }
 },
 "nbformat": 4,
 "nbformat_minor": 5
}
